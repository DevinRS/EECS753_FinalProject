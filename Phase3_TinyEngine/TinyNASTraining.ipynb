{
  "nbformat": 4,
  "nbformat_minor": 0,
  "metadata": {
    "colab": {
      "provenance": [],
      "gpuType": "A100",
      "toc_visible": true
    },
    "kernelspec": {
      "name": "python3",
      "display_name": "Python 3"
    },
    "language_info": {
      "name": "python"
    },
    "accelerator": "GPU"
  },
  "cells": [
    {
      "cell_type": "markdown",
      "source": [
        "# 📝 Finding Optimal State Space\n",
        "\n",
        "## Description:\n",
        "\n",
        "This section defines the neural architecture search (NAS) state space, which determines the range of possible sub-network configurations that the search algorithm can explore. Following the MCUNet methodology, we tailor the state space to be hardware-efficient by varying a small set of critical hyperparameters that influence both model size and performance.\n",
        "\n",
        "For this demonstration, we define the following discrete search spaces:\n",
        "\n",
        "    Image resolutions: RESOLUTIONS = [32, 64, 96, 128]\n",
        "\n",
        "    Base widths (channels): WIDTHS = [16, 32, 48, 64]\n",
        "\n",
        "In addition to resolution and width, each model configuration is parameterized by:\n",
        "\n",
        "    'starting_kernel': [3, 5, 7, 9]\n",
        "    'depth_0': [1, 2, 3, 4]\n",
        "    'depth_1': [1, 2, 3, 4]\n",
        "    'kernel_0': [3, 5, 7, 9]\n",
        "    'kernel_1': [3, 5, 7, 9]\n",
        "\n",
        "This leads to a total of:\n",
        "\n",
        "    Per (resolution, width) → 1024 models\n",
        "\n",
        "    Across all (resolution, width) → 16,384 models\n",
        "\n",
        "To begin the search, we randomly sample 200 models from this space. These sampled models serve as the initial population for further evaluation and evolutionary optimization."
      ],
      "metadata": {
        "id": "qcoveg6IAg8R"
      }
    },
    {
      "cell_type": "markdown",
      "source": [
        "## 🛠️ For Each Sampled Model:\n",
        "\n",
        "1. **Constraint Check:**\n",
        "We check if the model meets deployment constraints (e.g., fits within the allowed TFLite flash size budget). In MCUNet, this is done using TinyEngine to check SRAM/Flash usage.\n",
        "\n",
        "2. **FLOPs Calculation:**\n",
        "We calculate the floating point operations (FLOPs) for each valid model as a proxy for compute efficiency."
      ],
      "metadata": {
        "id": "CJsubLBTDTbJ"
      }
    },
    {
      "cell_type": "markdown",
      "source": [
        "## 📊 Output Metric: Average FLOPs per State Space\n",
        "\n",
        "For each (resolution, width) state space, we compute the average FLOPs of valid models. This metric helps evaluate how efficient each state space is under hardware constraints."
      ],
      "metadata": {
        "id": "Tc18umvhDftZ"
      }
    },
    {
      "cell_type": "code",
      "source": [
        "# Define Search Space:\n",
        "RESOLUTIONS = [32, 64, 96, 128]\n",
        "WIDTHS = [16, 32, 48, 64]\n",
        "DEPTHS = [1, 2, 3, 4]\n",
        "KERNEL_SIZES = [3, 5, 7, 9]\n",
        "NUMBER_OF_MODELS_TO_CHECK = 200"
      ],
      "metadata": {
        "id": "bB1-kCOpD2Wf"
      },
      "execution_count": 16,
      "outputs": []
    },
    {
      "cell_type": "markdown",
      "source": [
        "# 1. Imports and Util Functions"
      ],
      "metadata": {
        "id": "kdS-irl9DqX0"
      }
    },
    {
      "cell_type": "code",
      "source": [
        "import os\n",
        "\n",
        "# Suppress TensorFlow C++ backend logs\n",
        "os.environ['TF_CPP_MIN_LOG_LEVEL'] = '3'\n",
        "\n",
        "import tensorflow as tf\n",
        "from keras import layers, models\n",
        "import numpy as np\n",
        "import matplotlib.pyplot as plt\n",
        "from tqdm import tqdm\n",
        "import random\n",
        "\n",
        "import contextlib\n",
        "import sys\n",
        "\n",
        "@contextlib.contextmanager\n",
        "def suppress_output():\n",
        "    with open(os.devnull, 'w') as devnull:\n",
        "        old_stdout = sys.stdout\n",
        "        old_stderr = sys.stderr\n",
        "        sys.stdout = devnull\n",
        "        sys.stderr = devnull\n",
        "        try:\n",
        "            yield\n",
        "        finally:\n",
        "            sys.stdout = old_stdout\n",
        "            sys.stderr = old_stderr\n",
        "\n",
        "@contextlib.contextmanager\n",
        "def suppress_os_stderr():\n",
        "    # Flush Python buffers\n",
        "    sys.stderr.flush()\n",
        "    # Save original stderr file descriptor\n",
        "    old_stderr_fd = os.dup(2)\n",
        "    # Redirect stderr to /dev/null\n",
        "    devnull_fd = os.open(os.devnull, os.O_WRONLY)\n",
        "    os.dup2(devnull_fd, 2)\n",
        "    os.close(devnull_fd)\n",
        "    try:\n",
        "        yield\n",
        "    finally:\n",
        "        # Restore original stderr\n",
        "        os.dup2(old_stderr_fd, 2)\n",
        "        os.close(old_stderr_fd)"
      ],
      "metadata": {
        "id": "CLZUVIVPDeP5"
      },
      "execution_count": 17,
      "outputs": []
    },
    {
      "cell_type": "markdown",
      "source": [
        "# 2. Core Functions\n",
        "\n",
        "Functions:\n",
        "1. build_model_in_ss(resolution=128, width=64, num_classes=10)\n",
        "2. calculate_flop(model, input_shape)\n",
        "3. convert_to_tflite(model)"
      ],
      "metadata": {
        "id": "9NzbY8f-Fi8G"
      }
    },
    {
      "cell_type": "code",
      "source": [
        "# 1. Function: build_model_in_ss\n",
        "def build_model_in_ss(resolution=128, width=64, num_classes=3):\n",
        "    \"\"\"\n",
        "    Builds a lightweight CNN model within a specified state space configuration.\n",
        "\n",
        "    This function generates a convolutional neural network architecture based on a given\n",
        "    input resolution and channel width. The network structure includes:\n",
        "\n",
        "    - An initial convolutional layer with a randomly selected kernel size from KERNEL_SIZES,\n",
        "      followed by batch normalization, ReLU activation, and max pooling.\n",
        "    - Two repeated convolutional blocks. Each block:\n",
        "        - Has a randomly chosen depth (number of Conv2D-BN-ReLU layers) from DEPTHS.\n",
        "        - Uses a randomly selected kernel size from KERNEL_SIZES for all convolutions in that block.\n",
        "        - Ends with a max pooling layer to reduce spatial resolution.\n",
        "    - A final classification head consisting of a flattening layer and a fully connected\n",
        "      softmax layer for classification.\n",
        "\n",
        "    This model structure is used during the random search over the state space, and its\n",
        "    architectural choices allow exploration of different computation and memory tradeoffs.\n",
        "    \"\"\"\n",
        "    input_shape = (resolution, resolution, 3)\n",
        "    model = models.Sequential()\n",
        "    model.add(layers.InputLayer(shape=input_shape))\n",
        "\n",
        "    # Initial Convolution\n",
        "    kernel_size = random.choice(KERNEL_SIZES)\n",
        "    model.add(layers.Conv2D(width, kernel_size=(kernel_size, kernel_size), padding='same'))\n",
        "    model.add(layers.BatchNormalization(name='bn1'))\n",
        "    model.add(layers.ReLU(name='act1'))\n",
        "    model.add(layers.MaxPooling2D(pool_size=(2, 2), name='pool1'))\n",
        "    # print(f\"Initial Conv Layer: {width} filters, kernel size {kernel_size}\")\n",
        "\n",
        "    # Repeated blocks\n",
        "    for i in range(2):\n",
        "        depth = random.choice(DEPTHS)\n",
        "        kernel_size = random.choice(KERNEL_SIZES)\n",
        "        for d in range(depth):\n",
        "            model.add(layers.Conv2D(width, kernel_size, padding='same'))\n",
        "            model.add(layers.BatchNormalization())\n",
        "            model.add(layers.ReLU())\n",
        "        model.add(layers.MaxPooling2D(pool_size=(2, 2)))\n",
        "        # print(f\"Block {i+1}: {depth} layers, kernel size {kernel_size}\")\n",
        "\n",
        "    # Classification head\n",
        "    model.add(layers.Flatten(name=\"flatten\"))\n",
        "    model.add(layers.Dense(num_classes, activation='softmax', name=\"output\"))\n",
        "\n",
        "    return model\n",
        "\n",
        "# 2. Function: calculate_flop\n",
        "def calculate_flop(model, input_shape):\n",
        "    \"\"\"\n",
        "    Estimates the total number of floating point operations (FLOPs) for a given Keras model.\n",
        "\n",
        "    This function simulates a forward pass using a dummy input tensor and traverses each layer\n",
        "    in the model to calculate its associated FLOPs. It currently supports Conv2D and Dense layers:\n",
        "\n",
        "    - For Conv2D layers:\n",
        "        FLOPs = 2 * H_out * W_out * C_in * K_h * K_w * C_out\n",
        "        where H_out and W_out are the output height and width,\n",
        "        C_in is the number of input channels, K_h and K_w are the kernel dimensions,\n",
        "        and C_out is the number of filters.\n",
        "\n",
        "    - For Dense layers:\n",
        "        FLOPs = 2 * Input_Dim * Output_Dim\n",
        "\n",
        "    Other layers (e.g., BatchNormalization, ReLU, MaxPooling, Flatten) are ignored or passed\n",
        "    through without contributing to the FLOPs count.\n",
        "    \"\"\"\n",
        "\n",
        "    total_flops = 0\n",
        "    dummy_input = tf.random.normal((1, *input_shape))  # batch size 1\n",
        "    x = dummy_input\n",
        "\n",
        "    for layer in model.layers:\n",
        "        if isinstance(layer, tf.keras.layers.Conv2D):\n",
        "            # Input shape: (batch, height, width, channels)\n",
        "            _, h_in, w_in, c_in = x.shape\n",
        "            kh, kw = layer.kernel_size\n",
        "            c_out = layer.filters\n",
        "\n",
        "            # Output dimensions (same padding, stride=1)\n",
        "            h_out, w_out = h_in, w_in\n",
        "\n",
        "            # FLOPs = 2 * H_out * W_out * Cin * Kh * Kw * Cout\n",
        "            flops = 2 * int(h_out) * int(w_out) * int(c_in) * kh * kw * c_out\n",
        "            total_flops += flops\n",
        "\n",
        "            # Update shape\n",
        "            x = layer(x)\n",
        "\n",
        "        elif isinstance(layer, tf.keras.layers.Dense):\n",
        "            input_dim = np.prod(x.shape[1:])\n",
        "            output_dim = layer.units\n",
        "\n",
        "            # FLOPs = 2 * input * output\n",
        "            flops = 2 * int(input_dim) * int(output_dim)\n",
        "            total_flops += flops\n",
        "            x = layer(x)  # for shape tracking\n",
        "\n",
        "        else:\n",
        "            try:\n",
        "                x = layer(x)  # for shape tracking\n",
        "            except:\n",
        "                pass  # skip non-parametric layers like Flatten, ReLU, etc.\n",
        "\n",
        "    return total_flops\n",
        "\n",
        "# 3. Function: convert_to_tflite\n",
        "def convert_to_tflite(model):\n",
        "    \"\"\"\n",
        "    Converts a Keras model to a TensorFlow Lite model.\n",
        "\n",
        "    This function uses the TensorFlow Lite converter\n",
        "    \"\"\"\n",
        "\n",
        "    converter = tf.lite.TFLiteConverter.from_keras_model(model)\n",
        "    converter.optimizations = [tf.lite.Optimize.DEFAULT]\n",
        "    with suppress_os_stderr():\n",
        "        tflite_model = converter.convert()\n",
        "\n",
        "    interpreter = tf.lite.Interpreter(model_content=tflite_model)\n",
        "    interpreter.allocate_tensors()\n",
        "\n",
        "    return tflite_model, interpreter\n",
        "\n",
        "# 4. Function: run_search\n",
        "def run_search(resolution=128, width=64, num_classes=3):\n",
        "    \"\"\"\n",
        "    This function performs a random model search within a given state space configuration\n",
        "    (resolution and width) to evaluate models based on their flash size and floating point\n",
        "    operations (FLOPs).\n",
        "\n",
        "    Steps:\n",
        "    1. **Model Generation**: A random CNN model is created using `build_model_in_ss`\n",
        "       with the specified resolution and width.\n",
        "    2. **TFLite Conversion**: The generated model is converted to TensorFlow Lite (TFLite) format\n",
        "       to calculate its flash size.\n",
        "    3. **Flash Size Check**: The TFLite model is accepted if its flash size is below 1MB.\n",
        "    4. **FLOP Estimation**: For each accepted model, the number of floating point operations (FLOPs)\n",
        "       is estimated and converted to millions of FLOPs (MFLOPs).\n",
        "    5. **Metrics Calculation**: The average FLOPs of the accepted models are calculated and printed.\n",
        "    \"\"\"\n",
        "\n",
        "    flop_dict = {}\n",
        "    print(\"============================\")\n",
        "    print(f\"⚙️ Generating {NUMBER_OF_MODELS_TO_CHECK} models per state\")\n",
        "    print(\"============================\")\n",
        "    r = resolution\n",
        "    w = width\n",
        "    flops_total = 0\n",
        "    accepted_models = 0\n",
        "    for i in tqdm(range(NUMBER_OF_MODELS_TO_CHECK), desc=f\"Generating models for resolution {r} and width {w}\"):\n",
        "        model = build_model_in_ss(resolution=r, width=w, num_classes=num_classes)\n",
        "\n",
        "        # THIS IS SPECIFIC FOR FLASH SIZE CONSTRAINT AND TFLITE CONVERTER\n",
        "        # =================================================================\n",
        "        with suppress_output():\n",
        "            tflite_model, interpreter = convert_to_tflite(model)\n",
        "        flash_size = len(tflite_model)\n",
        "        # check if flash size are below 500KB\n",
        "        if flash_size < (1e6/2):\n",
        "            flop_estimate = calculate_flop(model, input_shape=(r, r, 3))\n",
        "            accepted_models += 1\n",
        "            flops = round(flop_estimate / 1e6)  # Convert to millions of FLOPs\n",
        "            flops_total += flops\n",
        "        else:\n",
        "            continue\n",
        "         # =================================================================\n",
        "    print(f\"🟢 Accepted models: {accepted_models}\")\n",
        "    flop_dict[(r, w)] = flops_total / accepted_models if accepted_models > 0 else 0\n",
        "\n",
        "    for key, value in flop_dict.items():\n",
        "        print(f\"🟢 Resolution: {key[0]}, Width: {key[1]} -> Average FLOPs: {value} MFLOPs\")"
      ],
      "metadata": {
        "id": "x5q97xflDx95"
      },
      "execution_count": 18,
      "outputs": []
    },
    {
      "cell_type": "markdown",
      "source": [
        "# 3. Main Search"
      ],
      "metadata": {
        "id": "VMQOddqyF4W0"
      }
    },
    {
      "cell_type": "code",
      "source": [
        "# run_search for the entire state space (WILL TAKE A LONG TIME!)\n",
        "for r in RESOLUTIONS:\n",
        "    for w in WIDTHS:\n",
        "        run_search(resolution=r, width=w, num_classes=3)"
      ],
      "metadata": {
        "colab": {
          "base_uri": "https://localhost:8080/",
          "height": 193
        },
        "id": "ST_lOvCuJZu8",
        "outputId": "7e457e32-58f5-4095-d86c-517e002544de"
      },
      "execution_count": 13,
      "outputs": [
        {
          "output_type": "error",
          "ename": "NameError",
          "evalue": "name 'RESOLUTIONS' is not defined",
          "traceback": [
            "\u001b[0;31m---------------------------------------------------------------------------\u001b[0m",
            "\u001b[0;31mNameError\u001b[0m                                 Traceback (most recent call last)",
            "\u001b[0;32m<ipython-input-13-e225d8c8af68>\u001b[0m in \u001b[0;36m<cell line: 0>\u001b[0;34m()\u001b[0m\n\u001b[1;32m      1\u001b[0m \u001b[0;31m# run_search for the entire state space (WILL TAKE A LONG TIME!)\u001b[0m\u001b[0;34m\u001b[0m\u001b[0;34m\u001b[0m\u001b[0m\n\u001b[0;32m----> 2\u001b[0;31m \u001b[0;32mfor\u001b[0m \u001b[0mr\u001b[0m \u001b[0;32min\u001b[0m \u001b[0mRESOLUTIONS\u001b[0m\u001b[0;34m:\u001b[0m\u001b[0;34m\u001b[0m\u001b[0;34m\u001b[0m\u001b[0m\n\u001b[0m\u001b[1;32m      3\u001b[0m     \u001b[0;32mfor\u001b[0m \u001b[0mw\u001b[0m \u001b[0;32min\u001b[0m \u001b[0mWIDTHS\u001b[0m\u001b[0;34m:\u001b[0m\u001b[0;34m\u001b[0m\u001b[0;34m\u001b[0m\u001b[0m\n\u001b[1;32m      4\u001b[0m         \u001b[0mrun_search\u001b[0m\u001b[0;34m(\u001b[0m\u001b[0mresolution\u001b[0m\u001b[0;34m=\u001b[0m\u001b[0mr\u001b[0m\u001b[0;34m,\u001b[0m \u001b[0mwidth\u001b[0m\u001b[0;34m=\u001b[0m\u001b[0mw\u001b[0m\u001b[0;34m,\u001b[0m \u001b[0mnum_classes\u001b[0m\u001b[0;34m=\u001b[0m\u001b[0;36m3\u001b[0m\u001b[0;34m)\u001b[0m\u001b[0;34m\u001b[0m\u001b[0;34m\u001b[0m\u001b[0m\n",
            "\u001b[0;31mNameError\u001b[0m: name 'RESOLUTIONS' is not defined"
          ]
        }
      ]
    },
    {
      "cell_type": "markdown",
      "source": [
        "We manually run the run_search for now for each state space to prevent crashes. If you wish to iterate over the entire resolution, all you need to do is run the code above"
      ],
      "metadata": {
        "id": "EpYdDp5uJj8y"
      }
    },
    {
      "cell_type": "code",
      "source": [
        "run_search(resolution=32, width=16, num_classes=3)\n",
        "run_search(resolution=32, width=32, num_classes=3)\n",
        "run_search(resolution=32, width=48, num_classes=3)\n",
        "run_search(resolution=32, width=64, num_classes=3)"
      ],
      "metadata": {
        "colab": {
          "base_uri": "https://localhost:8080/"
        },
        "id": "kiaFaJQHF57v",
        "outputId": "5563e75f-51d4-4aff-db8e-f74fd648f6f8"
      },
      "execution_count": 19,
      "outputs": [
        {
          "output_type": "stream",
          "name": "stdout",
          "text": [
            "============================\n",
            "⚙️ Generating 200 models per state\n",
            "============================\n"
          ]
        },
        {
          "output_type": "stream",
          "name": "stderr",
          "text": [
            "Generating models for resolution 32 and width 16: 100%|██████████| 200/200 [08:13<00:00,  2.47s/it]\n"
          ]
        },
        {
          "output_type": "stream",
          "name": "stdout",
          "text": [
            "🟢 Accepted models: 200\n",
            "🟢 Resolution: 32, Width: 16 -> Average FLOPs: 21.21 MFLOPs\n",
            "============================\n",
            "⚙️ Generating 200 models per state\n",
            "============================\n"
          ]
        },
        {
          "output_type": "stream",
          "name": "stderr",
          "text": [
            "Generating models for resolution 32 and width 32: 100%|██████████| 200/200 [08:10<00:00,  2.45s/it]\n"
          ]
        },
        {
          "output_type": "stream",
          "name": "stdout",
          "text": [
            "🟢 Accepted models: 191\n",
            "🟢 Resolution: 32, Width: 32 -> Average FLOPs: 74.0261780104712 MFLOPs\n",
            "============================\n",
            "⚙️ Generating 200 models per state\n",
            "============================\n"
          ]
        },
        {
          "output_type": "stream",
          "name": "stderr",
          "text": [
            "Generating models for resolution 32 and width 48: 100%|██████████| 200/200 [08:22<00:00,  2.51s/it]\n"
          ]
        },
        {
          "output_type": "stream",
          "name": "stdout",
          "text": [
            "🟢 Accepted models: 118\n",
            "🟢 Resolution: 32, Width: 48 -> Average FLOPs: 101.14406779661017 MFLOPs\n",
            "============================\n",
            "⚙️ Generating 200 models per state\n",
            "============================\n"
          ]
        },
        {
          "output_type": "stream",
          "name": "stderr",
          "text": [
            "Generating models for resolution 32 and width 64: 100%|██████████| 200/200 [08:39<00:00,  2.60s/it]"
          ]
        },
        {
          "output_type": "stream",
          "name": "stdout",
          "text": [
            "🟢 Accepted models: 55\n",
            "🟢 Resolution: 32, Width: 64 -> Average FLOPs: 116.61818181818182 MFLOPs\n"
          ]
        },
        {
          "output_type": "stream",
          "name": "stderr",
          "text": [
            "\n"
          ]
        }
      ]
    },
    {
      "cell_type": "code",
      "source": [
        "run_search(resolution=64, width=16, num_classes=3)\n",
        "run_search(resolution=64, width=32, num_classes=3)\n",
        "run_search(resolution=64, width=48, num_classes=3)\n",
        "run_search(resolution=64, width=64, num_classes=3)"
      ],
      "metadata": {
        "colab": {
          "base_uri": "https://localhost:8080/"
        },
        "id": "rVx7AknUWipo",
        "outputId": "52d2d37c-9ef2-4061-e69b-790ce7d0bdbd"
      },
      "execution_count": 20,
      "outputs": [
        {
          "output_type": "stream",
          "name": "stdout",
          "text": [
            "============================\n",
            "⚙️ Generating 200 models per state\n",
            "============================\n"
          ]
        },
        {
          "output_type": "stream",
          "name": "stderr",
          "text": [
            "Generating models for resolution 64 and width 16: 100%|██████████| 200/200 [07:47<00:00,  2.34s/it]\n"
          ]
        },
        {
          "output_type": "stream",
          "name": "stdout",
          "text": [
            "🟢 Accepted models: 200\n",
            "🟢 Resolution: 64, Width: 16 -> Average FLOPs: 79.98 MFLOPs\n",
            "============================\n",
            "⚙️ Generating 200 models per state\n",
            "============================\n"
          ]
        },
        {
          "output_type": "stream",
          "name": "stderr",
          "text": [
            "Generating models for resolution 64 and width 32: 100%|██████████| 200/200 [08:10<00:00,  2.45s/it]\n"
          ]
        },
        {
          "output_type": "stream",
          "name": "stdout",
          "text": [
            "🟢 Accepted models: 192\n",
            "🟢 Resolution: 64, Width: 32 -> Average FLOPs: 298.5208333333333 MFLOPs\n",
            "============================\n",
            "⚙️ Generating 200 models per state\n",
            "============================\n"
          ]
        },
        {
          "output_type": "stream",
          "name": "stderr",
          "text": [
            "Generating models for resolution 64 and width 48: 100%|██████████| 200/200 [08:20<00:00,  2.50s/it]\n"
          ]
        },
        {
          "output_type": "stream",
          "name": "stdout",
          "text": [
            "🟢 Accepted models: 116\n",
            "🟢 Resolution: 64, Width: 48 -> Average FLOPs: 396.4051724137931 MFLOPs\n",
            "============================\n",
            "⚙️ Generating 200 models per state\n",
            "============================\n"
          ]
        },
        {
          "output_type": "stream",
          "name": "stderr",
          "text": [
            "Generating models for resolution 64 and width 64: 100%|██████████| 200/200 [08:53<00:00,  2.67s/it]"
          ]
        },
        {
          "output_type": "stream",
          "name": "stdout",
          "text": [
            "🟢 Accepted models: 55\n",
            "🟢 Resolution: 64, Width: 64 -> Average FLOPs: 449.5272727272727 MFLOPs\n"
          ]
        },
        {
          "output_type": "stream",
          "name": "stderr",
          "text": [
            "\n"
          ]
        }
      ]
    },
    {
      "cell_type": "code",
      "source": [
        "run_search(resolution=96, width=16, num_classes=3)\n",
        "run_search(resolution=96, width=32, num_classes=3)\n",
        "run_search(resolution=96, width=48, num_classes=3)\n",
        "run_search(resolution=96, width=64, num_classes=3)"
      ],
      "metadata": {
        "colab": {
          "base_uri": "https://localhost:8080/"
        },
        "id": "gZ0_Zhb7eEtI",
        "outputId": "4f8ebfce-1693-463d-82e9-0ede698a03ce"
      },
      "execution_count": 21,
      "outputs": [
        {
          "output_type": "stream",
          "name": "stdout",
          "text": [
            "============================\n",
            "⚙️ Generating 200 models per state\n",
            "============================\n"
          ]
        },
        {
          "output_type": "stream",
          "name": "stderr",
          "text": [
            "Generating models for resolution 96 and width 16: 100%|██████████| 200/200 [07:42<00:00,  2.31s/it]\n"
          ]
        },
        {
          "output_type": "stream",
          "name": "stdout",
          "text": [
            "🟢 Accepted models: 200\n",
            "🟢 Resolution: 96, Width: 16 -> Average FLOPs: 180.23 MFLOPs\n",
            "============================\n",
            "⚙️ Generating 200 models per state\n",
            "============================\n"
          ]
        },
        {
          "output_type": "stream",
          "name": "stderr",
          "text": [
            "Generating models for resolution 96 and width 32: 100%|██████████| 200/200 [08:06<00:00,  2.43s/it]\n"
          ]
        },
        {
          "output_type": "stream",
          "name": "stdout",
          "text": [
            "🟢 Accepted models: 191\n",
            "🟢 Resolution: 96, Width: 32 -> Average FLOPs: 653.5340314136125 MFLOPs\n",
            "============================\n",
            "⚙️ Generating 200 models per state\n",
            "============================\n"
          ]
        },
        {
          "output_type": "stream",
          "name": "stderr",
          "text": [
            "Generating models for resolution 96 and width 48: 100%|██████████| 200/200 [08:37<00:00,  2.59s/it]\n"
          ]
        },
        {
          "output_type": "stream",
          "name": "stdout",
          "text": [
            "🟢 Accepted models: 109\n",
            "🟢 Resolution: 96, Width: 48 -> Average FLOPs: 910.2018348623853 MFLOPs\n",
            "============================\n",
            "⚙️ Generating 200 models per state\n",
            "============================\n"
          ]
        },
        {
          "output_type": "stream",
          "name": "stderr",
          "text": [
            "Generating models for resolution 96 and width 64: 100%|██████████| 200/200 [08:42<00:00,  2.61s/it]"
          ]
        },
        {
          "output_type": "stream",
          "name": "stdout",
          "text": [
            "🟢 Accepted models: 65\n",
            "🟢 Resolution: 96, Width: 64 -> Average FLOPs: 997.7076923076924 MFLOPs\n"
          ]
        },
        {
          "output_type": "stream",
          "name": "stderr",
          "text": [
            "\n"
          ]
        }
      ]
    },
    {
      "cell_type": "code",
      "source": [
        "run_search(resolution=128, width=16, num_classes=3)\n",
        "run_search(resolution=128, width=32, num_classes=3)\n",
        "run_search(resolution=128, width=48, num_classes=3)\n",
        "run_search(resolution=128, width=64, num_classes=3)"
      ],
      "metadata": {
        "colab": {
          "base_uri": "https://localhost:8080/"
        },
        "id": "mEj-O5BoxGtq",
        "outputId": "15b4734f-5ecf-4d2d-e767-ff5a6fa69f47"
      },
      "execution_count": 22,
      "outputs": [
        {
          "output_type": "stream",
          "name": "stdout",
          "text": [
            "============================\n",
            "⚙️ Generating 200 models per state\n",
            "============================\n"
          ]
        },
        {
          "output_type": "stream",
          "name": "stderr",
          "text": [
            "Generating models for resolution 128 and width 16: 100%|██████████| 200/200 [08:09<00:00,  2.45s/it]\n"
          ]
        },
        {
          "output_type": "stream",
          "name": "stdout",
          "text": [
            "🟢 Accepted models: 200\n",
            "🟢 Resolution: 128, Width: 16 -> Average FLOPs: 328.405 MFLOPs\n",
            "============================\n",
            "⚙️ Generating 200 models per state\n",
            "============================\n"
          ]
        },
        {
          "output_type": "stream",
          "name": "stderr",
          "text": [
            "Generating models for resolution 128 and width 32: 100%|██████████| 200/200 [08:26<00:00,  2.53s/it]\n"
          ]
        },
        {
          "output_type": "stream",
          "name": "stdout",
          "text": [
            "🟢 Accepted models: 189\n",
            "🟢 Resolution: 128, Width: 32 -> Average FLOPs: 1086.8624338624338 MFLOPs\n",
            "============================\n",
            "⚙️ Generating 200 models per state\n",
            "============================\n"
          ]
        },
        {
          "output_type": "stream",
          "name": "stderr",
          "text": [
            "Generating models for resolution 128 and width 48: 100%|██████████| 200/200 [08:37<00:00,  2.59s/it]\n"
          ]
        },
        {
          "output_type": "stream",
          "name": "stdout",
          "text": [
            "🟢 Accepted models: 101\n",
            "🟢 Resolution: 128, Width: 48 -> Average FLOPs: 1538.5742574257426 MFLOPs\n",
            "============================\n",
            "⚙️ Generating 200 models per state\n",
            "============================\n"
          ]
        },
        {
          "output_type": "stream",
          "name": "stderr",
          "text": [
            "Generating models for resolution 128 and width 64: 100%|██████████| 200/200 [08:45<00:00,  2.63s/it]"
          ]
        },
        {
          "output_type": "stream",
          "name": "stdout",
          "text": [
            "🟢 Accepted models: 61\n",
            "🟢 Resolution: 128, Width: 64 -> Average FLOPs: 1702.688524590164 MFLOPs\n"
          ]
        },
        {
          "output_type": "stream",
          "name": "stderr",
          "text": [
            "\n"
          ]
        }
      ]
    },
    {
      "cell_type": "markdown",
      "source": [
        "# 📌 Summary\n",
        "\n",
        "## State Space Search Result:\n",
        "\n",
        "The best performing state space is resolution 128 and width 64: <br>\n",
        "🟢 Accepted models: 61 <br>\n",
        "🟢 Resolution: 128, Width: 64 -> Average FLOPs: 1702.688524590164 MFLOPs"
      ],
      "metadata": {
        "id": "IQi1EGasxgaU"
      }
    },
    {
      "cell_type": "markdown",
      "source": [
        "# 📝 NAS w/ Weight Sharing and Evolution Algorithm\n",
        "\n",
        "## Description:\n",
        "\n",
        "This section implements a neural architecture search (NAS) strategy using an evolutionary algorithm combined with weight sharing. Instead of training each candidate architecture from scratch, we reuse weights across different configurations to drastically reduce search time and computational cost. The evolutionary process maintains a population of architecture candidates, selects top-performing individuals based on validation accuracy, and generates new candidates through crossover and mutation. This hybrid approach leverages the exploration capability of evolution and the efficiency of weight sharing, allowing for scalable and hardware-aware NAS."
      ],
      "metadata": {
        "id": "_gYSWYLZz0hV"
      }
    },
    {
      "cell_type": "markdown",
      "source": [
        "# 1. Imports and Dataset Loader"
      ],
      "metadata": {
        "id": "jFO-ZHqiYG_b"
      }
    },
    {
      "cell_type": "code",
      "source": [
        "import contextlib\n",
        "import sys\n",
        "import os\n",
        "\n",
        "@contextlib.contextmanager\n",
        "def suppress_output():\n",
        "    with open(os.devnull, 'w') as devnull:\n",
        "        old_stdout = sys.stdout\n",
        "        old_stderr = sys.stderr\n",
        "        sys.stdout = devnull\n",
        "        sys.stderr = devnull\n",
        "        try:\n",
        "            yield\n",
        "        finally:\n",
        "            sys.stdout = old_stdout\n",
        "            sys.stderr = old_stderr\n",
        "\n",
        "@contextlib.contextmanager\n",
        "def suppress_os_stderr():\n",
        "    # Flush Python buffers\n",
        "    sys.stderr.flush()\n",
        "    # Save original stderr file descriptor\n",
        "    old_stderr_fd = os.dup(2)\n",
        "    # Redirect stderr to /dev/null\n",
        "    devnull_fd = os.open(os.devnull, os.O_WRONLY)\n",
        "    os.dup2(devnull_fd, 2)\n",
        "    os.close(devnull_fd)\n",
        "    try:\n",
        "        yield\n",
        "    finally:\n",
        "        # Restore original stderr\n",
        "        os.dup2(old_stderr_fd, 2)\n",
        "        os.close(old_stderr_fd)"
      ],
      "metadata": {
        "id": "2vO5-VGXgcEF"
      },
      "execution_count": 1,
      "outputs": []
    },
    {
      "cell_type": "code",
      "source": [
        "import tensorflow as tf\n",
        "from keras import layers, models\n",
        "import numpy as np\n",
        "import tensorflow_datasets as tfds\n",
        "from re import search\n",
        "import random\n",
        "import copy\n",
        "from tqdm import tqdm"
      ],
      "metadata": {
        "id": "kfZYgav98ZLg"
      },
      "execution_count": 2,
      "outputs": []
    },
    {
      "cell_type": "markdown",
      "source": [
        "## 🛠️ Global Variable Definition:\n",
        "\n",
        "For this demonstration, we define the following settings:\n",
        "\n",
        "\n",
        "    # Best settings according to state space optimiation\n",
        "    RESOLUTION = 128\n",
        "\n",
        "    WIDTH = 64\n",
        "\n",
        "    NUM_CLASSES = 3\n",
        "\n",
        "    BATCH_SIZE = 128\n",
        "\n",
        "and also:\n",
        "\n",
        "    # Evolution search related params\n",
        "    KERNEL = [3, 5, 7, 9]\n",
        "    DEPTH = [1, 2, 3, 4]\n",
        "    POP_SIZE = 10\n",
        "    POP_ITERATIONS = 10\n",
        "    search_space = {\n",
        "        'starting_kernel': KERNEL,\n",
        "        'depth_0': DEPTH,\n",
        "        'depth_1': DEPTH,\n",
        "        'kernel_0': KERNEL,\n",
        "        'kernel_1': KERNEL,\n",
        "    }"
      ],
      "metadata": {
        "id": "k_hOlpS28OHu"
      }
    },
    {
      "cell_type": "code",
      "source": [
        "RESOLUTION = 128\n",
        "WIDTH = 64\n",
        "NUM_CLASSES = 3\n",
        "BATCH_SIZE = 128\n",
        "\n",
        "# Evolution Search Related Param\n",
        "KERNEL = [3, 5, 7, 9]\n",
        "DEPTH = [1, 2, 3, 4]\n",
        "POP_SIZE = 10\n",
        "POP_ITERATIONS = 10\n",
        "search_space = {\n",
        "    'starting_kernel': KERNEL,\n",
        "    'depth_0': DEPTH,\n",
        "    'depth_1': DEPTH,\n",
        "    'kernel_0': KERNEL,\n",
        "    'kernel_1': KERNEL,\n",
        "}"
      ],
      "metadata": {
        "id": "HFZXC-CTV5td"
      },
      "execution_count": 21,
      "outputs": []
    },
    {
      "cell_type": "code",
      "source": [
        "# 1. Load dataset with 80% train, 20% validation, and full test split\n",
        "(ds_train, ds_val, ds_test) = tfds.load(\n",
        "    'rock_paper_scissors',\n",
        "    split=['train[:80%]', 'train[80%:]', 'test'],\n",
        "    as_supervised=True,\n",
        "    with_info=False\n",
        ")\n",
        "\n",
        "# 2. Preprocessing function\n",
        "def preprocess(x, y):\n",
        "    x = tf.image.resize(x, [IMG_SIZE, IMG_SIZE])\n",
        "    x = tf.cast(x, tf.float32) / 255.0\n",
        "    y = tf.one_hot(y, NUM_CLASSES)\n",
        "    return x, y\n",
        "\n",
        "# 2. Define image size and preprocessing\n",
        "IMG_SIZE = RESOLUTION\n",
        "\n",
        "# 3. Apply preprocessing and batching\n",
        "train_ds = ds_train.map(preprocess).shuffle(1000).batch(BATCH_SIZE).prefetch(tf.data.AUTOTUNE)\n",
        "val_ds = ds_val.map(preprocess).batch(BATCH_SIZE).prefetch(tf.data.AUTOTUNE)\n",
        "test_ds = ds_test.map(preprocess).batch(BATCH_SIZE).prefetch(tf.data.AUTOTUNE)"
      ],
      "metadata": {
        "id": "CuxlwuQaV2dD"
      },
      "execution_count": 22,
      "outputs": []
    },
    {
      "cell_type": "markdown",
      "source": [
        "# 2. Core Functions\n",
        "\n",
        "**Functions:**<br>\n",
        "1. build_model_sn(resolution=128, width=64, num_classes=3)\n",
        "2. slice_kernel(weight, target_kernel_size)\n",
        "3. sample_subnetwork(super_model, config, resolution=128, width=64, num_classes=3)\n",
        "<br><br> *Sub-network fitness evaluation functions* <br><br>\n",
        "4. convert_to_tflite(model)\n",
        "5. calibrate_batchnorm(model, dataset, num_batches)\n",
        "<br><br> *Evolution algorithm functions* <br><br>\n",
        "6. crossover(parent1, parent2)\n",
        "7. mutate(config, mutation_prob=0.5, search_space=None)\n",
        "8. evolve_one_generation(population, search_space, mutation_prob=0.5)\n",
        "<br><br> *Final tflite evaluation* <br><br>\n",
        "9. evaluate_tflite_model(interpreter, test_ds)"
      ],
      "metadata": {
        "id": "PMQvUWN1VYg3"
      }
    },
    {
      "cell_type": "code",
      "source": [
        "# 1. Function: build_model_sn\n",
        "def build_model_sn(resolution=128, width=64, num_classes=3):\n",
        "    \"\"\"\n",
        "    Builds the Super-Network (SN) model, which serves as the full architecture\n",
        "    containing all possible sub-network configurations.\n",
        "\n",
        "    This model is the over-parameterized backbone from which smaller sub-networks\n",
        "    (SS) are sampled during architecture search. It includes repeated convolutional\n",
        "    blocks with consistent kernel sizes and width across layers. The design ensures\n",
        "    that any smaller model sampled from the search space is a valid subgraph of this\n",
        "    super-network.\n",
        "    \"\"\"\n",
        "\n",
        "    input_shape = (resolution, resolution, 3)\n",
        "    model = models.Sequential()\n",
        "    model.add(layers.InputLayer(shape=input_shape, name='input_layer'))\n",
        "\n",
        "    # Initial Convolution\n",
        "    kernel_size = 9\n",
        "    model.add(layers.Conv2D(width, kernel_size=(kernel_size, kernel_size), padding='same', name='conv0'))\n",
        "    model.add(layers.BatchNormalization(name='bn0'))\n",
        "    model.add(layers.ReLU(name='act0'))\n",
        "    model.add(layers.MaxPooling2D(pool_size=(2, 2), name='pool0'))\n",
        "    # print(f\"Initial Conv Layer: {width} filters, kernel size {kernel_size}\")\n",
        "\n",
        "    # Repeated blocks\n",
        "    for i in range(2):\n",
        "        depth = 4\n",
        "        kernel_size = 9\n",
        "        for d in range(depth):\n",
        "            model.add(layers.Conv2D(width, kernel_size, padding='same', name=f'block{i}_conv{d}'))\n",
        "            model.add(layers.BatchNormalization())\n",
        "            model.add(layers.ReLU())\n",
        "        model.add(layers.MaxPooling2D(pool_size=(2, 2)))\n",
        "        # print(f\"Block {i+1}: {depth} layers, kernel size {kernel_size}\")\n",
        "\n",
        "    # Classification head\n",
        "    model.add(layers.Flatten(name=\"flatten\"))\n",
        "    model.add(layers.Dense(num_classes, activation='softmax', name=\"output\"))\n",
        "\n",
        "    return model\n",
        "\n",
        "# 2. Function: slice_kernel\n",
        "def slice_kernel(weight, target_kernel_size):\n",
        "    \"\"\"\n",
        "    Crop weights of kernel to target kernel size.\n",
        "    \"\"\"\n",
        "    original_kernel_size = weight.shape[0]\n",
        "    center = original_kernel_size // 2\n",
        "    half = target_kernel_size // 2\n",
        "    start = center - half\n",
        "    end = center + half + 1\n",
        "    return weight[start:end, start:end, :, :]\n",
        "\n",
        "# 3. Function: sample_subnetwork\n",
        "def sample_subnetwork(super_model, config, resolution=128, width=64, num_classes=3):\n",
        "    \"\"\"\n",
        "    Samples a sub-network from a given Super-Network based on a specified configuration.\n",
        "\n",
        "    This function constructs a smaller architecture that inherits weights from the\n",
        "    Super-Network (`super_model`). The sampled sub-network mimics a specific architecture\n",
        "    defined by `config`, typically varying in kernel sizes and depth per block. It is\n",
        "    useful for weight-sharing neural architecture search (NAS), where models are\n",
        "    efficiently evaluated without training from scratch.\n",
        "\n",
        "    Steps:\n",
        "    1. **Input Layer**: Initializes the input layer with the given resolution.\n",
        "    2. **Initial Convolution**:\n",
        "       - Extracts the weights from the `conv0` layer of the super-model.\n",
        "       - Slices the kernel based on `config['starting_kernel']`.\n",
        "       - Reconstructs the Conv2D layer with the sliced weights.\n",
        "    3. **Repeated Blocks**:\n",
        "       - For each of the two blocks:\n",
        "         - Uses the configured depth (`depth_i`) and kernel size (`kernel_i`).\n",
        "         - Extracts and slices weights from the corresponding super-model layers.\n",
        "         - Builds and adds Conv2D → BN → ReLU layers accordingly.\n",
        "         - Applies max pooling after each block.\n",
        "    4. **Classification Head**:\n",
        "       - Flattens the feature maps and adds a Dense layer with softmax activation\n",
        "         to produce class probabilities.\n",
        "    \"\"\"\n",
        "\n",
        "    input_shape = (resolution, resolution, 3)\n",
        "    model = models.Sequential()\n",
        "    model.add(layers.InputLayer(shape=input_shape, name='input_layer'))\n",
        "\n",
        "    # 1. First conv\n",
        "    conv0 = super_model.get_layer(\"conv0\")  # Get the layer from the super model\n",
        "    kernel_size = config['starting_kernel']\n",
        "\n",
        "    # Extract kernel weights from the conv0 layer of the super_model\n",
        "    kernel_weights = conv0.get_weights()[0]  # Shape should be (height, width, input_channels, output_channels)\n",
        "    bias_weights = conv0.get_weights()[1]  # Shape should be (output_channels,)\n",
        "\n",
        "    # You can slice the kernel based on your kernel size, if required\n",
        "    sliced_kernel = slice_kernel(kernel_weights, kernel_size)  # Define this function based on your needs\n",
        "\n",
        "    # Create a Conv2D layer with the desired kernel and bias weights\n",
        "    conv_layer = layers.Conv2D(width, kernel_size=(kernel_size, kernel_size), padding='same', name='conv0')\n",
        "\n",
        "    # Set the new weights (kernel and bias) for the Conv2D layer\n",
        "    conv_layer.build((1,32,32,3))\n",
        "    conv_layer.set_weights([sliced_kernel, bias_weights])\n",
        "\n",
        "    # Add this new Conv2D layer to the model\n",
        "    model.add(conv_layer)\n",
        "    model.add(layers.BatchNormalization(name='bn0'))\n",
        "    model.add(layers.ReLU(name='act0'))\n",
        "    model.add(layers.MaxPooling2D(pool_size=(2, 2), name='pool0'))\n",
        "\n",
        "    current_shape = (resolution/2, resolution/2, width)\n",
        "\n",
        "    # 2. Repeated Blocks\n",
        "    for i in range(2):\n",
        "        depth = config[f'depth_{i}']\n",
        "        kernel_size = config[f'kernel_{i}']\n",
        "        for d in range(depth):\n",
        "            conv = super_model.get_layer(f'block{i}_conv{d}')\n",
        "            kernel_weights = conv.get_weights()[0]\n",
        "            bias_weights = conv.get_weights()[1]\n",
        "            sliced_kernel = slice_kernel(kernel_weights, kernel_size)\n",
        "            conv_layer = layers.Conv2D(width, kernel_size, padding='same', name=f'block{i}_conv{d}')\n",
        "            conv_layer.build((1,) + current_shape)\n",
        "            conv_layer.set_weights([sliced_kernel, bias_weights])\n",
        "            model.add(conv_layer)\n",
        "            model.add(layers.BatchNormalization())\n",
        "            model.add(layers.ReLU())\n",
        "        model.add(layers.MaxPooling2D(pool_size=(2, 2)))\n",
        "        current_shape = (current_shape[0]/2, current_shape[1]/2, width)\n",
        "\n",
        "    # 3. Classification head\n",
        "    model.add(layers.Flatten(name=\"flatten\"))\n",
        "    model.add(layers.Dense(num_classes, activation='softmax', name=\"output\"))\n",
        "\n",
        "    return model\n",
        "\n",
        "# 4. Function: convert_to_tflite\n",
        "def convert_to_tflite(model):\n",
        "    converter = tf.lite.TFLiteConverter.from_keras_model(model)\n",
        "    converter.optimizations = [tf.lite.Optimize.DEFAULT]\n",
        "    with suppress_os_stderr():\n",
        "        tflite_model = converter.convert()\n",
        "\n",
        "    interpreter = tf.lite.Interpreter(model_content=tflite_model)\n",
        "    interpreter.allocate_tensors()\n",
        "\n",
        "    return tflite_model, interpreter\n",
        "\n",
        "# 5. Function: calibrate_batchnorm\n",
        "def calibrate_batchnorm(model, dataset, num_batches):\n",
        "    \"\"\"Runs `num_batches` of data through the model to update BN stats.\"\"\"\n",
        "    for i, (x, _) in enumerate(dataset):\n",
        "        if i >= num_batches:\n",
        "            break\n",
        "        # Run in training mode so BN updates its moving mean/variance\n",
        "        model(x, training=True)\n",
        "    print(\"✅ Calibration done.\")\n",
        "\n",
        "# 6. Function: crossover\n",
        "def crossover(parent1, parent2):\n",
        "    \"\"\"Cross two configs to create a child config.\"\"\"\n",
        "    child = {}\n",
        "    for key in parent1:\n",
        "        child[key] = random.choice([parent1[key], parent2[key]])\n",
        "    return child\n",
        "\n",
        "# 7. Function: mutate\n",
        "def mutate(config, mutation_prob=0.5, search_space=None):\n",
        "    \"\"\"Mutate a config with given probability.\"\"\"\n",
        "    new_config = copy.deepcopy(config)\n",
        "    for key in config:\n",
        "        if random.random() < mutation_prob:\n",
        "            new_config[key] = random.choice(search_space[key])\n",
        "    return new_config\n",
        "\n",
        "# 8. Function: evolve_one_generation\n",
        "def evolve_one_generation(population, search_space, model, val_ds,\n",
        "                          resolution=128, width=64, num_classes=3, mutation_prob=0.5):\n",
        "    \"\"\"\n",
        "    Evolve population for one iteration.\n",
        "\n",
        "    Args:\n",
        "        population: List of (config, fitness) tuples.\n",
        "        search_space: Dict of key -> list of possible values.\n",
        "        mutation_prob: Float, mutation probability per parameter.\n",
        "\n",
        "    Returns:\n",
        "        new_population: List of 10 (config, fitness=None) tuples.\n",
        "    \"\"\"\n",
        "    def evaluate_and_add(config, target_list):\n",
        "        subnetwork = sample_subnetwork(model, config, resolution=resolution, width=width, num_classes=num_classes)\n",
        "\n",
        "        # THIS IS SPECIFIC FOR FLASH SIZE CONSTRAINT AND TFLITE CONVERTER\n",
        "        # =================================================================\n",
        "\n",
        "        with suppress_output():\n",
        "            tflite_model, interpreter = convert_to_tflite(subnetwork)\n",
        "        flash_size = len(tflite_model)\n",
        "\n",
        "        if flash_size < (1e6 / 2):\n",
        "            calibrate_batchnorm(subnetwork, val_ds, num_batches=128)\n",
        "            subnetwork.compile(\n",
        "                optimizer='adam',\n",
        "                loss='categorical_crossentropy',\n",
        "                metrics=['accuracy']\n",
        "            )\n",
        "            history = subnetwork.fit(val_ds, epochs=5, verbose=0)\n",
        "            fitness = history.history['accuracy'][-1]\n",
        "            print(f\"🦠 Added to population: \")\n",
        "            print(f\"    Config: {config}, Fitness: {fitness}\")\n",
        "            target_list.append((config, fitness))\n",
        "            return True\n",
        "        # =================================================================\n",
        "        return False\n",
        "\n",
        "\n",
        "    # Step 1: Keep top 20%\n",
        "    population.sort(key=lambda x: x[1], reverse=True)  # Sort by fitness\n",
        "    top_candidate = [cfg for cfg, _ in population[:(len(population)//5)]]\n",
        "\n",
        "    new_population = []\n",
        "\n",
        "    # Step 2: Generate crossover children until 5 accepted\n",
        "    crossover_children = []\n",
        "    while len(crossover_children) < len(population)//2:\n",
        "        p1, p2 = random.sample(top_candidate, 2)\n",
        "        child = crossover(p1, p2)\n",
        "        evaluate_and_add(child, crossover_children)\n",
        "\n",
        "    # Step 3: Generate mutated children until 5 accepted\n",
        "    mutated_children = []\n",
        "    while len(mutated_children) < len(population)//2:\n",
        "        parent = random.choice(top_candidate)\n",
        "        mutated = mutate(parent, mutation_prob, search_space)\n",
        "        evaluate_and_add(mutated, mutated_children)\n",
        "\n",
        "    # Combine all to new generation\n",
        "    new_population += crossover_children + mutated_children\n",
        "    return new_population\n",
        "\n",
        "# 9. Function: evaluate_tflite_model\n",
        "def evaluate_tflite_model(interpreter, test_ds):\n",
        "    # Get input and output details\n",
        "    input_details = interpreter.get_input_details()\n",
        "    output_details = interpreter.get_output_details()\n",
        "\n",
        "    input_index = input_details[0]['index']\n",
        "    output_index = output_details[0]['index']\n",
        "\n",
        "    correct = 0\n",
        "    total = 0\n",
        "\n",
        "    for x_batch, y_batch in test_ds:\n",
        "        x_batch_np = x_batch.numpy()\n",
        "        y_true = tf.argmax(y_batch, axis=1).numpy()\n",
        "\n",
        "        for i in range(x_batch_np.shape[0]):\n",
        "            input_tensor = np.expand_dims(x_batch_np[i], axis=0).astype(input_details[0]['dtype'])\n",
        "            interpreter.set_tensor(input_index, input_tensor)\n",
        "            interpreter.invoke()\n",
        "            output = interpreter.get_tensor(output_index)\n",
        "            y_pred = np.argmax(output)\n",
        "\n",
        "            if y_pred == y_true[i]:\n",
        "                correct += 1\n",
        "            total += 1\n",
        "\n",
        "    accuracy = correct / total\n",
        "    print(f\"TFLite Quantized Model Accuracy: {accuracy:.4f}\")\n",
        "    return accuracy"
      ],
      "metadata": {
        "id": "Su441ocyVXS-"
      },
      "execution_count": 5,
      "outputs": []
    },
    {
      "cell_type": "markdown",
      "source": [
        "# 3. Main Code"
      ],
      "metadata": {
        "id": "R9EN9s6rcCL1"
      }
    },
    {
      "cell_type": "markdown",
      "source": [
        "## 🏋️‍♂️ Train a super-network"
      ],
      "metadata": {
        "id": "Yih2KSMNcJ42"
      }
    },
    {
      "cell_type": "code",
      "source": [
        "model = build_model_sn(resolution=RESOLUTION, width=WIDTH, num_classes=NUM_CLASSES)\n",
        "model.summary()\n",
        "\n",
        "model.compile(\n",
        "    optimizer='adam',\n",
        "    loss='categorical_crossentropy',\n",
        "    metrics=['accuracy']\n",
        ")\n",
        "\n",
        "history = model.fit(train_ds, epochs=50, validation_data=val_ds)\n",
        "\n",
        "# save the model as supernetwork\n",
        "model.save('supernetwork.keras')"
      ],
      "metadata": {
        "colab": {
          "base_uri": "https://localhost:8080/",
          "height": 1000
        },
        "id": "Xp4mK2FVVnBM",
        "outputId": "fdb69e95-4f8c-4541-96d9-72c8263b85de"
      },
      "execution_count": 5,
      "outputs": [
        {
          "output_type": "display_data",
          "data": {
            "text/plain": [
              "\u001b[1mModel: \"sequential\"\u001b[0m\n"
            ],
            "text/html": [
              "<pre style=\"white-space:pre;overflow-x:auto;line-height:normal;font-family:Menlo,'DejaVu Sans Mono',consolas,'Courier New',monospace\"><span style=\"font-weight: bold\">Model: \"sequential\"</span>\n",
              "</pre>\n"
            ]
          },
          "metadata": {}
        },
        {
          "output_type": "display_data",
          "data": {
            "text/plain": [
              "┏━━━━━━━━━━━━━━━━━━━━━━━━━━━━━━━━━┳━━━━━━━━━━━━━━━━━━━━━━━━┳━━━━━━━━━━━━━━━┓\n",
              "┃\u001b[1m \u001b[0m\u001b[1mLayer (type)                   \u001b[0m\u001b[1m \u001b[0m┃\u001b[1m \u001b[0m\u001b[1mOutput Shape          \u001b[0m\u001b[1m \u001b[0m┃\u001b[1m \u001b[0m\u001b[1m      Param #\u001b[0m\u001b[1m \u001b[0m┃\n",
              "┡━━━━━━━━━━━━━━━━━━━━━━━━━━━━━━━━━╇━━━━━━━━━━━━━━━━━━━━━━━━╇━━━━━━━━━━━━━━━┩\n",
              "│ conv0 (\u001b[38;5;33mConv2D\u001b[0m)                  │ (\u001b[38;5;45mNone\u001b[0m, \u001b[38;5;34m128\u001b[0m, \u001b[38;5;34m128\u001b[0m, \u001b[38;5;34m64\u001b[0m)   │        \u001b[38;5;34m15,616\u001b[0m │\n",
              "├─────────────────────────────────┼────────────────────────┼───────────────┤\n",
              "│ bn0 (\u001b[38;5;33mBatchNormalization\u001b[0m)        │ (\u001b[38;5;45mNone\u001b[0m, \u001b[38;5;34m128\u001b[0m, \u001b[38;5;34m128\u001b[0m, \u001b[38;5;34m64\u001b[0m)   │           \u001b[38;5;34m256\u001b[0m │\n",
              "├─────────────────────────────────┼────────────────────────┼───────────────┤\n",
              "│ act0 (\u001b[38;5;33mReLU\u001b[0m)                     │ (\u001b[38;5;45mNone\u001b[0m, \u001b[38;5;34m128\u001b[0m, \u001b[38;5;34m128\u001b[0m, \u001b[38;5;34m64\u001b[0m)   │             \u001b[38;5;34m0\u001b[0m │\n",
              "├─────────────────────────────────┼────────────────────────┼───────────────┤\n",
              "│ pool0 (\u001b[38;5;33mMaxPooling2D\u001b[0m)            │ (\u001b[38;5;45mNone\u001b[0m, \u001b[38;5;34m64\u001b[0m, \u001b[38;5;34m64\u001b[0m, \u001b[38;5;34m64\u001b[0m)     │             \u001b[38;5;34m0\u001b[0m │\n",
              "├─────────────────────────────────┼────────────────────────┼───────────────┤\n",
              "│ block0_conv0 (\u001b[38;5;33mConv2D\u001b[0m)           │ (\u001b[38;5;45mNone\u001b[0m, \u001b[38;5;34m64\u001b[0m, \u001b[38;5;34m64\u001b[0m, \u001b[38;5;34m64\u001b[0m)     │       \u001b[38;5;34m331,840\u001b[0m │\n",
              "├─────────────────────────────────┼────────────────────────┼───────────────┤\n",
              "│ batch_normalization             │ (\u001b[38;5;45mNone\u001b[0m, \u001b[38;5;34m64\u001b[0m, \u001b[38;5;34m64\u001b[0m, \u001b[38;5;34m64\u001b[0m)     │           \u001b[38;5;34m256\u001b[0m │\n",
              "│ (\u001b[38;5;33mBatchNormalization\u001b[0m)            │                        │               │\n",
              "├─────────────────────────────────┼────────────────────────┼───────────────┤\n",
              "│ re_lu (\u001b[38;5;33mReLU\u001b[0m)                    │ (\u001b[38;5;45mNone\u001b[0m, \u001b[38;5;34m64\u001b[0m, \u001b[38;5;34m64\u001b[0m, \u001b[38;5;34m64\u001b[0m)     │             \u001b[38;5;34m0\u001b[0m │\n",
              "├─────────────────────────────────┼────────────────────────┼───────────────┤\n",
              "│ block0_conv1 (\u001b[38;5;33mConv2D\u001b[0m)           │ (\u001b[38;5;45mNone\u001b[0m, \u001b[38;5;34m64\u001b[0m, \u001b[38;5;34m64\u001b[0m, \u001b[38;5;34m64\u001b[0m)     │       \u001b[38;5;34m331,840\u001b[0m │\n",
              "├─────────────────────────────────┼────────────────────────┼───────────────┤\n",
              "│ batch_normalization_1           │ (\u001b[38;5;45mNone\u001b[0m, \u001b[38;5;34m64\u001b[0m, \u001b[38;5;34m64\u001b[0m, \u001b[38;5;34m64\u001b[0m)     │           \u001b[38;5;34m256\u001b[0m │\n",
              "│ (\u001b[38;5;33mBatchNormalization\u001b[0m)            │                        │               │\n",
              "├─────────────────────────────────┼────────────────────────┼───────────────┤\n",
              "│ re_lu_1 (\u001b[38;5;33mReLU\u001b[0m)                  │ (\u001b[38;5;45mNone\u001b[0m, \u001b[38;5;34m64\u001b[0m, \u001b[38;5;34m64\u001b[0m, \u001b[38;5;34m64\u001b[0m)     │             \u001b[38;5;34m0\u001b[0m │\n",
              "├─────────────────────────────────┼────────────────────────┼───────────────┤\n",
              "│ block0_conv2 (\u001b[38;5;33mConv2D\u001b[0m)           │ (\u001b[38;5;45mNone\u001b[0m, \u001b[38;5;34m64\u001b[0m, \u001b[38;5;34m64\u001b[0m, \u001b[38;5;34m64\u001b[0m)     │       \u001b[38;5;34m331,840\u001b[0m │\n",
              "├─────────────────────────────────┼────────────────────────┼───────────────┤\n",
              "│ batch_normalization_2           │ (\u001b[38;5;45mNone\u001b[0m, \u001b[38;5;34m64\u001b[0m, \u001b[38;5;34m64\u001b[0m, \u001b[38;5;34m64\u001b[0m)     │           \u001b[38;5;34m256\u001b[0m │\n",
              "│ (\u001b[38;5;33mBatchNormalization\u001b[0m)            │                        │               │\n",
              "├─────────────────────────────────┼────────────────────────┼───────────────┤\n",
              "│ re_lu_2 (\u001b[38;5;33mReLU\u001b[0m)                  │ (\u001b[38;5;45mNone\u001b[0m, \u001b[38;5;34m64\u001b[0m, \u001b[38;5;34m64\u001b[0m, \u001b[38;5;34m64\u001b[0m)     │             \u001b[38;5;34m0\u001b[0m │\n",
              "├─────────────────────────────────┼────────────────────────┼───────────────┤\n",
              "│ block0_conv3 (\u001b[38;5;33mConv2D\u001b[0m)           │ (\u001b[38;5;45mNone\u001b[0m, \u001b[38;5;34m64\u001b[0m, \u001b[38;5;34m64\u001b[0m, \u001b[38;5;34m64\u001b[0m)     │       \u001b[38;5;34m331,840\u001b[0m │\n",
              "├─────────────────────────────────┼────────────────────────┼───────────────┤\n",
              "│ batch_normalization_3           │ (\u001b[38;5;45mNone\u001b[0m, \u001b[38;5;34m64\u001b[0m, \u001b[38;5;34m64\u001b[0m, \u001b[38;5;34m64\u001b[0m)     │           \u001b[38;5;34m256\u001b[0m │\n",
              "│ (\u001b[38;5;33mBatchNormalization\u001b[0m)            │                        │               │\n",
              "├─────────────────────────────────┼────────────────────────┼───────────────┤\n",
              "│ re_lu_3 (\u001b[38;5;33mReLU\u001b[0m)                  │ (\u001b[38;5;45mNone\u001b[0m, \u001b[38;5;34m64\u001b[0m, \u001b[38;5;34m64\u001b[0m, \u001b[38;5;34m64\u001b[0m)     │             \u001b[38;5;34m0\u001b[0m │\n",
              "├─────────────────────────────────┼────────────────────────┼───────────────┤\n",
              "│ max_pooling2d (\u001b[38;5;33mMaxPooling2D\u001b[0m)    │ (\u001b[38;5;45mNone\u001b[0m, \u001b[38;5;34m32\u001b[0m, \u001b[38;5;34m32\u001b[0m, \u001b[38;5;34m64\u001b[0m)     │             \u001b[38;5;34m0\u001b[0m │\n",
              "├─────────────────────────────────┼────────────────────────┼───────────────┤\n",
              "│ block1_conv0 (\u001b[38;5;33mConv2D\u001b[0m)           │ (\u001b[38;5;45mNone\u001b[0m, \u001b[38;5;34m32\u001b[0m, \u001b[38;5;34m32\u001b[0m, \u001b[38;5;34m64\u001b[0m)     │       \u001b[38;5;34m331,840\u001b[0m │\n",
              "├─────────────────────────────────┼────────────────────────┼───────────────┤\n",
              "│ batch_normalization_4           │ (\u001b[38;5;45mNone\u001b[0m, \u001b[38;5;34m32\u001b[0m, \u001b[38;5;34m32\u001b[0m, \u001b[38;5;34m64\u001b[0m)     │           \u001b[38;5;34m256\u001b[0m │\n",
              "│ (\u001b[38;5;33mBatchNormalization\u001b[0m)            │                        │               │\n",
              "├─────────────────────────────────┼────────────────────────┼───────────────┤\n",
              "│ re_lu_4 (\u001b[38;5;33mReLU\u001b[0m)                  │ (\u001b[38;5;45mNone\u001b[0m, \u001b[38;5;34m32\u001b[0m, \u001b[38;5;34m32\u001b[0m, \u001b[38;5;34m64\u001b[0m)     │             \u001b[38;5;34m0\u001b[0m │\n",
              "├─────────────────────────────────┼────────────────────────┼───────────────┤\n",
              "│ block1_conv1 (\u001b[38;5;33mConv2D\u001b[0m)           │ (\u001b[38;5;45mNone\u001b[0m, \u001b[38;5;34m32\u001b[0m, \u001b[38;5;34m32\u001b[0m, \u001b[38;5;34m64\u001b[0m)     │       \u001b[38;5;34m331,840\u001b[0m │\n",
              "├─────────────────────────────────┼────────────────────────┼───────────────┤\n",
              "│ batch_normalization_5           │ (\u001b[38;5;45mNone\u001b[0m, \u001b[38;5;34m32\u001b[0m, \u001b[38;5;34m32\u001b[0m, \u001b[38;5;34m64\u001b[0m)     │           \u001b[38;5;34m256\u001b[0m │\n",
              "│ (\u001b[38;5;33mBatchNormalization\u001b[0m)            │                        │               │\n",
              "├─────────────────────────────────┼────────────────────────┼───────────────┤\n",
              "│ re_lu_5 (\u001b[38;5;33mReLU\u001b[0m)                  │ (\u001b[38;5;45mNone\u001b[0m, \u001b[38;5;34m32\u001b[0m, \u001b[38;5;34m32\u001b[0m, \u001b[38;5;34m64\u001b[0m)     │             \u001b[38;5;34m0\u001b[0m │\n",
              "├─────────────────────────────────┼────────────────────────┼───────────────┤\n",
              "│ block1_conv2 (\u001b[38;5;33mConv2D\u001b[0m)           │ (\u001b[38;5;45mNone\u001b[0m, \u001b[38;5;34m32\u001b[0m, \u001b[38;5;34m32\u001b[0m, \u001b[38;5;34m64\u001b[0m)     │       \u001b[38;5;34m331,840\u001b[0m │\n",
              "├─────────────────────────────────┼────────────────────────┼───────────────┤\n",
              "│ batch_normalization_6           │ (\u001b[38;5;45mNone\u001b[0m, \u001b[38;5;34m32\u001b[0m, \u001b[38;5;34m32\u001b[0m, \u001b[38;5;34m64\u001b[0m)     │           \u001b[38;5;34m256\u001b[0m │\n",
              "│ (\u001b[38;5;33mBatchNormalization\u001b[0m)            │                        │               │\n",
              "├─────────────────────────────────┼────────────────────────┼───────────────┤\n",
              "│ re_lu_6 (\u001b[38;5;33mReLU\u001b[0m)                  │ (\u001b[38;5;45mNone\u001b[0m, \u001b[38;5;34m32\u001b[0m, \u001b[38;5;34m32\u001b[0m, \u001b[38;5;34m64\u001b[0m)     │             \u001b[38;5;34m0\u001b[0m │\n",
              "├─────────────────────────────────┼────────────────────────┼───────────────┤\n",
              "│ block1_conv3 (\u001b[38;5;33mConv2D\u001b[0m)           │ (\u001b[38;5;45mNone\u001b[0m, \u001b[38;5;34m32\u001b[0m, \u001b[38;5;34m32\u001b[0m, \u001b[38;5;34m64\u001b[0m)     │       \u001b[38;5;34m331,840\u001b[0m │\n",
              "├─────────────────────────────────┼────────────────────────┼───────────────┤\n",
              "│ batch_normalization_7           │ (\u001b[38;5;45mNone\u001b[0m, \u001b[38;5;34m32\u001b[0m, \u001b[38;5;34m32\u001b[0m, \u001b[38;5;34m64\u001b[0m)     │           \u001b[38;5;34m256\u001b[0m │\n",
              "│ (\u001b[38;5;33mBatchNormalization\u001b[0m)            │                        │               │\n",
              "├─────────────────────────────────┼────────────────────────┼───────────────┤\n",
              "│ re_lu_7 (\u001b[38;5;33mReLU\u001b[0m)                  │ (\u001b[38;5;45mNone\u001b[0m, \u001b[38;5;34m32\u001b[0m, \u001b[38;5;34m32\u001b[0m, \u001b[38;5;34m64\u001b[0m)     │             \u001b[38;5;34m0\u001b[0m │\n",
              "├─────────────────────────────────┼────────────────────────┼───────────────┤\n",
              "│ max_pooling2d_1 (\u001b[38;5;33mMaxPooling2D\u001b[0m)  │ (\u001b[38;5;45mNone\u001b[0m, \u001b[38;5;34m16\u001b[0m, \u001b[38;5;34m16\u001b[0m, \u001b[38;5;34m64\u001b[0m)     │             \u001b[38;5;34m0\u001b[0m │\n",
              "├─────────────────────────────────┼────────────────────────┼───────────────┤\n",
              "│ flatten (\u001b[38;5;33mFlatten\u001b[0m)               │ (\u001b[38;5;45mNone\u001b[0m, \u001b[38;5;34m16384\u001b[0m)          │             \u001b[38;5;34m0\u001b[0m │\n",
              "├─────────────────────────────────┼────────────────────────┼───────────────┤\n",
              "│ output (\u001b[38;5;33mDense\u001b[0m)                  │ (\u001b[38;5;45mNone\u001b[0m, \u001b[38;5;34m3\u001b[0m)              │        \u001b[38;5;34m49,155\u001b[0m │\n",
              "└─────────────────────────────────┴────────────────────────┴───────────────┘\n"
            ],
            "text/html": [
              "<pre style=\"white-space:pre;overflow-x:auto;line-height:normal;font-family:Menlo,'DejaVu Sans Mono',consolas,'Courier New',monospace\">┏━━━━━━━━━━━━━━━━━━━━━━━━━━━━━━━━━┳━━━━━━━━━━━━━━━━━━━━━━━━┳━━━━━━━━━━━━━━━┓\n",
              "┃<span style=\"font-weight: bold\"> Layer (type)                    </span>┃<span style=\"font-weight: bold\"> Output Shape           </span>┃<span style=\"font-weight: bold\">       Param # </span>┃\n",
              "┡━━━━━━━━━━━━━━━━━━━━━━━━━━━━━━━━━╇━━━━━━━━━━━━━━━━━━━━━━━━╇━━━━━━━━━━━━━━━┩\n",
              "│ conv0 (<span style=\"color: #0087ff; text-decoration-color: #0087ff\">Conv2D</span>)                  │ (<span style=\"color: #00d7ff; text-decoration-color: #00d7ff\">None</span>, <span style=\"color: #00af00; text-decoration-color: #00af00\">128</span>, <span style=\"color: #00af00; text-decoration-color: #00af00\">128</span>, <span style=\"color: #00af00; text-decoration-color: #00af00\">64</span>)   │        <span style=\"color: #00af00; text-decoration-color: #00af00\">15,616</span> │\n",
              "├─────────────────────────────────┼────────────────────────┼───────────────┤\n",
              "│ bn0 (<span style=\"color: #0087ff; text-decoration-color: #0087ff\">BatchNormalization</span>)        │ (<span style=\"color: #00d7ff; text-decoration-color: #00d7ff\">None</span>, <span style=\"color: #00af00; text-decoration-color: #00af00\">128</span>, <span style=\"color: #00af00; text-decoration-color: #00af00\">128</span>, <span style=\"color: #00af00; text-decoration-color: #00af00\">64</span>)   │           <span style=\"color: #00af00; text-decoration-color: #00af00\">256</span> │\n",
              "├─────────────────────────────────┼────────────────────────┼───────────────┤\n",
              "│ act0 (<span style=\"color: #0087ff; text-decoration-color: #0087ff\">ReLU</span>)                     │ (<span style=\"color: #00d7ff; text-decoration-color: #00d7ff\">None</span>, <span style=\"color: #00af00; text-decoration-color: #00af00\">128</span>, <span style=\"color: #00af00; text-decoration-color: #00af00\">128</span>, <span style=\"color: #00af00; text-decoration-color: #00af00\">64</span>)   │             <span style=\"color: #00af00; text-decoration-color: #00af00\">0</span> │\n",
              "├─────────────────────────────────┼────────────────────────┼───────────────┤\n",
              "│ pool0 (<span style=\"color: #0087ff; text-decoration-color: #0087ff\">MaxPooling2D</span>)            │ (<span style=\"color: #00d7ff; text-decoration-color: #00d7ff\">None</span>, <span style=\"color: #00af00; text-decoration-color: #00af00\">64</span>, <span style=\"color: #00af00; text-decoration-color: #00af00\">64</span>, <span style=\"color: #00af00; text-decoration-color: #00af00\">64</span>)     │             <span style=\"color: #00af00; text-decoration-color: #00af00\">0</span> │\n",
              "├─────────────────────────────────┼────────────────────────┼───────────────┤\n",
              "│ block0_conv0 (<span style=\"color: #0087ff; text-decoration-color: #0087ff\">Conv2D</span>)           │ (<span style=\"color: #00d7ff; text-decoration-color: #00d7ff\">None</span>, <span style=\"color: #00af00; text-decoration-color: #00af00\">64</span>, <span style=\"color: #00af00; text-decoration-color: #00af00\">64</span>, <span style=\"color: #00af00; text-decoration-color: #00af00\">64</span>)     │       <span style=\"color: #00af00; text-decoration-color: #00af00\">331,840</span> │\n",
              "├─────────────────────────────────┼────────────────────────┼───────────────┤\n",
              "│ batch_normalization             │ (<span style=\"color: #00d7ff; text-decoration-color: #00d7ff\">None</span>, <span style=\"color: #00af00; text-decoration-color: #00af00\">64</span>, <span style=\"color: #00af00; text-decoration-color: #00af00\">64</span>, <span style=\"color: #00af00; text-decoration-color: #00af00\">64</span>)     │           <span style=\"color: #00af00; text-decoration-color: #00af00\">256</span> │\n",
              "│ (<span style=\"color: #0087ff; text-decoration-color: #0087ff\">BatchNormalization</span>)            │                        │               │\n",
              "├─────────────────────────────────┼────────────────────────┼───────────────┤\n",
              "│ re_lu (<span style=\"color: #0087ff; text-decoration-color: #0087ff\">ReLU</span>)                    │ (<span style=\"color: #00d7ff; text-decoration-color: #00d7ff\">None</span>, <span style=\"color: #00af00; text-decoration-color: #00af00\">64</span>, <span style=\"color: #00af00; text-decoration-color: #00af00\">64</span>, <span style=\"color: #00af00; text-decoration-color: #00af00\">64</span>)     │             <span style=\"color: #00af00; text-decoration-color: #00af00\">0</span> │\n",
              "├─────────────────────────────────┼────────────────────────┼───────────────┤\n",
              "│ block0_conv1 (<span style=\"color: #0087ff; text-decoration-color: #0087ff\">Conv2D</span>)           │ (<span style=\"color: #00d7ff; text-decoration-color: #00d7ff\">None</span>, <span style=\"color: #00af00; text-decoration-color: #00af00\">64</span>, <span style=\"color: #00af00; text-decoration-color: #00af00\">64</span>, <span style=\"color: #00af00; text-decoration-color: #00af00\">64</span>)     │       <span style=\"color: #00af00; text-decoration-color: #00af00\">331,840</span> │\n",
              "├─────────────────────────────────┼────────────────────────┼───────────────┤\n",
              "│ batch_normalization_1           │ (<span style=\"color: #00d7ff; text-decoration-color: #00d7ff\">None</span>, <span style=\"color: #00af00; text-decoration-color: #00af00\">64</span>, <span style=\"color: #00af00; text-decoration-color: #00af00\">64</span>, <span style=\"color: #00af00; text-decoration-color: #00af00\">64</span>)     │           <span style=\"color: #00af00; text-decoration-color: #00af00\">256</span> │\n",
              "│ (<span style=\"color: #0087ff; text-decoration-color: #0087ff\">BatchNormalization</span>)            │                        │               │\n",
              "├─────────────────────────────────┼────────────────────────┼───────────────┤\n",
              "│ re_lu_1 (<span style=\"color: #0087ff; text-decoration-color: #0087ff\">ReLU</span>)                  │ (<span style=\"color: #00d7ff; text-decoration-color: #00d7ff\">None</span>, <span style=\"color: #00af00; text-decoration-color: #00af00\">64</span>, <span style=\"color: #00af00; text-decoration-color: #00af00\">64</span>, <span style=\"color: #00af00; text-decoration-color: #00af00\">64</span>)     │             <span style=\"color: #00af00; text-decoration-color: #00af00\">0</span> │\n",
              "├─────────────────────────────────┼────────────────────────┼───────────────┤\n",
              "│ block0_conv2 (<span style=\"color: #0087ff; text-decoration-color: #0087ff\">Conv2D</span>)           │ (<span style=\"color: #00d7ff; text-decoration-color: #00d7ff\">None</span>, <span style=\"color: #00af00; text-decoration-color: #00af00\">64</span>, <span style=\"color: #00af00; text-decoration-color: #00af00\">64</span>, <span style=\"color: #00af00; text-decoration-color: #00af00\">64</span>)     │       <span style=\"color: #00af00; text-decoration-color: #00af00\">331,840</span> │\n",
              "├─────────────────────────────────┼────────────────────────┼───────────────┤\n",
              "│ batch_normalization_2           │ (<span style=\"color: #00d7ff; text-decoration-color: #00d7ff\">None</span>, <span style=\"color: #00af00; text-decoration-color: #00af00\">64</span>, <span style=\"color: #00af00; text-decoration-color: #00af00\">64</span>, <span style=\"color: #00af00; text-decoration-color: #00af00\">64</span>)     │           <span style=\"color: #00af00; text-decoration-color: #00af00\">256</span> │\n",
              "│ (<span style=\"color: #0087ff; text-decoration-color: #0087ff\">BatchNormalization</span>)            │                        │               │\n",
              "├─────────────────────────────────┼────────────────────────┼───────────────┤\n",
              "│ re_lu_2 (<span style=\"color: #0087ff; text-decoration-color: #0087ff\">ReLU</span>)                  │ (<span style=\"color: #00d7ff; text-decoration-color: #00d7ff\">None</span>, <span style=\"color: #00af00; text-decoration-color: #00af00\">64</span>, <span style=\"color: #00af00; text-decoration-color: #00af00\">64</span>, <span style=\"color: #00af00; text-decoration-color: #00af00\">64</span>)     │             <span style=\"color: #00af00; text-decoration-color: #00af00\">0</span> │\n",
              "├─────────────────────────────────┼────────────────────────┼───────────────┤\n",
              "│ block0_conv3 (<span style=\"color: #0087ff; text-decoration-color: #0087ff\">Conv2D</span>)           │ (<span style=\"color: #00d7ff; text-decoration-color: #00d7ff\">None</span>, <span style=\"color: #00af00; text-decoration-color: #00af00\">64</span>, <span style=\"color: #00af00; text-decoration-color: #00af00\">64</span>, <span style=\"color: #00af00; text-decoration-color: #00af00\">64</span>)     │       <span style=\"color: #00af00; text-decoration-color: #00af00\">331,840</span> │\n",
              "├─────────────────────────────────┼────────────────────────┼───────────────┤\n",
              "│ batch_normalization_3           │ (<span style=\"color: #00d7ff; text-decoration-color: #00d7ff\">None</span>, <span style=\"color: #00af00; text-decoration-color: #00af00\">64</span>, <span style=\"color: #00af00; text-decoration-color: #00af00\">64</span>, <span style=\"color: #00af00; text-decoration-color: #00af00\">64</span>)     │           <span style=\"color: #00af00; text-decoration-color: #00af00\">256</span> │\n",
              "│ (<span style=\"color: #0087ff; text-decoration-color: #0087ff\">BatchNormalization</span>)            │                        │               │\n",
              "├─────────────────────────────────┼────────────────────────┼───────────────┤\n",
              "│ re_lu_3 (<span style=\"color: #0087ff; text-decoration-color: #0087ff\">ReLU</span>)                  │ (<span style=\"color: #00d7ff; text-decoration-color: #00d7ff\">None</span>, <span style=\"color: #00af00; text-decoration-color: #00af00\">64</span>, <span style=\"color: #00af00; text-decoration-color: #00af00\">64</span>, <span style=\"color: #00af00; text-decoration-color: #00af00\">64</span>)     │             <span style=\"color: #00af00; text-decoration-color: #00af00\">0</span> │\n",
              "├─────────────────────────────────┼────────────────────────┼───────────────┤\n",
              "│ max_pooling2d (<span style=\"color: #0087ff; text-decoration-color: #0087ff\">MaxPooling2D</span>)    │ (<span style=\"color: #00d7ff; text-decoration-color: #00d7ff\">None</span>, <span style=\"color: #00af00; text-decoration-color: #00af00\">32</span>, <span style=\"color: #00af00; text-decoration-color: #00af00\">32</span>, <span style=\"color: #00af00; text-decoration-color: #00af00\">64</span>)     │             <span style=\"color: #00af00; text-decoration-color: #00af00\">0</span> │\n",
              "├─────────────────────────────────┼────────────────────────┼───────────────┤\n",
              "│ block1_conv0 (<span style=\"color: #0087ff; text-decoration-color: #0087ff\">Conv2D</span>)           │ (<span style=\"color: #00d7ff; text-decoration-color: #00d7ff\">None</span>, <span style=\"color: #00af00; text-decoration-color: #00af00\">32</span>, <span style=\"color: #00af00; text-decoration-color: #00af00\">32</span>, <span style=\"color: #00af00; text-decoration-color: #00af00\">64</span>)     │       <span style=\"color: #00af00; text-decoration-color: #00af00\">331,840</span> │\n",
              "├─────────────────────────────────┼────────────────────────┼───────────────┤\n",
              "│ batch_normalization_4           │ (<span style=\"color: #00d7ff; text-decoration-color: #00d7ff\">None</span>, <span style=\"color: #00af00; text-decoration-color: #00af00\">32</span>, <span style=\"color: #00af00; text-decoration-color: #00af00\">32</span>, <span style=\"color: #00af00; text-decoration-color: #00af00\">64</span>)     │           <span style=\"color: #00af00; text-decoration-color: #00af00\">256</span> │\n",
              "│ (<span style=\"color: #0087ff; text-decoration-color: #0087ff\">BatchNormalization</span>)            │                        │               │\n",
              "├─────────────────────────────────┼────────────────────────┼───────────────┤\n",
              "│ re_lu_4 (<span style=\"color: #0087ff; text-decoration-color: #0087ff\">ReLU</span>)                  │ (<span style=\"color: #00d7ff; text-decoration-color: #00d7ff\">None</span>, <span style=\"color: #00af00; text-decoration-color: #00af00\">32</span>, <span style=\"color: #00af00; text-decoration-color: #00af00\">32</span>, <span style=\"color: #00af00; text-decoration-color: #00af00\">64</span>)     │             <span style=\"color: #00af00; text-decoration-color: #00af00\">0</span> │\n",
              "├─────────────────────────────────┼────────────────────────┼───────────────┤\n",
              "│ block1_conv1 (<span style=\"color: #0087ff; text-decoration-color: #0087ff\">Conv2D</span>)           │ (<span style=\"color: #00d7ff; text-decoration-color: #00d7ff\">None</span>, <span style=\"color: #00af00; text-decoration-color: #00af00\">32</span>, <span style=\"color: #00af00; text-decoration-color: #00af00\">32</span>, <span style=\"color: #00af00; text-decoration-color: #00af00\">64</span>)     │       <span style=\"color: #00af00; text-decoration-color: #00af00\">331,840</span> │\n",
              "├─────────────────────────────────┼────────────────────────┼───────────────┤\n",
              "│ batch_normalization_5           │ (<span style=\"color: #00d7ff; text-decoration-color: #00d7ff\">None</span>, <span style=\"color: #00af00; text-decoration-color: #00af00\">32</span>, <span style=\"color: #00af00; text-decoration-color: #00af00\">32</span>, <span style=\"color: #00af00; text-decoration-color: #00af00\">64</span>)     │           <span style=\"color: #00af00; text-decoration-color: #00af00\">256</span> │\n",
              "│ (<span style=\"color: #0087ff; text-decoration-color: #0087ff\">BatchNormalization</span>)            │                        │               │\n",
              "├─────────────────────────────────┼────────────────────────┼───────────────┤\n",
              "│ re_lu_5 (<span style=\"color: #0087ff; text-decoration-color: #0087ff\">ReLU</span>)                  │ (<span style=\"color: #00d7ff; text-decoration-color: #00d7ff\">None</span>, <span style=\"color: #00af00; text-decoration-color: #00af00\">32</span>, <span style=\"color: #00af00; text-decoration-color: #00af00\">32</span>, <span style=\"color: #00af00; text-decoration-color: #00af00\">64</span>)     │             <span style=\"color: #00af00; text-decoration-color: #00af00\">0</span> │\n",
              "├─────────────────────────────────┼────────────────────────┼───────────────┤\n",
              "│ block1_conv2 (<span style=\"color: #0087ff; text-decoration-color: #0087ff\">Conv2D</span>)           │ (<span style=\"color: #00d7ff; text-decoration-color: #00d7ff\">None</span>, <span style=\"color: #00af00; text-decoration-color: #00af00\">32</span>, <span style=\"color: #00af00; text-decoration-color: #00af00\">32</span>, <span style=\"color: #00af00; text-decoration-color: #00af00\">64</span>)     │       <span style=\"color: #00af00; text-decoration-color: #00af00\">331,840</span> │\n",
              "├─────────────────────────────────┼────────────────────────┼───────────────┤\n",
              "│ batch_normalization_6           │ (<span style=\"color: #00d7ff; text-decoration-color: #00d7ff\">None</span>, <span style=\"color: #00af00; text-decoration-color: #00af00\">32</span>, <span style=\"color: #00af00; text-decoration-color: #00af00\">32</span>, <span style=\"color: #00af00; text-decoration-color: #00af00\">64</span>)     │           <span style=\"color: #00af00; text-decoration-color: #00af00\">256</span> │\n",
              "│ (<span style=\"color: #0087ff; text-decoration-color: #0087ff\">BatchNormalization</span>)            │                        │               │\n",
              "├─────────────────────────────────┼────────────────────────┼───────────────┤\n",
              "│ re_lu_6 (<span style=\"color: #0087ff; text-decoration-color: #0087ff\">ReLU</span>)                  │ (<span style=\"color: #00d7ff; text-decoration-color: #00d7ff\">None</span>, <span style=\"color: #00af00; text-decoration-color: #00af00\">32</span>, <span style=\"color: #00af00; text-decoration-color: #00af00\">32</span>, <span style=\"color: #00af00; text-decoration-color: #00af00\">64</span>)     │             <span style=\"color: #00af00; text-decoration-color: #00af00\">0</span> │\n",
              "├─────────────────────────────────┼────────────────────────┼───────────────┤\n",
              "│ block1_conv3 (<span style=\"color: #0087ff; text-decoration-color: #0087ff\">Conv2D</span>)           │ (<span style=\"color: #00d7ff; text-decoration-color: #00d7ff\">None</span>, <span style=\"color: #00af00; text-decoration-color: #00af00\">32</span>, <span style=\"color: #00af00; text-decoration-color: #00af00\">32</span>, <span style=\"color: #00af00; text-decoration-color: #00af00\">64</span>)     │       <span style=\"color: #00af00; text-decoration-color: #00af00\">331,840</span> │\n",
              "├─────────────────────────────────┼────────────────────────┼───────────────┤\n",
              "│ batch_normalization_7           │ (<span style=\"color: #00d7ff; text-decoration-color: #00d7ff\">None</span>, <span style=\"color: #00af00; text-decoration-color: #00af00\">32</span>, <span style=\"color: #00af00; text-decoration-color: #00af00\">32</span>, <span style=\"color: #00af00; text-decoration-color: #00af00\">64</span>)     │           <span style=\"color: #00af00; text-decoration-color: #00af00\">256</span> │\n",
              "│ (<span style=\"color: #0087ff; text-decoration-color: #0087ff\">BatchNormalization</span>)            │                        │               │\n",
              "├─────────────────────────────────┼────────────────────────┼───────────────┤\n",
              "│ re_lu_7 (<span style=\"color: #0087ff; text-decoration-color: #0087ff\">ReLU</span>)                  │ (<span style=\"color: #00d7ff; text-decoration-color: #00d7ff\">None</span>, <span style=\"color: #00af00; text-decoration-color: #00af00\">32</span>, <span style=\"color: #00af00; text-decoration-color: #00af00\">32</span>, <span style=\"color: #00af00; text-decoration-color: #00af00\">64</span>)     │             <span style=\"color: #00af00; text-decoration-color: #00af00\">0</span> │\n",
              "├─────────────────────────────────┼────────────────────────┼───────────────┤\n",
              "│ max_pooling2d_1 (<span style=\"color: #0087ff; text-decoration-color: #0087ff\">MaxPooling2D</span>)  │ (<span style=\"color: #00d7ff; text-decoration-color: #00d7ff\">None</span>, <span style=\"color: #00af00; text-decoration-color: #00af00\">16</span>, <span style=\"color: #00af00; text-decoration-color: #00af00\">16</span>, <span style=\"color: #00af00; text-decoration-color: #00af00\">64</span>)     │             <span style=\"color: #00af00; text-decoration-color: #00af00\">0</span> │\n",
              "├─────────────────────────────────┼────────────────────────┼───────────────┤\n",
              "│ flatten (<span style=\"color: #0087ff; text-decoration-color: #0087ff\">Flatten</span>)               │ (<span style=\"color: #00d7ff; text-decoration-color: #00d7ff\">None</span>, <span style=\"color: #00af00; text-decoration-color: #00af00\">16384</span>)          │             <span style=\"color: #00af00; text-decoration-color: #00af00\">0</span> │\n",
              "├─────────────────────────────────┼────────────────────────┼───────────────┤\n",
              "│ output (<span style=\"color: #0087ff; text-decoration-color: #0087ff\">Dense</span>)                  │ (<span style=\"color: #00d7ff; text-decoration-color: #00d7ff\">None</span>, <span style=\"color: #00af00; text-decoration-color: #00af00\">3</span>)              │        <span style=\"color: #00af00; text-decoration-color: #00af00\">49,155</span> │\n",
              "└─────────────────────────────────┴────────────────────────┴───────────────┘\n",
              "</pre>\n"
            ]
          },
          "metadata": {}
        },
        {
          "output_type": "display_data",
          "data": {
            "text/plain": [
              "\u001b[1m Total params: \u001b[0m\u001b[38;5;34m2,721,795\u001b[0m (10.38 MB)\n"
            ],
            "text/html": [
              "<pre style=\"white-space:pre;overflow-x:auto;line-height:normal;font-family:Menlo,'DejaVu Sans Mono',consolas,'Courier New',monospace\"><span style=\"font-weight: bold\"> Total params: </span><span style=\"color: #00af00; text-decoration-color: #00af00\">2,721,795</span> (10.38 MB)\n",
              "</pre>\n"
            ]
          },
          "metadata": {}
        },
        {
          "output_type": "display_data",
          "data": {
            "text/plain": [
              "\u001b[1m Trainable params: \u001b[0m\u001b[38;5;34m2,720,643\u001b[0m (10.38 MB)\n"
            ],
            "text/html": [
              "<pre style=\"white-space:pre;overflow-x:auto;line-height:normal;font-family:Menlo,'DejaVu Sans Mono',consolas,'Courier New',monospace\"><span style=\"font-weight: bold\"> Trainable params: </span><span style=\"color: #00af00; text-decoration-color: #00af00\">2,720,643</span> (10.38 MB)\n",
              "</pre>\n"
            ]
          },
          "metadata": {}
        },
        {
          "output_type": "display_data",
          "data": {
            "text/plain": [
              "\u001b[1m Non-trainable params: \u001b[0m\u001b[38;5;34m1,152\u001b[0m (4.50 KB)\n"
            ],
            "text/html": [
              "<pre style=\"white-space:pre;overflow-x:auto;line-height:normal;font-family:Menlo,'DejaVu Sans Mono',consolas,'Courier New',monospace\"><span style=\"font-weight: bold\"> Non-trainable params: </span><span style=\"color: #00af00; text-decoration-color: #00af00\">1,152</span> (4.50 KB)\n",
              "</pre>\n"
            ]
          },
          "metadata": {}
        },
        {
          "output_type": "stream",
          "name": "stdout",
          "text": [
            "Epoch 1/50\n",
            "\u001b[1m16/16\u001b[0m \u001b[32m━━━━━━━━━━━━━━━━━━━━\u001b[0m\u001b[37m\u001b[0m \u001b[1m60s\u001b[0m 2s/step - accuracy: 0.3394 - loss: 4.3128 - val_accuracy: 0.2679 - val_loss: 474130.0625\n",
            "Epoch 2/50\n",
            "\u001b[1m16/16\u001b[0m \u001b[32m━━━━━━━━━━━━━━━━━━━━\u001b[0m\u001b[37m\u001b[0m \u001b[1m10s\u001b[0m 637ms/step - accuracy: 0.5361 - loss: 0.8938 - val_accuracy: 0.2738 - val_loss: 46445.0000\n",
            "Epoch 3/50\n",
            "\u001b[1m16/16\u001b[0m \u001b[32m━━━━━━━━━━━━━━━━━━━━\u001b[0m\u001b[37m\u001b[0m \u001b[1m20s\u001b[0m 641ms/step - accuracy: 0.5652 - loss: 0.7893 - val_accuracy: 0.3075 - val_loss: 6584.3525\n",
            "Epoch 4/50\n",
            "\u001b[1m16/16\u001b[0m \u001b[32m━━━━━━━━━━━━━━━━━━━━\u001b[0m\u001b[37m\u001b[0m \u001b[1m20s\u001b[0m 642ms/step - accuracy: 0.6178 - loss: 0.7263 - val_accuracy: 0.3075 - val_loss: 1461.1412\n",
            "Epoch 5/50\n",
            "\u001b[1m16/16\u001b[0m \u001b[32m━━━━━━━━━━━━━━━━━━━━\u001b[0m\u001b[37m\u001b[0m \u001b[1m11s\u001b[0m 646ms/step - accuracy: 0.6525 - loss: 0.6729 - val_accuracy: 0.3115 - val_loss: 407.9662\n",
            "Epoch 6/50\n",
            "\u001b[1m16/16\u001b[0m \u001b[32m━━━━━━━━━━━━━━━━━━━━\u001b[0m\u001b[37m\u001b[0m \u001b[1m11s\u001b[0m 668ms/step - accuracy: 0.7240 - loss: 0.5193 - val_accuracy: 0.3115 - val_loss: 305.9795\n",
            "Epoch 7/50\n",
            "\u001b[1m16/16\u001b[0m \u001b[32m━━━━━━━━━━━━━━━━━━━━\u001b[0m\u001b[37m\u001b[0m \u001b[1m11s\u001b[0m 663ms/step - accuracy: 0.8401 - loss: 0.2878 - val_accuracy: 0.3115 - val_loss: 305.2648\n",
            "Epoch 8/50\n",
            "\u001b[1m16/16\u001b[0m \u001b[32m━━━━━━━━━━━━━━━━━━━━\u001b[0m\u001b[37m\u001b[0m \u001b[1m11s\u001b[0m 673ms/step - accuracy: 0.9311 - loss: 0.1577 - val_accuracy: 0.3115 - val_loss: 199.8655\n",
            "Epoch 9/50\n",
            "\u001b[1m16/16\u001b[0m \u001b[32m━━━━━━━━━━━━━━━━━━━━\u001b[0m\u001b[37m\u001b[0m \u001b[1m21s\u001b[0m 676ms/step - accuracy: 0.9629 - loss: 0.0960 - val_accuracy: 0.3115 - val_loss: 246.8311\n",
            "Epoch 10/50\n",
            "\u001b[1m16/16\u001b[0m \u001b[32m━━━━━━━━━━━━━━━━━━━━\u001b[0m\u001b[37m\u001b[0m \u001b[1m20s\u001b[0m 658ms/step - accuracy: 0.9836 - loss: 0.0517 - val_accuracy: 0.3115 - val_loss: 235.0236\n",
            "Epoch 11/50\n",
            "\u001b[1m16/16\u001b[0m \u001b[32m━━━━━━━━━━━━━━━━━━━━\u001b[0m\u001b[37m\u001b[0m \u001b[1m11s\u001b[0m 665ms/step - accuracy: 1.0000 - loss: 0.0079 - val_accuracy: 0.3115 - val_loss: 227.3810\n",
            "Epoch 12/50\n",
            "\u001b[1m16/16\u001b[0m \u001b[32m━━━━━━━━━━━━━━━━━━━━\u001b[0m\u001b[37m\u001b[0m \u001b[1m20s\u001b[0m 659ms/step - accuracy: 0.9996 - loss: 0.0034 - val_accuracy: 0.3115 - val_loss: 166.7402\n",
            "Epoch 13/50\n",
            "\u001b[1m16/16\u001b[0m \u001b[32m━━━━━━━━━━━━━━━━━━━━\u001b[0m\u001b[37m\u001b[0m \u001b[1m11s\u001b[0m 663ms/step - accuracy: 0.9993 - loss: 0.0021 - val_accuracy: 0.3115 - val_loss: 148.7100\n",
            "Epoch 14/50\n",
            "\u001b[1m16/16\u001b[0m \u001b[32m━━━━━━━━━━━━━━━━━━━━\u001b[0m\u001b[37m\u001b[0m \u001b[1m21s\u001b[0m 678ms/step - accuracy: 0.9991 - loss: 0.0032 - val_accuracy: 0.3175 - val_loss: 68.2683\n",
            "Epoch 15/50\n",
            "\u001b[1m16/16\u001b[0m \u001b[32m━━━━━━━━━━━━━━━━━━━━\u001b[0m\u001b[37m\u001b[0m \u001b[1m20s\u001b[0m 660ms/step - accuracy: 0.9999 - loss: 0.0037 - val_accuracy: 0.3115 - val_loss: 126.0118\n",
            "Epoch 16/50\n",
            "\u001b[1m16/16\u001b[0m \u001b[32m━━━━━━━━━━━━━━━━━━━━\u001b[0m\u001b[37m\u001b[0m \u001b[1m11s\u001b[0m 682ms/step - accuracy: 1.0000 - loss: 0.0012 - val_accuracy: 0.3115 - val_loss: 190.6652\n",
            "Epoch 17/50\n",
            "\u001b[1m16/16\u001b[0m \u001b[32m━━━━━━━━━━━━━━━━━━━━\u001b[0m\u001b[37m\u001b[0m \u001b[1m11s\u001b[0m 677ms/step - accuracy: 1.0000 - loss: 6.2053e-04 - val_accuracy: 0.3115 - val_loss: 123.2707\n",
            "Epoch 18/50\n",
            "\u001b[1m16/16\u001b[0m \u001b[32m━━━━━━━━━━━━━━━━━━━━\u001b[0m\u001b[37m\u001b[0m \u001b[1m11s\u001b[0m 689ms/step - accuracy: 1.0000 - loss: 2.8517e-04 - val_accuracy: 0.3115 - val_loss: 88.5314\n",
            "Epoch 19/50\n",
            "\u001b[1m16/16\u001b[0m \u001b[32m━━━━━━━━━━━━━━━━━━━━\u001b[0m\u001b[37m\u001b[0m \u001b[1m11s\u001b[0m 692ms/step - accuracy: 1.0000 - loss: 3.0440e-04 - val_accuracy: 0.3234 - val_loss: 75.7435\n",
            "Epoch 20/50\n",
            "\u001b[1m16/16\u001b[0m \u001b[32m━━━━━━━━━━━━━━━━━━━━\u001b[0m\u001b[37m\u001b[0m \u001b[1m20s\u001b[0m 671ms/step - accuracy: 1.0000 - loss: 2.4792e-04 - val_accuracy: 0.3294 - val_loss: 60.6924\n",
            "Epoch 21/50\n",
            "\u001b[1m16/16\u001b[0m \u001b[32m━━━━━━━━━━━━━━━━━━━━\u001b[0m\u001b[37m\u001b[0m \u001b[1m11s\u001b[0m 681ms/step - accuracy: 1.0000 - loss: 2.8067e-04 - val_accuracy: 0.3333 - val_loss: 47.5748\n",
            "Epoch 22/50\n",
            "\u001b[1m16/16\u001b[0m \u001b[32m━━━━━━━━━━━━━━━━━━━━\u001b[0m\u001b[37m\u001b[0m \u001b[1m11s\u001b[0m 681ms/step - accuracy: 1.0000 - loss: 2.3670e-04 - val_accuracy: 0.3433 - val_loss: 38.5057\n",
            "Epoch 23/50\n",
            "\u001b[1m16/16\u001b[0m \u001b[32m━━━━━━━━━━━━━━━━━━━━\u001b[0m\u001b[37m\u001b[0m \u001b[1m21s\u001b[0m 677ms/step - accuracy: 1.0000 - loss: 2.2378e-04 - val_accuracy: 0.3532 - val_loss: 27.8661\n",
            "Epoch 24/50\n",
            "\u001b[1m16/16\u001b[0m \u001b[32m━━━━━━━━━━━━━━━━━━━━\u001b[0m\u001b[37m\u001b[0m \u001b[1m20s\u001b[0m 678ms/step - accuracy: 1.0000 - loss: 1.7657e-04 - val_accuracy: 0.3690 - val_loss: 19.2517\n",
            "Epoch 25/50\n",
            "\u001b[1m16/16\u001b[0m \u001b[32m━━━━━━━━━━━━━━━━━━━━\u001b[0m\u001b[37m\u001b[0m \u001b[1m20s\u001b[0m 680ms/step - accuracy: 1.0000 - loss: 1.6331e-04 - val_accuracy: 0.3929 - val_loss: 15.2477\n",
            "Epoch 26/50\n",
            "\u001b[1m16/16\u001b[0m \u001b[32m━━━━━━━━━━━━━━━━━━━━\u001b[0m\u001b[37m\u001b[0m \u001b[1m20s\u001b[0m 666ms/step - accuracy: 1.0000 - loss: 1.7043e-04 - val_accuracy: 0.3968 - val_loss: 12.0508\n",
            "Epoch 27/50\n",
            "\u001b[1m16/16\u001b[0m \u001b[32m━━━━━━━━━━━━━━━━━━━━\u001b[0m\u001b[37m\u001b[0m \u001b[1m21s\u001b[0m 681ms/step - accuracy: 1.0000 - loss: 1.1449e-04 - val_accuracy: 0.4583 - val_loss: 6.2924\n",
            "Epoch 28/50\n",
            "\u001b[1m16/16\u001b[0m \u001b[32m━━━━━━━━━━━━━━━━━━━━\u001b[0m\u001b[37m\u001b[0m \u001b[1m11s\u001b[0m 684ms/step - accuracy: 1.0000 - loss: 1.6159e-04 - val_accuracy: 0.6528 - val_loss: 2.9555\n",
            "Epoch 29/50\n",
            "\u001b[1m16/16\u001b[0m \u001b[32m━━━━━━━━━━━━━━━━━━━━\u001b[0m\u001b[37m\u001b[0m \u001b[1m11s\u001b[0m 680ms/step - accuracy: 1.0000 - loss: 1.3654e-04 - val_accuracy: 0.6409 - val_loss: 3.1650\n",
            "Epoch 30/50\n",
            "\u001b[1m16/16\u001b[0m \u001b[32m━━━━━━━━━━━━━━━━━━━━\u001b[0m\u001b[37m\u001b[0m \u001b[1m11s\u001b[0m 675ms/step - accuracy: 1.0000 - loss: 8.3506e-05 - val_accuracy: 0.7302 - val_loss: 1.6823\n",
            "Epoch 31/50\n",
            "\u001b[1m16/16\u001b[0m \u001b[32m━━━━━━━━━━━━━━━━━━━━\u001b[0m\u001b[37m\u001b[0m \u001b[1m11s\u001b[0m 701ms/step - accuracy: 1.0000 - loss: 1.0561e-04 - val_accuracy: 0.8433 - val_loss: 0.6922\n",
            "Epoch 32/50\n",
            "\u001b[1m16/16\u001b[0m \u001b[32m━━━━━━━━━━━━━━━━━━━━\u001b[0m\u001b[37m\u001b[0m \u001b[1m11s\u001b[0m 680ms/step - accuracy: 1.0000 - loss: 7.0468e-05 - val_accuracy: 0.9325 - val_loss: 0.2239\n",
            "Epoch 33/50\n",
            "\u001b[1m16/16\u001b[0m \u001b[32m━━━━━━━━━━━━━━━━━━━━\u001b[0m\u001b[37m\u001b[0m \u001b[1m11s\u001b[0m 698ms/step - accuracy: 1.0000 - loss: 7.8600e-05 - val_accuracy: 0.9742 - val_loss: 0.0895\n",
            "Epoch 34/50\n",
            "\u001b[1m16/16\u001b[0m \u001b[32m━━━━━━━━━━━━━━━━━━━━\u001b[0m\u001b[37m\u001b[0m \u001b[1m11s\u001b[0m 684ms/step - accuracy: 1.0000 - loss: 9.7829e-05 - val_accuracy: 0.9742 - val_loss: 0.0812\n",
            "Epoch 35/50\n",
            "\u001b[1m16/16\u001b[0m \u001b[32m━━━━━━━━━━━━━━━━━━━━\u001b[0m\u001b[37m\u001b[0m \u001b[1m11s\u001b[0m 697ms/step - accuracy: 1.0000 - loss: 7.9372e-05 - val_accuracy: 0.9861 - val_loss: 0.0441\n",
            "Epoch 36/50\n",
            "\u001b[1m16/16\u001b[0m \u001b[32m━━━━━━━━━━━━━━━━━━━━\u001b[0m\u001b[37m\u001b[0m \u001b[1m11s\u001b[0m 699ms/step - accuracy: 1.0000 - loss: 1.0990e-04 - val_accuracy: 1.0000 - val_loss: 1.7541e-04\n",
            "Epoch 37/50\n",
            "\u001b[1m16/16\u001b[0m \u001b[32m━━━━━━━━━━━━━━━━━━━━\u001b[0m\u001b[37m\u001b[0m \u001b[1m20s\u001b[0m 692ms/step - accuracy: 1.0000 - loss: 7.8238e-05 - val_accuracy: 0.9980 - val_loss: 0.0026\n",
            "Epoch 38/50\n",
            "\u001b[1m16/16\u001b[0m \u001b[32m━━━━━━━━━━━━━━━━━━━━\u001b[0m\u001b[37m\u001b[0m \u001b[1m20s\u001b[0m 689ms/step - accuracy: 1.0000 - loss: 7.7900e-05 - val_accuracy: 0.9980 - val_loss: 0.0190\n",
            "Epoch 39/50\n",
            "\u001b[1m16/16\u001b[0m \u001b[32m━━━━━━━━━━━━━━━━━━━━\u001b[0m\u001b[37m\u001b[0m \u001b[1m11s\u001b[0m 678ms/step - accuracy: 1.0000 - loss: 6.7813e-05 - val_accuracy: 0.9742 - val_loss: 0.0918\n",
            "Epoch 40/50\n",
            "\u001b[1m16/16\u001b[0m \u001b[32m━━━━━━━━━━━━━━━━━━━━\u001b[0m\u001b[37m\u001b[0m \u001b[1m11s\u001b[0m 681ms/step - accuracy: 1.0000 - loss: 5.3519e-05 - val_accuracy: 0.9861 - val_loss: 0.0492\n",
            "Epoch 41/50\n",
            "\u001b[1m16/16\u001b[0m \u001b[32m━━━━━━━━━━━━━━━━━━━━\u001b[0m\u001b[37m\u001b[0m \u001b[1m21s\u001b[0m 691ms/step - accuracy: 1.0000 - loss: 7.0476e-05 - val_accuracy: 1.0000 - val_loss: 2.7301e-04\n",
            "Epoch 42/50\n",
            "\u001b[1m16/16\u001b[0m \u001b[32m━━━━━━━━━━━━━━━━━━━━\u001b[0m\u001b[37m\u001b[0m \u001b[1m20s\u001b[0m 687ms/step - accuracy: 1.0000 - loss: 5.7762e-05 - val_accuracy: 1.0000 - val_loss: 5.1776e-05\n",
            "Epoch 43/50\n",
            "\u001b[1m16/16\u001b[0m \u001b[32m━━━━━━━━━━━━━━━━━━━━\u001b[0m\u001b[37m\u001b[0m \u001b[1m11s\u001b[0m 690ms/step - accuracy: 1.0000 - loss: 5.0454e-05 - val_accuracy: 1.0000 - val_loss: 5.9177e-05\n",
            "Epoch 44/50\n",
            "\u001b[1m16/16\u001b[0m \u001b[32m━━━━━━━━━━━━━━━━━━━━\u001b[0m\u001b[37m\u001b[0m \u001b[1m20s\u001b[0m 670ms/step - accuracy: 1.0000 - loss: 7.5847e-05 - val_accuracy: 1.0000 - val_loss: 6.9010e-04\n",
            "Epoch 45/50\n",
            "\u001b[1m16/16\u001b[0m \u001b[32m━━━━━━━━━━━━━━━━━━━━\u001b[0m\u001b[37m\u001b[0m \u001b[1m21s\u001b[0m 687ms/step - accuracy: 1.0000 - loss: 7.0425e-05 - val_accuracy: 0.9980 - val_loss: 0.0018\n",
            "Epoch 46/50\n",
            "\u001b[1m16/16\u001b[0m \u001b[32m━━━━━━━━━━━━━━━━━━━━\u001b[0m\u001b[37m\u001b[0m \u001b[1m12s\u001b[0m 688ms/step - accuracy: 1.0000 - loss: 4.7115e-05 - val_accuracy: 1.0000 - val_loss: 8.7189e-05\n",
            "Epoch 47/50\n",
            "\u001b[1m16/16\u001b[0m \u001b[32m━━━━━━━━━━━━━━━━━━━━\u001b[0m\u001b[37m\u001b[0m \u001b[1m20s\u001b[0m 672ms/step - accuracy: 1.0000 - loss: 4.1857e-05 - val_accuracy: 1.0000 - val_loss: 4.9681e-05\n",
            "Epoch 48/50\n",
            "\u001b[1m16/16\u001b[0m \u001b[32m━━━━━━━━━━━━━━━━━━━━\u001b[0m\u001b[37m\u001b[0m \u001b[1m21s\u001b[0m 684ms/step - accuracy: 1.0000 - loss: 5.2664e-05 - val_accuracy: 0.9980 - val_loss: 0.0020\n",
            "Epoch 49/50\n",
            "\u001b[1m16/16\u001b[0m \u001b[32m━━━━━━━━━━━━━━━━━━━━\u001b[0m\u001b[37m\u001b[0m \u001b[1m11s\u001b[0m 674ms/step - accuracy: 1.0000 - loss: 4.5123e-05 - val_accuracy: 0.9980 - val_loss: 0.0043\n",
            "Epoch 50/50\n",
            "\u001b[1m16/16\u001b[0m \u001b[32m━━━━━━━━━━━━━━━━━━━━\u001b[0m\u001b[37m\u001b[0m \u001b[1m21s\u001b[0m 685ms/step - accuracy: 1.0000 - loss: 3.9903e-05 - val_accuracy: 1.0000 - val_loss: 5.7078e-04\n"
          ]
        }
      ]
    },
    {
      "cell_type": "code",
      "source": [
        "import matplotlib.pyplot as plt\n",
        "\n",
        "# Assuming 'history' is the result of model.fit()\n",
        "# Plot training & validation accuracy values\n",
        "plt.figure(figsize=(10, 5))\n",
        "plt.subplot(1, 2, 1)\n",
        "plt.plot(history.history['accuracy'])\n",
        "plt.plot(history.history['val_accuracy'])\n",
        "plt.title('Model accuracy')\n",
        "plt.ylabel('Accuracy')\n",
        "plt.xlabel('Epoch')\n",
        "plt.legend(['Train', 'Validation'], loc='upper left')\n",
        "\n",
        "# Plot training & validation loss values\n",
        "plt.subplot(1, 2, 2)\n",
        "plt.plot(history.history['loss'])\n",
        "plt.plot(history.history['val_loss'])\n",
        "plt.title('Model loss')\n",
        "plt.ylabel('Loss')\n",
        "plt.xlabel('Epoch')\n",
        "plt.legend(['Train', 'Validation'], loc='upper left')\n",
        "\n",
        "plt.tight_layout()\n",
        "plt.show()\n",
        "\n",
        "model = tf.keras.models.load_model('supernetwork.keras')\n",
        "\n",
        "with suppress_output():\n",
        "    tflite_model, interpreter = convert_to_tflite(model)\n",
        "print(f\"💾 TFLite Model Size:\", len(tflite_model))\n",
        "\n",
        "# Evaluate the quantized model on the test_ds\n",
        "test_acc = evaluate_tflite_model(interpreter, test_ds)\n",
        "\n",
        "print(f\"🎯 Test accuracy: {test_acc:.4f}\")"
      ],
      "metadata": {
        "colab": {
          "base_uri": "https://localhost:8080/",
          "height": 559
        },
        "id": "bhcuvFmiWOBq",
        "outputId": "da1f9cdb-1c09-47a3-daab-2fec9ca1df5c"
      },
      "execution_count": 11,
      "outputs": [
        {
          "output_type": "display_data",
          "data": {
            "text/plain": [
              "<Figure size 1000x500 with 2 Axes>"
            ],
            "image/png": "[encoded data removed]"
          },
          "metadata": {}
        },
        {
          "output_type": "stream",
          "name": "stdout",
          "text": [
            "💾 TFLite Model Size: 2736568\n",
            "TFLite Quantized Model Accuracy: 0.9247\n",
            "🎯 Test accuracy: 0.9247\n"
          ]
        }
      ]
    },
    {
      "cell_type": "code",
      "source": [
        "test_loss, test_acc = model.evaluate(test_ds)\n",
        "print(f\"Before TFLITE Test accuracy: {test_acc:.4f}\")"
      ],
      "metadata": {
        "colab": {
          "base_uri": "https://localhost:8080/"
        },
        "id": "9V9JS9okjmT7",
        "outputId": "ef8d34ac-3f02-4b7a-fcf1-a4985f3845ab"
      },
      "execution_count": 13,
      "outputs": [
        {
          "output_type": "stream",
          "name": "stdout",
          "text": [
            "\u001b[1m3/3\u001b[0m \u001b[32m━━━━━━━━━━━━━━━━━━━━\u001b[0m\u001b[37m\u001b[0m \u001b[1m0s\u001b[0m 105ms/step - accuracy: 0.9223 - loss: 0.4637\n",
            "Before TFLITE Test accuracy: 0.9247\n"
          ]
        }
      ]
    },
    {
      "cell_type": "markdown",
      "source": [
        "## 🦠 Generate Population of Sub-network and Evolution Search"
      ],
      "metadata": {
        "id": "FTQAuK3zW6Ck"
      }
    },
    {
      "cell_type": "code",
      "source": [
        "# run evolution for the entire state space (WILL TAKE A LONG TIME!)\n",
        "\n",
        "model = tf.keras.models.load_model('supernetwork.keras')\n",
        "POP_ITERATIONS = 2\n",
        "\n",
        "for i in range(POP_ITERATIONS):\n",
        "    print(f\"🧬 Generation {i+1}/{POP_ITERATIONS}\")\n",
        "\n",
        "    # Initialize the Population\n",
        "    population = []\n",
        "\n",
        "    if i == 0:\n",
        "        with tqdm(total=POP_SIZE, desc=\"Initial Population\") as pbar:\n",
        "            while len(population) < POP_SIZE:\n",
        "                config = {\n",
        "                    'starting_kernel': random.choice(KERNEL),\n",
        "                    'depth_0': random.choice(DEPTH),\n",
        "                    'depth_1': random.choice(DEPTH),\n",
        "                    'kernel_0': random.choice(KERNEL),\n",
        "                    'kernel_1': random.choice(KERNEL),\n",
        "                }\n",
        "\n",
        "                subnetwork = sample_subnetwork(model, config, resolution=RESOLUTION, width=WIDTH, num_classes=NUM_CLASSES)\n",
        "\n",
        "                with suppress_output():\n",
        "                    tflite_model, interpreter = convert_to_tflite(model)\n",
        "                flash_size = len(tflite_model)\n",
        "\n",
        "                if flash_size < (1e6/2):\n",
        "                    calibrate_batchnorm(subnetwork, val_ds, num_batches=128)\n",
        "                    # evaluate on val_ds\n",
        "                    subnetwork.compile(\n",
        "                        optimizer='adam',\n",
        "                        loss='categorical_crossentropy',\n",
        "                        metrics=['accuracy']\n",
        "                    )\n",
        "                    history = subnetwork.fit(val_ds, epochs=2, verbose=0)\n",
        "                    fitness = history.history['accuracy'][-1]\n",
        "                    population.append((config, fitness))\n",
        "                    print(f\"🦠 Initial population: \")\n",
        "                    for cfg, fitness in population:\n",
        "                        print(f\"    Config: {cfg}, Fitness: {fitness}\")\n",
        "    else:\n",
        "        population = evolve_one_generation(population, search_space)\n",
        "        print(f\"🦠 New population: \")\n",
        "        for cfg, fitness in population:\n",
        "            print(f\"    Config: {cfg}, Fitness: {fitness}\")\n",
        "        print(f\"💪 Best fitness: {max(population, key=lambda x: x[1])}\")"
      ],
      "metadata": {
        "colab": {
          "base_uri": "https://localhost:8080/"
        },
        "id": "hZVNH1HAXMgx",
        "outputId": "570f55d3-55bb-467e-c969-1c43cf410e9b"
      },
      "execution_count": null,
      "outputs": [
        {
          "output_type": "stream",
          "name": "stdout",
          "text": [
            "🧬 Generation 1/2\n"
          ]
        }
      ]
    },
    {
      "cell_type": "markdown",
      "source": [
        "We manually run the genetic algorithm for now to prevent crashes. If you wish to iterate over the entire resolution, all you need to do is run the code above"
      ],
      "metadata": {
        "id": "GXzUNOUMe83l"
      }
    },
    {
      "cell_type": "markdown",
      "source": [
        "### 🌎 **Population 1 (Initial Random Population)**"
      ],
      "metadata": {
        "id": "7WTxovd6fEjn"
      }
    },
    {
      "cell_type": "code",
      "source": [
        "model = tf.keras.models.load_model('supernetwork.keras')\n",
        "print(f\"🧬 Generation {1}/{POP_ITERATIONS}\")\n",
        "population = []\n",
        "\n",
        "while len(population) < POP_SIZE:\n",
        "    config = {\n",
        "        'starting_kernel': random.choice(KERNEL),\n",
        "        'depth_0': random.choice(DEPTH),\n",
        "        'depth_1': random.choice(DEPTH),\n",
        "        'kernel_0': random.choice(KERNEL),\n",
        "        'kernel_1': random.choice(KERNEL),\n",
        "    }\n",
        "\n",
        "    subnetwork = sample_subnetwork(model, config, resolution=RESOLUTION, width=WIDTH, num_classes=NUM_CLASSES)\n",
        "\n",
        "    with suppress_output():\n",
        "        tflite_model, interpreter = convert_to_tflite(subnetwork)\n",
        "    flash_size = len(tflite_model)\n",
        "\n",
        "    if flash_size < (1e6/2):\n",
        "        calibrate_batchnorm(subnetwork, val_ds, num_batches=128)\n",
        "        # evaluate on val_ds\n",
        "        subnetwork.compile(\n",
        "            optimizer='adam',\n",
        "            loss='categorical_crossentropy',\n",
        "            metrics=['accuracy']\n",
        "        )\n",
        "        history = subnetwork.fit(val_ds, epochs=5, verbose=0)\n",
        "        fitness = history.history['accuracy'][-1]\n",
        "        print(f\"🦠 Added to population: \")\n",
        "        print(f\"    Config: {config}, Fitness: {fitness}\")\n",
        "        population.append((config, fitness))\n",
        "print(f\"🦠 Initial population: \")\n",
        "for cfg, fitness in population:\n",
        "    print(f\"    Config: {cfg}, Fitness: {fitness}\")"
      ],
      "metadata": {
        "colab": {
          "base_uri": "https://localhost:8080/"
        },
        "id": "NukOF8wQcXUc",
        "outputId": "cb6092f2-b25f-4efb-f408-9f857c53ff80"
      },
      "execution_count": 6,
      "outputs": [
        {
          "output_type": "stream",
          "name": "stdout",
          "text": [
            "🧬 Generation 1/10\n",
            "✅ Calibration done.\n",
            "🦠 Added to population: \n",
            "    Config: {'starting_kernel': 5, 'depth_0': 3, 'depth_1': 4, 'kernel_0': 3, 'kernel_1': 3}, Fitness: 0.6646825671195984\n",
            "✅ Calibration done.\n",
            "🦠 Added to population: \n",
            "    Config: {'starting_kernel': 3, 'depth_0': 3, 'depth_1': 3, 'kernel_0': 3, 'kernel_1': 5}, Fitness: 0.7202380895614624\n",
            "✅ Calibration done.\n",
            "🦠 Added to population: \n",
            "    Config: {'starting_kernel': 7, 'depth_0': 1, 'depth_1': 2, 'kernel_0': 3, 'kernel_1': 5}, Fitness: 0.8115079402923584\n",
            "✅ Calibration done.\n",
            "🦠 Added to population: \n",
            "    Config: {'starting_kernel': 3, 'depth_0': 3, 'depth_1': 2, 'kernel_0': 5, 'kernel_1': 3}, Fitness: 0.9305555820465088\n",
            "✅ Calibration done.\n",
            "🦠 Added to population: \n",
            "    Config: {'starting_kernel': 5, 'depth_0': 4, 'depth_1': 1, 'kernel_0': 3, 'kernel_1': 7}, Fitness: 0.9464285969734192\n",
            "✅ Calibration done.\n",
            "🦠 Added to population: \n",
            "    Config: {'starting_kernel': 9, 'depth_0': 1, 'depth_1': 1, 'kernel_0': 9, 'kernel_1': 3}, Fitness: 0.9285714030265808\n",
            "✅ Calibration done.\n",
            "🦠 Added to population: \n",
            "    Config: {'starting_kernel': 3, 'depth_0': 1, 'depth_1': 1, 'kernel_0': 3, 'kernel_1': 7}, Fitness: 0.7817460298538208\n",
            "✅ Calibration done.\n",
            "🦠 Added to population: \n",
            "    Config: {'starting_kernel': 3, 'depth_0': 1, 'depth_1': 2, 'kernel_0': 5, 'kernel_1': 3}, Fitness: 0.9484127163887024\n",
            "✅ Calibration done.\n",
            "🦠 Added to population: \n",
            "    Config: {'starting_kernel': 3, 'depth_0': 1, 'depth_1': 3, 'kernel_0': 5, 'kernel_1': 3}, Fitness: 0.9246031641960144\n",
            "✅ Calibration done.\n",
            "🦠 Added to population: \n",
            "    Config: {'starting_kernel': 3, 'depth_0': 1, 'depth_1': 1, 'kernel_0': 5, 'kernel_1': 7}, Fitness: 0.875\n",
            "🦠 Initial population: \n",
            "    Config: {'starting_kernel': 5, 'depth_0': 3, 'depth_1': 4, 'kernel_0': 3, 'kernel_1': 3}, Fitness: 0.6646825671195984\n",
            "    Config: {'starting_kernel': 3, 'depth_0': 3, 'depth_1': 3, 'kernel_0': 3, 'kernel_1': 5}, Fitness: 0.7202380895614624\n",
            "    Config: {'starting_kernel': 7, 'depth_0': 1, 'depth_1': 2, 'kernel_0': 3, 'kernel_1': 5}, Fitness: 0.8115079402923584\n",
            "    Config: {'starting_kernel': 3, 'depth_0': 3, 'depth_1': 2, 'kernel_0': 5, 'kernel_1': 3}, Fitness: 0.9305555820465088\n",
            "    Config: {'starting_kernel': 5, 'depth_0': 4, 'depth_1': 1, 'kernel_0': 3, 'kernel_1': 7}, Fitness: 0.9464285969734192\n",
            "    Config: {'starting_kernel': 9, 'depth_0': 1, 'depth_1': 1, 'kernel_0': 9, 'kernel_1': 3}, Fitness: 0.9285714030265808\n",
            "    Config: {'starting_kernel': 3, 'depth_0': 1, 'depth_1': 1, 'kernel_0': 3, 'kernel_1': 7}, Fitness: 0.7817460298538208\n",
            "    Config: {'starting_kernel': 3, 'depth_0': 1, 'depth_1': 2, 'kernel_0': 5, 'kernel_1': 3}, Fitness: 0.9484127163887024\n",
            "    Config: {'starting_kernel': 3, 'depth_0': 1, 'depth_1': 3, 'kernel_0': 5, 'kernel_1': 3}, Fitness: 0.9246031641960144\n",
            "    Config: {'starting_kernel': 3, 'depth_0': 1, 'depth_1': 1, 'kernel_0': 5, 'kernel_1': 7}, Fitness: 0.875\n"
          ]
        }
      ]
    },
    {
      "cell_type": "markdown",
      "source": [
        "### 🌎 **Population 2 (Evolution Algo)**"
      ],
      "metadata": {
        "id": "F_kH1mAufZTm"
      }
    },
    {
      "cell_type": "code",
      "source": [
        "print(f\"🧬 Generation {2}/{POP_ITERATIONS}\")\n",
        "population = evolve_one_generation(population, search_space, model, val_ds)\n",
        "print(f\"🦠 New population: \")\n",
        "for cfg, fitness in population:\n",
        "    print(f\"    Config: {cfg}, Fitness: {fitness}\")\n",
        "print(f\"💪 Best fitness: {max(population, key=lambda x: x[1])}\")"
      ],
      "metadata": {
        "colab": {
          "base_uri": "https://localhost:8080/"
        },
        "id": "G36sSQFgfPqo",
        "outputId": "448f5a6f-03ba-4d0f-dd1c-e1a9bdaccd7c"
      },
      "execution_count": 7,
      "outputs": [
        {
          "output_type": "stream",
          "name": "stdout",
          "text": [
            "🧬 Generation 2/10\n",
            "✅ Calibration done.\n",
            "🦠 Added to population: \n",
            "    Config: {'starting_kernel': 3, 'depth_0': 1, 'depth_1': 1, 'kernel_0': 5, 'kernel_1': 7}, Fitness: 0.8015872836112976\n",
            "✅ Calibration done.\n",
            "🦠 Added to population: \n",
            "    Config: {'starting_kernel': 3, 'depth_0': 1, 'depth_1': 1, 'kernel_0': 3, 'kernel_1': 3}, Fitness: 0.8472222089767456\n",
            "✅ Calibration done.\n",
            "🦠 Added to population: \n",
            "    Config: {'starting_kernel': 3, 'depth_0': 1, 'depth_1': 1, 'kernel_0': 3, 'kernel_1': 7}, Fitness: 0.8908730149269104\n",
            "✅ Calibration done.\n",
            "🦠 Added to population: \n",
            "    Config: {'starting_kernel': 5, 'depth_0': 4, 'depth_1': 1, 'kernel_0': 3, 'kernel_1': 3}, Fitness: 0.8928571343421936\n",
            "✅ Calibration done.\n",
            "🦠 Added to population: \n",
            "    Config: {'starting_kernel': 5, 'depth_0': 4, 'depth_1': 1, 'kernel_0': 3, 'kernel_1': 7}, Fitness: 0.8769841194152832\n",
            "✅ Calibration done.\n",
            "🦠 Added to population: \n",
            "    Config: {'starting_kernel': 9, 'depth_0': 1, 'depth_1': 2, 'kernel_0': 5, 'kernel_1': 3}, Fitness: 0.9464285969734192\n",
            "✅ Calibration done.\n",
            "🦠 Added to population: \n",
            "    Config: {'starting_kernel': 3, 'depth_0': 1, 'depth_1': 1, 'kernel_0': 7, 'kernel_1': 3}, Fitness: 0.9166666865348816\n",
            "✅ Calibration done.\n",
            "🦠 Added to population: \n",
            "    Config: {'starting_kernel': 3, 'depth_0': 3, 'depth_1': 3, 'kernel_0': 3, 'kernel_1': 3}, Fitness: 0.6726190447807312\n",
            "✅ Calibration done.\n",
            "🦠 Added to population: \n",
            "    Config: {'starting_kernel': 7, 'depth_0': 2, 'depth_1': 1, 'kernel_0': 5, 'kernel_1': 5}, Fitness: 0.9484127163887024\n",
            "✅ Calibration done.\n",
            "🦠 Added to population: \n",
            "    Config: {'starting_kernel': 7, 'depth_0': 2, 'depth_1': 4, 'kernel_0': 5, 'kernel_1': 3}, Fitness: 0.6408730149269104\n",
            "🦠 New population: \n",
            "    Config: {'starting_kernel': 3, 'depth_0': 1, 'depth_1': 1, 'kernel_0': 5, 'kernel_1': 7}, Fitness: 0.8015872836112976\n",
            "    Config: {'starting_kernel': 3, 'depth_0': 1, 'depth_1': 1, 'kernel_0': 3, 'kernel_1': 3}, Fitness: 0.8472222089767456\n",
            "    Config: {'starting_kernel': 3, 'depth_0': 1, 'depth_1': 1, 'kernel_0': 3, 'kernel_1': 7}, Fitness: 0.8908730149269104\n",
            "    Config: {'starting_kernel': 5, 'depth_0': 4, 'depth_1': 1, 'kernel_0': 3, 'kernel_1': 3}, Fitness: 0.8928571343421936\n",
            "    Config: {'starting_kernel': 5, 'depth_0': 4, 'depth_1': 1, 'kernel_0': 3, 'kernel_1': 7}, Fitness: 0.8769841194152832\n",
            "    Config: {'starting_kernel': 9, 'depth_0': 1, 'depth_1': 2, 'kernel_0': 5, 'kernel_1': 3}, Fitness: 0.9464285969734192\n",
            "    Config: {'starting_kernel': 3, 'depth_0': 1, 'depth_1': 1, 'kernel_0': 7, 'kernel_1': 3}, Fitness: 0.9166666865348816\n",
            "    Config: {'starting_kernel': 3, 'depth_0': 3, 'depth_1': 3, 'kernel_0': 3, 'kernel_1': 3}, Fitness: 0.6726190447807312\n",
            "    Config: {'starting_kernel': 7, 'depth_0': 2, 'depth_1': 1, 'kernel_0': 5, 'kernel_1': 5}, Fitness: 0.9484127163887024\n",
            "    Config: {'starting_kernel': 7, 'depth_0': 2, 'depth_1': 4, 'kernel_0': 5, 'kernel_1': 3}, Fitness: 0.6408730149269104\n",
            "💪 Best fitness: ({'starting_kernel': 7, 'depth_0': 2, 'depth_1': 1, 'kernel_0': 5, 'kernel_1': 5}, 0.9484127163887024)\n"
          ]
        }
      ]
    },
    {
      "cell_type": "markdown",
      "source": [
        "### 🌎 **Population 3 (Evolution Algo)**"
      ],
      "metadata": {
        "id": "GKUsvqeihugF"
      }
    },
    {
      "cell_type": "code",
      "source": [
        "print(f\"🧬 Generation {3}/{POP_ITERATIONS}\")\n",
        "population = evolve_one_generation(population, search_space, model, val_ds)\n",
        "print(f\"🦠 New population: \")\n",
        "for cfg, fitness in population:\n",
        "    print(f\"    Config: {cfg}, Fitness: {fitness}\")\n",
        "print(f\"💪 Best fitness: {max(population, key=lambda x: x[1])}\")"
      ],
      "metadata": {
        "colab": {
          "base_uri": "https://localhost:8080/"
        },
        "id": "LsJYvN1xhv4b",
        "outputId": "ba8abb1c-79c7-4e2e-8233-4c1145f39a02"
      },
      "execution_count": 8,
      "outputs": [
        {
          "output_type": "stream",
          "name": "stdout",
          "text": [
            "🧬 Generation 3/10\n",
            "✅ Calibration done.\n",
            "🦠 Added to population: \n",
            "    Config: {'starting_kernel': 7, 'depth_0': 1, 'depth_1': 1, 'kernel_0': 5, 'kernel_1': 5}, Fitness: 0.8591269850730896\n",
            "✅ Calibration done.\n",
            "🦠 Added to population: \n",
            "    Config: {'starting_kernel': 7, 'depth_0': 2, 'depth_1': 2, 'kernel_0': 5, 'kernel_1': 3}, Fitness: 0.8353174328804016\n",
            "✅ Calibration done.\n",
            "🦠 Added to population: \n",
            "    Config: {'starting_kernel': 7, 'depth_0': 1, 'depth_1': 2, 'kernel_0': 5, 'kernel_1': 5}, Fitness: 0.9027777910232544\n",
            "✅ Calibration done.\n",
            "🦠 Added to population: \n",
            "    Config: {'starting_kernel': 7, 'depth_0': 1, 'depth_1': 1, 'kernel_0': 5, 'kernel_1': 5}, Fitness: 0.8373016119003296\n",
            "✅ Calibration done.\n",
            "🦠 Added to population: \n",
            "    Config: {'starting_kernel': 9, 'depth_0': 2, 'depth_1': 1, 'kernel_0': 5, 'kernel_1': 5}, Fitness: 0.9821428656578064\n",
            "✅ Calibration done.\n",
            "🦠 Added to population: \n",
            "    Config: {'starting_kernel': 9, 'depth_0': 1, 'depth_1': 2, 'kernel_0': 3, 'kernel_1': 3}, Fitness: 0.9107142686843872\n",
            "✅ Calibration done.\n",
            "🦠 Added to population: \n",
            "    Config: {'starting_kernel': 3, 'depth_0': 2, 'depth_1': 1, 'kernel_0': 3, 'kernel_1': 5}, Fitness: 0.8710317611694336\n",
            "✅ Calibration done.\n",
            "🦠 Added to population: \n",
            "    Config: {'starting_kernel': 3, 'depth_0': 2, 'depth_1': 1, 'kernel_0': 5, 'kernel_1': 5}, Fitness: 0.9523809552192688\n",
            "✅ Calibration done.\n",
            "🦠 Added to population: \n",
            "    Config: {'starting_kernel': 7, 'depth_0': 1, 'depth_1': 2, 'kernel_0': 7, 'kernel_1': 3}, Fitness: 0.9603174328804016\n",
            "✅ Calibration done.\n",
            "🦠 Added to population: \n",
            "    Config: {'starting_kernel': 5, 'depth_0': 2, 'depth_1': 1, 'kernel_0': 5, 'kernel_1': 5}, Fitness: 0.8908730149269104\n",
            "🦠 New population: \n",
            "    Config: {'starting_kernel': 7, 'depth_0': 1, 'depth_1': 1, 'kernel_0': 5, 'kernel_1': 5}, Fitness: 0.8591269850730896\n",
            "    Config: {'starting_kernel': 7, 'depth_0': 2, 'depth_1': 2, 'kernel_0': 5, 'kernel_1': 3}, Fitness: 0.8353174328804016\n",
            "    Config: {'starting_kernel': 7, 'depth_0': 1, 'depth_1': 2, 'kernel_0': 5, 'kernel_1': 5}, Fitness: 0.9027777910232544\n",
            "    Config: {'starting_kernel': 7, 'depth_0': 1, 'depth_1': 1, 'kernel_0': 5, 'kernel_1': 5}, Fitness: 0.8373016119003296\n",
            "    Config: {'starting_kernel': 9, 'depth_0': 2, 'depth_1': 1, 'kernel_0': 5, 'kernel_1': 5}, Fitness: 0.9821428656578064\n",
            "    Config: {'starting_kernel': 9, 'depth_0': 1, 'depth_1': 2, 'kernel_0': 3, 'kernel_1': 3}, Fitness: 0.9107142686843872\n",
            "    Config: {'starting_kernel': 3, 'depth_0': 2, 'depth_1': 1, 'kernel_0': 3, 'kernel_1': 5}, Fitness: 0.8710317611694336\n",
            "    Config: {'starting_kernel': 3, 'depth_0': 2, 'depth_1': 1, 'kernel_0': 5, 'kernel_1': 5}, Fitness: 0.9523809552192688\n",
            "    Config: {'starting_kernel': 7, 'depth_0': 1, 'depth_1': 2, 'kernel_0': 7, 'kernel_1': 3}, Fitness: 0.9603174328804016\n",
            "    Config: {'starting_kernel': 5, 'depth_0': 2, 'depth_1': 1, 'kernel_0': 5, 'kernel_1': 5}, Fitness: 0.8908730149269104\n",
            "💪 Best fitness: ({'starting_kernel': 9, 'depth_0': 2, 'depth_1': 1, 'kernel_0': 5, 'kernel_1': 5}, 0.9821428656578064)\n"
          ]
        }
      ]
    },
    {
      "cell_type": "markdown",
      "source": [
        "### 🌎 **Population 4 (Evolution Algo)**"
      ],
      "metadata": {
        "id": "zA-YgS46ix9H"
      }
    },
    {
      "cell_type": "code",
      "source": [
        "print(f\"🧬 Generation {4}/{POP_ITERATIONS}\")\n",
        "population = evolve_one_generation(population, search_space, model, val_ds)\n",
        "print(f\"🦠 New population: \")\n",
        "for cfg, fitness in population:\n",
        "    print(f\"    Config: {cfg}, Fitness: {fitness}\")\n",
        "print(f\"💪 Best fitness: {max(population, key=lambda x: x[1])}\")"
      ],
      "metadata": {
        "colab": {
          "base_uri": "https://localhost:8080/"
        },
        "id": "NMZIHPLZizR2",
        "outputId": "31391268-95d0-4c96-f9cc-071dd0334d48"
      },
      "execution_count": 9,
      "outputs": [
        {
          "output_type": "stream",
          "name": "stdout",
          "text": [
            "🧬 Generation 4/10\n",
            "✅ Calibration done.\n",
            "🦠 Added to population: \n",
            "    Config: {'starting_kernel': 7, 'depth_0': 2, 'depth_1': 1, 'kernel_0': 5, 'kernel_1': 3}, Fitness: 0.8253968358039856\n",
            "✅ Calibration done.\n",
            "🦠 Added to population: \n",
            "    Config: {'starting_kernel': 7, 'depth_0': 2, 'depth_1': 2, 'kernel_0': 5, 'kernel_1': 3}, Fitness: 0.682539701461792\n",
            "✅ Calibration done.\n",
            "🦠 Added to population: \n",
            "    Config: {'starting_kernel': 7, 'depth_0': 2, 'depth_1': 2, 'kernel_0': 5, 'kernel_1': 5}, Fitness: 0.988095223903656\n",
            "✅ Calibration done.\n",
            "🦠 Added to population: \n",
            "    Config: {'starting_kernel': 7, 'depth_0': 2, 'depth_1': 2, 'kernel_0': 5, 'kernel_1': 3}, Fitness: 0.932539701461792\n",
            "✅ Calibration done.\n",
            "🦠 Added to population: \n",
            "    Config: {'starting_kernel': 9, 'depth_0': 1, 'depth_1': 1, 'kernel_0': 7, 'kernel_1': 3}, Fitness: 0.7757936716079712\n",
            "✅ Calibration done.\n",
            "🦠 Added to population: \n",
            "    Config: {'starting_kernel': 7, 'depth_0': 1, 'depth_1': 2, 'kernel_0': 7, 'kernel_1': 3}, Fitness: 0.9404761791229248\n",
            "✅ Calibration done.\n",
            "🦠 Added to population: \n",
            "    Config: {'starting_kernel': 7, 'depth_0': 1, 'depth_1': 2, 'kernel_0': 7, 'kernel_1': 3}, Fitness: 0.9523809552192688\n",
            "✅ Calibration done.\n",
            "🦠 Added to population: \n",
            "    Config: {'starting_kernel': 7, 'depth_0': 2, 'depth_1': 2, 'kernel_0': 5, 'kernel_1': 3}, Fitness: 0.8948412537574768\n",
            "✅ Calibration done.\n",
            "🦠 Added to population: \n",
            "    Config: {'starting_kernel': 7, 'depth_0': 1, 'depth_1': 2, 'kernel_0': 9, 'kernel_1': 3}, Fitness: 0.9384920597076416\n",
            "✅ Calibration done.\n",
            "🦠 Added to population: \n",
            "    Config: {'starting_kernel': 3, 'depth_0': 2, 'depth_1': 1, 'kernel_0': 5, 'kernel_1': 5}, Fitness: 0.9365079402923584\n",
            "🦠 New population: \n",
            "    Config: {'starting_kernel': 7, 'depth_0': 2, 'depth_1': 1, 'kernel_0': 5, 'kernel_1': 3}, Fitness: 0.8253968358039856\n",
            "    Config: {'starting_kernel': 7, 'depth_0': 2, 'depth_1': 2, 'kernel_0': 5, 'kernel_1': 3}, Fitness: 0.682539701461792\n",
            "    Config: {'starting_kernel': 7, 'depth_0': 2, 'depth_1': 2, 'kernel_0': 5, 'kernel_1': 5}, Fitness: 0.988095223903656\n",
            "    Config: {'starting_kernel': 7, 'depth_0': 2, 'depth_1': 2, 'kernel_0': 5, 'kernel_1': 3}, Fitness: 0.932539701461792\n",
            "    Config: {'starting_kernel': 9, 'depth_0': 1, 'depth_1': 1, 'kernel_0': 7, 'kernel_1': 3}, Fitness: 0.7757936716079712\n",
            "    Config: {'starting_kernel': 7, 'depth_0': 1, 'depth_1': 2, 'kernel_0': 7, 'kernel_1': 3}, Fitness: 0.9404761791229248\n",
            "    Config: {'starting_kernel': 7, 'depth_0': 1, 'depth_1': 2, 'kernel_0': 7, 'kernel_1': 3}, Fitness: 0.9523809552192688\n",
            "    Config: {'starting_kernel': 7, 'depth_0': 2, 'depth_1': 2, 'kernel_0': 5, 'kernel_1': 3}, Fitness: 0.8948412537574768\n",
            "    Config: {'starting_kernel': 7, 'depth_0': 1, 'depth_1': 2, 'kernel_0': 9, 'kernel_1': 3}, Fitness: 0.9384920597076416\n",
            "    Config: {'starting_kernel': 3, 'depth_0': 2, 'depth_1': 1, 'kernel_0': 5, 'kernel_1': 5}, Fitness: 0.9365079402923584\n",
            "💪 Best fitness: ({'starting_kernel': 7, 'depth_0': 2, 'depth_1': 2, 'kernel_0': 5, 'kernel_1': 5}, 0.988095223903656)\n"
          ]
        }
      ]
    },
    {
      "cell_type": "markdown",
      "source": [
        "### 🌎 **Population 5 (Evolution Algo)**"
      ],
      "metadata": {
        "id": "f5kp1r9Qi7N6"
      }
    },
    {
      "cell_type": "code",
      "source": [
        "print(f\"🧬 Generation {5}/{POP_ITERATIONS}\")\n",
        "population = evolve_one_generation(population, search_space, model, val_ds)\n",
        "print(f\"🦠 New population: \")\n",
        "for cfg, fitness in population:\n",
        "    print(f\"    Config: {cfg}, Fitness: {fitness}\")\n",
        "print(f\"💪 Best fitness: {max(population, key=lambda x: x[1])}\")"
      ],
      "metadata": {
        "colab": {
          "base_uri": "https://localhost:8080/"
        },
        "id": "vu5uwQBSi8TN",
        "outputId": "6e060be0-55fa-4283-c781-e05fa7afe55f"
      },
      "execution_count": 10,
      "outputs": [
        {
          "output_type": "stream",
          "name": "stdout",
          "text": [
            "🧬 Generation 5/10\n",
            "✅ Calibration done.\n",
            "🦠 Added to population: \n",
            "    Config: {'starting_kernel': 7, 'depth_0': 2, 'depth_1': 2, 'kernel_0': 5, 'kernel_1': 5}, Fitness: 0.886904776096344\n",
            "✅ Calibration done.\n",
            "🦠 Added to population: \n",
            "    Config: {'starting_kernel': 7, 'depth_0': 2, 'depth_1': 2, 'kernel_0': 5, 'kernel_1': 3}, Fitness: 0.9265872836112976\n",
            "✅ Calibration done.\n",
            "🦠 Added to population: \n",
            "    Config: {'starting_kernel': 7, 'depth_0': 1, 'depth_1': 2, 'kernel_0': 7, 'kernel_1': 3}, Fitness: 0.9444444179534912\n",
            "✅ Calibration done.\n",
            "🦠 Added to population: \n",
            "    Config: {'starting_kernel': 7, 'depth_0': 1, 'depth_1': 2, 'kernel_0': 5, 'kernel_1': 5}, Fitness: 0.9801587462425232\n",
            "✅ Calibration done.\n",
            "🦠 Added to population: \n",
            "    Config: {'starting_kernel': 7, 'depth_0': 1, 'depth_1': 2, 'kernel_0': 5, 'kernel_1': 5}, Fitness: 0.6388888955116272\n",
            "✅ Calibration done.\n",
            "🦠 Added to population: \n",
            "    Config: {'starting_kernel': 7, 'depth_0': 1, 'depth_1': 4, 'kernel_0': 3, 'kernel_1': 3}, Fitness: 0.9722222089767456\n",
            "✅ Calibration done.\n",
            "🦠 Added to population: \n",
            "    Config: {'starting_kernel': 7, 'depth_0': 1, 'depth_1': 2, 'kernel_0': 7, 'kernel_1': 3}, Fitness: 0.9742063283920288\n",
            "✅ Calibration done.\n",
            "🦠 Added to population: \n",
            "    Config: {'starting_kernel': 7, 'depth_0': 1, 'depth_1': 2, 'kernel_0': 5, 'kernel_1': 3}, Fitness: 0.8432539701461792\n",
            "✅ Calibration done.\n",
            "🦠 Added to population: \n",
            "    Config: {'starting_kernel': 7, 'depth_0': 2, 'depth_1': 1, 'kernel_0': 5, 'kernel_1': 5}, Fitness: 0.9146825671195984\n",
            "✅ Calibration done.\n",
            "🦠 Added to population: \n",
            "    Config: {'starting_kernel': 7, 'depth_0': 1, 'depth_1': 2, 'kernel_0': 5, 'kernel_1': 5}, Fitness: 0.9404761791229248\n",
            "🦠 New population: \n",
            "    Config: {'starting_kernel': 7, 'depth_0': 2, 'depth_1': 2, 'kernel_0': 5, 'kernel_1': 5}, Fitness: 0.886904776096344\n",
            "    Config: {'starting_kernel': 7, 'depth_0': 2, 'depth_1': 2, 'kernel_0': 5, 'kernel_1': 3}, Fitness: 0.9265872836112976\n",
            "    Config: {'starting_kernel': 7, 'depth_0': 1, 'depth_1': 2, 'kernel_0': 7, 'kernel_1': 3}, Fitness: 0.9444444179534912\n",
            "    Config: {'starting_kernel': 7, 'depth_0': 1, 'depth_1': 2, 'kernel_0': 5, 'kernel_1': 5}, Fitness: 0.9801587462425232\n",
            "    Config: {'starting_kernel': 7, 'depth_0': 1, 'depth_1': 2, 'kernel_0': 5, 'kernel_1': 5}, Fitness: 0.6388888955116272\n",
            "    Config: {'starting_kernel': 7, 'depth_0': 1, 'depth_1': 4, 'kernel_0': 3, 'kernel_1': 3}, Fitness: 0.9722222089767456\n",
            "    Config: {'starting_kernel': 7, 'depth_0': 1, 'depth_1': 2, 'kernel_0': 7, 'kernel_1': 3}, Fitness: 0.9742063283920288\n",
            "    Config: {'starting_kernel': 7, 'depth_0': 1, 'depth_1': 2, 'kernel_0': 5, 'kernel_1': 3}, Fitness: 0.8432539701461792\n",
            "    Config: {'starting_kernel': 7, 'depth_0': 2, 'depth_1': 1, 'kernel_0': 5, 'kernel_1': 5}, Fitness: 0.9146825671195984\n",
            "    Config: {'starting_kernel': 7, 'depth_0': 1, 'depth_1': 2, 'kernel_0': 5, 'kernel_1': 5}, Fitness: 0.9404761791229248\n",
            "💪 Best fitness: ({'starting_kernel': 7, 'depth_0': 1, 'depth_1': 2, 'kernel_0': 5, 'kernel_1': 5}, 0.9801587462425232)\n"
          ]
        }
      ]
    },
    {
      "cell_type": "markdown",
      "source": [
        "### 🌎 **Population 6 (Evolution Algo)**"
      ],
      "metadata": {
        "id": "Rf7cdyYsmIip"
      }
    },
    {
      "cell_type": "code",
      "source": [
        "print(f\"🧬 Generation {6}/{POP_ITERATIONS}\")\n",
        "population = evolve_one_generation(population, search_space, model, val_ds)\n",
        "print(f\"🦠 New population: \")\n",
        "for cfg, fitness in population:\n",
        "    print(f\"    Config: {cfg}, Fitness: {fitness}\")\n",
        "print(f\"💪 Best fitness: {max(population, key=lambda x: x[1])}\")"
      ],
      "metadata": {
        "colab": {
          "base_uri": "https://localhost:8080/"
        },
        "id": "9H9CgZ_4mKWl",
        "outputId": "b045dacf-d1d5-4517-b95e-b6fc5618a118"
      },
      "execution_count": 11,
      "outputs": [
        {
          "output_type": "stream",
          "name": "stdout",
          "text": [
            "🧬 Generation 6/10\n",
            "✅ Calibration done.\n",
            "🦠 Added to population: \n",
            "    Config: {'starting_kernel': 7, 'depth_0': 1, 'depth_1': 2, 'kernel_0': 5, 'kernel_1': 5}, Fitness: 0.8730158805847168\n",
            "✅ Calibration done.\n",
            "🦠 Added to population: \n",
            "    Config: {'starting_kernel': 7, 'depth_0': 1, 'depth_1': 2, 'kernel_0': 7, 'kernel_1': 3}, Fitness: 0.9047619104385376\n",
            "✅ Calibration done.\n",
            "🦠 Added to population: \n",
            "    Config: {'starting_kernel': 7, 'depth_0': 1, 'depth_1': 2, 'kernel_0': 5, 'kernel_1': 3}, Fitness: 0.9305555820465088\n",
            "✅ Calibration done.\n",
            "🦠 Added to population: \n",
            "    Config: {'starting_kernel': 7, 'depth_0': 1, 'depth_1': 2, 'kernel_0': 5, 'kernel_1': 5}, Fitness: 0.8928571343421936\n",
            "✅ Calibration done.\n",
            "🦠 Added to population: \n",
            "    Config: {'starting_kernel': 7, 'depth_0': 1, 'depth_1': 2, 'kernel_0': 7, 'kernel_1': 3}, Fitness: 0.9107142686843872\n",
            "✅ Calibration done.\n",
            "🦠 Added to population: \n",
            "    Config: {'starting_kernel': 9, 'depth_0': 1, 'depth_1': 2, 'kernel_0': 5, 'kernel_1': 3}, Fitness: 0.9722222089767456\n",
            "✅ Calibration done.\n",
            "🦠 Added to population: \n",
            "    Config: {'starting_kernel': 7, 'depth_0': 1, 'depth_1': 2, 'kernel_0': 3, 'kernel_1': 3}, Fitness: 0.9722222089767456\n",
            "✅ Calibration done.\n",
            "🦠 Added to population: \n",
            "    Config: {'starting_kernel': 3, 'depth_0': 1, 'depth_1': 2, 'kernel_0': 5, 'kernel_1': 5}, Fitness: 0.886904776096344\n",
            "✅ Calibration done.\n",
            "🦠 Added to population: \n",
            "    Config: {'starting_kernel': 9, 'depth_0': 1, 'depth_1': 3, 'kernel_0': 5, 'kernel_1': 5}, Fitness: 0.9702380895614624\n",
            "✅ Calibration done.\n",
            "🦠 Added to population: \n",
            "    Config: {'starting_kernel': 7, 'depth_0': 1, 'depth_1': 4, 'kernel_0': 7, 'kernel_1': 3}, Fitness: 0.9623016119003296\n",
            "🦠 New population: \n",
            "    Config: {'starting_kernel': 7, 'depth_0': 1, 'depth_1': 2, 'kernel_0': 5, 'kernel_1': 5}, Fitness: 0.8730158805847168\n",
            "    Config: {'starting_kernel': 7, 'depth_0': 1, 'depth_1': 2, 'kernel_0': 7, 'kernel_1': 3}, Fitness: 0.9047619104385376\n",
            "    Config: {'starting_kernel': 7, 'depth_0': 1, 'depth_1': 2, 'kernel_0': 5, 'kernel_1': 3}, Fitness: 0.9305555820465088\n",
            "    Config: {'starting_kernel': 7, 'depth_0': 1, 'depth_1': 2, 'kernel_0': 5, 'kernel_1': 5}, Fitness: 0.8928571343421936\n",
            "    Config: {'starting_kernel': 7, 'depth_0': 1, 'depth_1': 2, 'kernel_0': 7, 'kernel_1': 3}, Fitness: 0.9107142686843872\n",
            "    Config: {'starting_kernel': 9, 'depth_0': 1, 'depth_1': 2, 'kernel_0': 5, 'kernel_1': 3}, Fitness: 0.9722222089767456\n",
            "    Config: {'starting_kernel': 7, 'depth_0': 1, 'depth_1': 2, 'kernel_0': 3, 'kernel_1': 3}, Fitness: 0.9722222089767456\n",
            "    Config: {'starting_kernel': 3, 'depth_0': 1, 'depth_1': 2, 'kernel_0': 5, 'kernel_1': 5}, Fitness: 0.886904776096344\n",
            "    Config: {'starting_kernel': 9, 'depth_0': 1, 'depth_1': 3, 'kernel_0': 5, 'kernel_1': 5}, Fitness: 0.9702380895614624\n",
            "    Config: {'starting_kernel': 7, 'depth_0': 1, 'depth_1': 4, 'kernel_0': 7, 'kernel_1': 3}, Fitness: 0.9623016119003296\n",
            "💪 Best fitness: ({'starting_kernel': 9, 'depth_0': 1, 'depth_1': 2, 'kernel_0': 5, 'kernel_1': 3}, 0.9722222089767456)\n"
          ]
        }
      ]
    },
    {
      "cell_type": "markdown",
      "source": [
        "### 🌎 **Population 7 (Evolution Algo)**"
      ],
      "metadata": {
        "id": "m2fOuPPyqS96"
      }
    },
    {
      "cell_type": "code",
      "source": [
        "print(f\"🧬 Generation {7}/{POP_ITERATIONS}\")\n",
        "population = evolve_one_generation(population, search_space, model, val_ds)\n",
        "print(f\"🦠 New population: \")\n",
        "for cfg, fitness in population:\n",
        "    print(f\"    Config: {cfg}, Fitness: {fitness}\")\n",
        "print(f\"💪 Best fitness: {max(population, key=lambda x: x[1])}\")"
      ],
      "metadata": {
        "colab": {
          "base_uri": "https://localhost:8080/"
        },
        "id": "iUsvTufcqbh4",
        "outputId": "3ffbe89c-1d9d-4b99-ba6d-1c48bb081eee"
      },
      "execution_count": 12,
      "outputs": [
        {
          "output_type": "stream",
          "name": "stdout",
          "text": [
            "🧬 Generation 7/10\n",
            "✅ Calibration done.\n",
            "🦠 Added to population: \n",
            "    Config: {'starting_kernel': 9, 'depth_0': 1, 'depth_1': 2, 'kernel_0': 5, 'kernel_1': 3}, Fitness: 0.9384920597076416\n",
            "✅ Calibration done.\n",
            "🦠 Added to population: \n",
            "    Config: {'starting_kernel': 9, 'depth_0': 1, 'depth_1': 2, 'kernel_0': 3, 'kernel_1': 3}, Fitness: 0.8809523582458496\n",
            "✅ Calibration done.\n",
            "🦠 Added to population: \n",
            "    Config: {'starting_kernel': 7, 'depth_0': 1, 'depth_1': 2, 'kernel_0': 3, 'kernel_1': 3}, Fitness: 0.8591269850730896\n",
            "✅ Calibration done.\n",
            "🦠 Added to population: \n",
            "    Config: {'starting_kernel': 9, 'depth_0': 1, 'depth_1': 2, 'kernel_0': 3, 'kernel_1': 3}, Fitness: 0.9484127163887024\n",
            "✅ Calibration done.\n",
            "🦠 Added to population: \n",
            "    Config: {'starting_kernel': 7, 'depth_0': 1, 'depth_1': 2, 'kernel_0': 5, 'kernel_1': 3}, Fitness: 0.9126983880996704\n",
            "✅ Calibration done.\n",
            "🦠 Added to population: \n",
            "    Config: {'starting_kernel': 9, 'depth_0': 2, 'depth_1': 2, 'kernel_0': 5, 'kernel_1': 5}, Fitness: 0.7599206566810608\n",
            "✅ Calibration done.\n",
            "🦠 Added to population: \n",
            "    Config: {'starting_kernel': 9, 'depth_0': 1, 'depth_1': 2, 'kernel_0': 5, 'kernel_1': 3}, Fitness: 0.8253968358039856\n",
            "✅ Calibration done.\n",
            "🦠 Added to population: \n",
            "    Config: {'starting_kernel': 7, 'depth_0': 2, 'depth_1': 2, 'kernel_0': 5, 'kernel_1': 3}, Fitness: 0.9345238208770752\n",
            "✅ Calibration done.\n",
            "🦠 Added to population: \n",
            "    Config: {'starting_kernel': 9, 'depth_0': 1, 'depth_1': 1, 'kernel_0': 5, 'kernel_1': 3}, Fitness: 0.807539701461792\n",
            "✅ Calibration done.\n",
            "🦠 Added to population: \n",
            "    Config: {'starting_kernel': 7, 'depth_0': 1, 'depth_1': 2, 'kernel_0': 3, 'kernel_1': 3}, Fitness: 0.8888888955116272\n",
            "🦠 New population: \n",
            "    Config: {'starting_kernel': 9, 'depth_0': 1, 'depth_1': 2, 'kernel_0': 5, 'kernel_1': 3}, Fitness: 0.9384920597076416\n",
            "    Config: {'starting_kernel': 9, 'depth_0': 1, 'depth_1': 2, 'kernel_0': 3, 'kernel_1': 3}, Fitness: 0.8809523582458496\n",
            "    Config: {'starting_kernel': 7, 'depth_0': 1, 'depth_1': 2, 'kernel_0': 3, 'kernel_1': 3}, Fitness: 0.8591269850730896\n",
            "    Config: {'starting_kernel': 9, 'depth_0': 1, 'depth_1': 2, 'kernel_0': 3, 'kernel_1': 3}, Fitness: 0.9484127163887024\n",
            "    Config: {'starting_kernel': 7, 'depth_0': 1, 'depth_1': 2, 'kernel_0': 5, 'kernel_1': 3}, Fitness: 0.9126983880996704\n",
            "    Config: {'starting_kernel': 9, 'depth_0': 2, 'depth_1': 2, 'kernel_0': 5, 'kernel_1': 5}, Fitness: 0.7599206566810608\n",
            "    Config: {'starting_kernel': 9, 'depth_0': 1, 'depth_1': 2, 'kernel_0': 5, 'kernel_1': 3}, Fitness: 0.8253968358039856\n",
            "    Config: {'starting_kernel': 7, 'depth_0': 2, 'depth_1': 2, 'kernel_0': 5, 'kernel_1': 3}, Fitness: 0.9345238208770752\n",
            "    Config: {'starting_kernel': 9, 'depth_0': 1, 'depth_1': 1, 'kernel_0': 5, 'kernel_1': 3}, Fitness: 0.807539701461792\n",
            "    Config: {'starting_kernel': 7, 'depth_0': 1, 'depth_1': 2, 'kernel_0': 3, 'kernel_1': 3}, Fitness: 0.8888888955116272\n",
            "💪 Best fitness: ({'starting_kernel': 9, 'depth_0': 1, 'depth_1': 2, 'kernel_0': 3, 'kernel_1': 3}, 0.9484127163887024)\n"
          ]
        }
      ]
    },
    {
      "cell_type": "markdown",
      "source": [
        "### 🌎 **Population 8 (Evolution Algo)**"
      ],
      "metadata": {
        "id": "1Ell9WN4qUL_"
      }
    },
    {
      "cell_type": "code",
      "source": [
        "print(f\"🧬 Generation {8}/{POP_ITERATIONS}\")\n",
        "population = evolve_one_generation(population, search_space, model, val_ds)\n",
        "print(f\"🦠 New population: \")\n",
        "for cfg, fitness in population:\n",
        "    print(f\"    Config: {cfg}, Fitness: {fitness}\")\n",
        "print(f\"💪 Best fitness: {max(population, key=lambda x: x[1])}\")"
      ],
      "metadata": {
        "colab": {
          "base_uri": "https://localhost:8080/"
        },
        "id": "GL2L92Pgqclq",
        "outputId": "196cff68-7fcf-431d-a353-96a0908394a7"
      },
      "execution_count": 13,
      "outputs": [
        {
          "output_type": "stream",
          "name": "stdout",
          "text": [
            "🧬 Generation 8/10\n",
            "✅ Calibration done.\n",
            "🦠 Added to population: \n",
            "    Config: {'starting_kernel': 9, 'depth_0': 1, 'depth_1': 2, 'kernel_0': 3, 'kernel_1': 3}, Fitness: 0.9067460298538208\n",
            "✅ Calibration done.\n",
            "🦠 Added to population: \n",
            "    Config: {'starting_kernel': 9, 'depth_0': 1, 'depth_1': 2, 'kernel_0': 5, 'kernel_1': 3}, Fitness: 0.7916666865348816\n",
            "✅ Calibration done.\n",
            "🦠 Added to population: \n",
            "    Config: {'starting_kernel': 9, 'depth_0': 1, 'depth_1': 2, 'kernel_0': 3, 'kernel_1': 3}, Fitness: 0.9384920597076416\n",
            "✅ Calibration done.\n",
            "🦠 Added to population: \n",
            "    Config: {'starting_kernel': 9, 'depth_0': 1, 'depth_1': 2, 'kernel_0': 3, 'kernel_1': 3}, Fitness: 0.807539701461792\n",
            "✅ Calibration done.\n",
            "🦠 Added to population: \n",
            "    Config: {'starting_kernel': 9, 'depth_0': 1, 'depth_1': 2, 'kernel_0': 3, 'kernel_1': 3}, Fitness: 0.8690476417541504\n",
            "✅ Calibration done.\n",
            "🦠 Added to population: \n",
            "    Config: {'starting_kernel': 5, 'depth_0': 1, 'depth_1': 3, 'kernel_0': 5, 'kernel_1': 3}, Fitness: 0.9404761791229248\n",
            "✅ Calibration done.\n",
            "🦠 Added to population: \n",
            "    Config: {'starting_kernel': 9, 'depth_0': 1, 'depth_1': 4, 'kernel_0': 3, 'kernel_1': 3}, Fitness: 0.9384920597076416\n",
            "✅ Calibration done.\n",
            "🦠 Added to population: \n",
            "    Config: {'starting_kernel': 9, 'depth_0': 1, 'depth_1': 3, 'kernel_0': 3, 'kernel_1': 3}, Fitness: 0.7599206566810608\n",
            "✅ Calibration done.\n",
            "🦠 Added to population: \n",
            "    Config: {'starting_kernel': 9, 'depth_0': 1, 'depth_1': 2, 'kernel_0': 5, 'kernel_1': 3}, Fitness: 0.9563491940498352\n",
            "✅ Calibration done.\n",
            "🦠 Added to population: \n",
            "    Config: {'starting_kernel': 9, 'depth_0': 1, 'depth_1': 2, 'kernel_0': 3, 'kernel_1': 5}, Fitness: 0.9464285969734192\n",
            "🦠 New population: \n",
            "    Config: {'starting_kernel': 9, 'depth_0': 1, 'depth_1': 2, 'kernel_0': 3, 'kernel_1': 3}, Fitness: 0.9067460298538208\n",
            "    Config: {'starting_kernel': 9, 'depth_0': 1, 'depth_1': 2, 'kernel_0': 5, 'kernel_1': 3}, Fitness: 0.7916666865348816\n",
            "    Config: {'starting_kernel': 9, 'depth_0': 1, 'depth_1': 2, 'kernel_0': 3, 'kernel_1': 3}, Fitness: 0.9384920597076416\n",
            "    Config: {'starting_kernel': 9, 'depth_0': 1, 'depth_1': 2, 'kernel_0': 3, 'kernel_1': 3}, Fitness: 0.807539701461792\n",
            "    Config: {'starting_kernel': 9, 'depth_0': 1, 'depth_1': 2, 'kernel_0': 3, 'kernel_1': 3}, Fitness: 0.8690476417541504\n",
            "    Config: {'starting_kernel': 5, 'depth_0': 1, 'depth_1': 3, 'kernel_0': 5, 'kernel_1': 3}, Fitness: 0.9404761791229248\n",
            "    Config: {'starting_kernel': 9, 'depth_0': 1, 'depth_1': 4, 'kernel_0': 3, 'kernel_1': 3}, Fitness: 0.9384920597076416\n",
            "    Config: {'starting_kernel': 9, 'depth_0': 1, 'depth_1': 3, 'kernel_0': 3, 'kernel_1': 3}, Fitness: 0.7599206566810608\n",
            "    Config: {'starting_kernel': 9, 'depth_0': 1, 'depth_1': 2, 'kernel_0': 5, 'kernel_1': 3}, Fitness: 0.9563491940498352\n",
            "    Config: {'starting_kernel': 9, 'depth_0': 1, 'depth_1': 2, 'kernel_0': 3, 'kernel_1': 5}, Fitness: 0.9464285969734192\n",
            "💪 Best fitness: ({'starting_kernel': 9, 'depth_0': 1, 'depth_1': 2, 'kernel_0': 5, 'kernel_1': 3}, 0.9563491940498352)\n"
          ]
        }
      ]
    },
    {
      "cell_type": "markdown",
      "source": [
        "### 🌎 **Population 9 (Evolution Algo)**"
      ],
      "metadata": {
        "id": "6U8MYvmiqVO3"
      }
    },
    {
      "cell_type": "code",
      "source": [
        "print(f\"🧬 Generation {9}/{POP_ITERATIONS}\")\n",
        "population = evolve_one_generation(population, search_space, model, val_ds)\n",
        "print(f\"🦠 New population: \")\n",
        "for cfg, fitness in population:\n",
        "    print(f\"    Config: {cfg}, Fitness: {fitness}\")\n",
        "print(f\"💪 Best fitness: {max(population, key=lambda x: x[1])}\")"
      ],
      "metadata": {
        "colab": {
          "base_uri": "https://localhost:8080/"
        },
        "id": "wKnP9lfyqdod",
        "outputId": "ff155e5f-8862-4ec5-b06c-d78b87aaee84"
      },
      "execution_count": 14,
      "outputs": [
        {
          "output_type": "stream",
          "name": "stdout",
          "text": [
            "🧬 Generation 9/10\n",
            "✅ Calibration done.\n",
            "🦠 Added to population: \n",
            "    Config: {'starting_kernel': 9, 'depth_0': 1, 'depth_1': 2, 'kernel_0': 3, 'kernel_1': 5}, Fitness: 0.9305555820465088\n",
            "✅ Calibration done.\n",
            "🦠 Added to population: \n",
            "    Config: {'starting_kernel': 9, 'depth_0': 1, 'depth_1': 2, 'kernel_0': 3, 'kernel_1': 3}, Fitness: 0.9246031641960144\n",
            "✅ Calibration done.\n",
            "🦠 Added to population: \n",
            "    Config: {'starting_kernel': 9, 'depth_0': 1, 'depth_1': 2, 'kernel_0': 5, 'kernel_1': 3}, Fitness: 0.9265872836112976\n",
            "✅ Calibration done.\n",
            "🦠 Added to population: \n",
            "    Config: {'starting_kernel': 9, 'depth_0': 1, 'depth_1': 2, 'kernel_0': 5, 'kernel_1': 5}, Fitness: 0.7817460298538208\n",
            "✅ Calibration done.\n",
            "🦠 Added to population: \n",
            "    Config: {'starting_kernel': 9, 'depth_0': 1, 'depth_1': 2, 'kernel_0': 3, 'kernel_1': 5}, Fitness: 0.8829365372657776\n",
            "✅ Calibration done.\n",
            "🦠 Added to population: \n",
            "    Config: {'starting_kernel': 9, 'depth_0': 1, 'depth_1': 2, 'kernel_0': 3, 'kernel_1': 3}, Fitness: 0.8730158805847168\n",
            "✅ Calibration done.\n",
            "🦠 Added to population: \n",
            "    Config: {'starting_kernel': 5, 'depth_0': 1, 'depth_1': 3, 'kernel_0': 5, 'kernel_1': 3}, Fitness: 0.920634925365448\n",
            "✅ Calibration done.\n",
            "🦠 Added to population: \n",
            "    Config: {'starting_kernel': 9, 'depth_0': 1, 'depth_1': 2, 'kernel_0': 3, 'kernel_1': 5}, Fitness: 0.89682537317276\n",
            "✅ Calibration done.\n",
            "🦠 Added to population: \n",
            "    Config: {'starting_kernel': 7, 'depth_0': 1, 'depth_1': 2, 'kernel_0': 5, 'kernel_1': 5}, Fitness: 0.886904776096344\n",
            "✅ Calibration done.\n",
            "🦠 Added to population: \n",
            "    Config: {'starting_kernel': 9, 'depth_0': 3, 'depth_1': 4, 'kernel_0': 3, 'kernel_1': 3}, Fitness: 0.9722222089767456\n",
            "🦠 New population: \n",
            "    Config: {'starting_kernel': 9, 'depth_0': 1, 'depth_1': 2, 'kernel_0': 3, 'kernel_1': 5}, Fitness: 0.9305555820465088\n",
            "    Config: {'starting_kernel': 9, 'depth_0': 1, 'depth_1': 2, 'kernel_0': 3, 'kernel_1': 3}, Fitness: 0.9246031641960144\n",
            "    Config: {'starting_kernel': 9, 'depth_0': 1, 'depth_1': 2, 'kernel_0': 5, 'kernel_1': 3}, Fitness: 0.9265872836112976\n",
            "    Config: {'starting_kernel': 9, 'depth_0': 1, 'depth_1': 2, 'kernel_0': 5, 'kernel_1': 5}, Fitness: 0.7817460298538208\n",
            "    Config: {'starting_kernel': 9, 'depth_0': 1, 'depth_1': 2, 'kernel_0': 3, 'kernel_1': 5}, Fitness: 0.8829365372657776\n",
            "    Config: {'starting_kernel': 9, 'depth_0': 1, 'depth_1': 2, 'kernel_0': 3, 'kernel_1': 3}, Fitness: 0.8730158805847168\n",
            "    Config: {'starting_kernel': 5, 'depth_0': 1, 'depth_1': 3, 'kernel_0': 5, 'kernel_1': 3}, Fitness: 0.920634925365448\n",
            "    Config: {'starting_kernel': 9, 'depth_0': 1, 'depth_1': 2, 'kernel_0': 3, 'kernel_1': 5}, Fitness: 0.89682537317276\n",
            "    Config: {'starting_kernel': 7, 'depth_0': 1, 'depth_1': 2, 'kernel_0': 5, 'kernel_1': 5}, Fitness: 0.886904776096344\n",
            "    Config: {'starting_kernel': 9, 'depth_0': 3, 'depth_1': 4, 'kernel_0': 3, 'kernel_1': 3}, Fitness: 0.9722222089767456\n",
            "💪 Best fitness: ({'starting_kernel': 9, 'depth_0': 3, 'depth_1': 4, 'kernel_0': 3, 'kernel_1': 3}, 0.9722222089767456)\n"
          ]
        }
      ]
    },
    {
      "cell_type": "markdown",
      "source": [
        "### 🌎 **Population 10 (Evolution Algo)**"
      ],
      "metadata": {
        "id": "sa9prV-XqWym"
      }
    },
    {
      "cell_type": "code",
      "source": [
        "print(f\"🧬 Generation {10}/{POP_ITERATIONS}\")\n",
        "population = evolve_one_generation(population, search_space, model, val_ds)\n",
        "print(f\"🦠 New population: \")\n",
        "for cfg, fitness in population:\n",
        "    print(f\"    Config: {cfg}, Fitness: {fitness}\")\n",
        "print(f\"💪 Best fitness: {max(population, key=lambda x: x[1])}\")"
      ],
      "metadata": {
        "colab": {
          "base_uri": "https://localhost:8080/"
        },
        "id": "gL_N24mxvyVq",
        "outputId": "ea91d344-1926-4054-89aa-a86642b93e9d"
      },
      "execution_count": 15,
      "outputs": [
        {
          "output_type": "stream",
          "name": "stdout",
          "text": [
            "🧬 Generation 10/10\n",
            "✅ Calibration done.\n",
            "🦠 Added to population: \n",
            "    Config: {'starting_kernel': 9, 'depth_0': 3, 'depth_1': 2, 'kernel_0': 3, 'kernel_1': 3}, Fitness: 0.9047619104385376\n",
            "✅ Calibration done.\n",
            "🦠 Added to population: \n",
            "    Config: {'starting_kernel': 9, 'depth_0': 1, 'depth_1': 2, 'kernel_0': 3, 'kernel_1': 5}, Fitness: 0.8115079402923584\n",
            "✅ Calibration done.\n",
            "🦠 Added to population: \n",
            "    Config: {'starting_kernel': 9, 'depth_0': 1, 'depth_1': 2, 'kernel_0': 3, 'kernel_1': 5}, Fitness: 0.9484127163887024\n",
            "✅ Calibration done.\n",
            "🦠 Added to population: \n",
            "    Config: {'starting_kernel': 9, 'depth_0': 1, 'depth_1': 4, 'kernel_0': 3, 'kernel_1': 3}, Fitness: 0.9583333134651184\n",
            "✅ Calibration done.\n",
            "🦠 Added to population: \n",
            "    Config: {'starting_kernel': 9, 'depth_0': 3, 'depth_1': 2, 'kernel_0': 3, 'kernel_1': 5}, Fitness: 0.966269850730896\n",
            "✅ Calibration done.\n",
            "🦠 Added to population: \n",
            "    Config: {'starting_kernel': 9, 'depth_0': 3, 'depth_1': 2, 'kernel_0': 3, 'kernel_1': 3}, Fitness: 0.9484127163887024\n",
            "✅ Calibration done.\n",
            "🦠 Added to population: \n",
            "    Config: {'starting_kernel': 3, 'depth_0': 3, 'depth_1': 2, 'kernel_0': 3, 'kernel_1': 5}, Fitness: 0.9226190447807312\n",
            "✅ Calibration done.\n",
            "🦠 Added to population: \n",
            "    Config: {'starting_kernel': 9, 'depth_0': 2, 'depth_1': 1, 'kernel_0': 3, 'kernel_1': 5}, Fitness: 0.9384920597076416\n",
            "✅ Calibration done.\n",
            "🦠 Added to population: \n",
            "    Config: {'starting_kernel': 3, 'depth_0': 1, 'depth_1': 2, 'kernel_0': 3, 'kernel_1': 3}, Fitness: 0.8611111044883728\n",
            "✅ Calibration done.\n",
            "🦠 Added to population: \n",
            "    Config: {'starting_kernel': 9, 'depth_0': 3, 'depth_1': 4, 'kernel_0': 3, 'kernel_1': 3}, Fitness: 0.9523809552192688\n",
            "🦠 New population: \n",
            "    Config: {'starting_kernel': 9, 'depth_0': 3, 'depth_1': 2, 'kernel_0': 3, 'kernel_1': 3}, Fitness: 0.9047619104385376\n",
            "    Config: {'starting_kernel': 9, 'depth_0': 1, 'depth_1': 2, 'kernel_0': 3, 'kernel_1': 5}, Fitness: 0.8115079402923584\n",
            "    Config: {'starting_kernel': 9, 'depth_0': 1, 'depth_1': 2, 'kernel_0': 3, 'kernel_1': 5}, Fitness: 0.9484127163887024\n",
            "    Config: {'starting_kernel': 9, 'depth_0': 1, 'depth_1': 4, 'kernel_0': 3, 'kernel_1': 3}, Fitness: 0.9583333134651184\n",
            "    Config: {'starting_kernel': 9, 'depth_0': 3, 'depth_1': 2, 'kernel_0': 3, 'kernel_1': 5}, Fitness: 0.966269850730896\n",
            "    Config: {'starting_kernel': 9, 'depth_0': 3, 'depth_1': 2, 'kernel_0': 3, 'kernel_1': 3}, Fitness: 0.9484127163887024\n",
            "    Config: {'starting_kernel': 3, 'depth_0': 3, 'depth_1': 2, 'kernel_0': 3, 'kernel_1': 5}, Fitness: 0.9226190447807312\n",
            "    Config: {'starting_kernel': 9, 'depth_0': 2, 'depth_1': 1, 'kernel_0': 3, 'kernel_1': 5}, Fitness: 0.9384920597076416\n",
            "    Config: {'starting_kernel': 3, 'depth_0': 1, 'depth_1': 2, 'kernel_0': 3, 'kernel_1': 3}, Fitness: 0.8611111044883728\n",
            "    Config: {'starting_kernel': 9, 'depth_0': 3, 'depth_1': 4, 'kernel_0': 3, 'kernel_1': 3}, Fitness: 0.9523809552192688\n",
            "💪 Best fitness: ({'starting_kernel': 9, 'depth_0': 3, 'depth_1': 2, 'kernel_0': 3, 'kernel_1': 5}, 0.966269850730896)\n"
          ]
        }
      ]
    },
    {
      "cell_type": "markdown",
      "source": [
        "# 📌 Summary\n",
        "\n",
        "## NAS Result:\n",
        "\n",
        "The best performing model in resolution 128 and width 64: <br>\n",
        "💪 Best fitness: {'starting_kernel': 7,\n",
        "'depth_0': 2,\n",
        "'depth_1': 2,\n",
        "'kernel_0': 5,\n",
        "'kernel_1': 5\n",
        "} <br>\n",
        "Fitness: 0.988095223903656 <br>\n",
        "🌎 From Generation 4"
      ],
      "metadata": {
        "id": "o9bflk-Y4vvL"
      }
    },
    {
      "cell_type": "markdown",
      "source": [
        "# 📝 Final fine-tuning and Evaluation\n",
        "\n",
        "## Description:\n",
        "In this final phase, we perform a targeted fine-tuning of the best architecture found during the neural architecture search (NAS). This step leverages the full training dataset to refine model weights for optimal accuracy and generalization. After fine-tuning, the model is quantized and converted to the TFLite format for deployment. We then evaluate the quantized model's performance on the test set, measuring both classification accuracy and real-world inference latency. This step ensures the selected model meets both accuracy and efficiency requirements for deployment on resource-constrained hardware."
      ],
      "metadata": {
        "id": "MdKjORRa5q-w"
      }
    },
    {
      "cell_type": "code",
      "source": [
        "config = {\n",
        "    'starting_kernel': 7,\n",
        "    'depth_0': 2,\n",
        "    'depth_1': 2,\n",
        "    'kernel_0': 5,\n",
        "    'kernel_1': 5\n",
        "}\n",
        "model = tf.keras.models.load_model('supernetwork.keras')\n",
        "subnetwork = sample_subnetwork(model, config, resolution=RESOLUTION, width=WIDTH, num_classes=NUM_CLASSES)\n",
        "final_train_dataset = train_ds.concatenate(val_ds)\n",
        "subnetwork.compile(\n",
        "    optimizer='adam',\n",
        "    loss='categorical_crossentropy',\n",
        "    metrics=['accuracy']\n",
        ")\n",
        "history = subnetwork.fit(final_train_dataset, epochs=50, validation_data=test_ds)\n",
        "subnetwork.save('best_model.keras')"
      ],
      "metadata": {
        "colab": {
          "base_uri": "https://localhost:8080/"
        },
        "id": "X1FHme735gPN",
        "outputId": "eb7a7276-4175-4702-fc45-d6cc8cfc0a53"
      },
      "execution_count": 19,
      "outputs": [
        {
          "output_type": "stream",
          "name": "stdout",
          "text": [
            "Epoch 1/50\n",
            "\u001b[1m20/20\u001b[0m \u001b[32m━━━━━━━━━━━━━━━━━━━━\u001b[0m\u001b[37m\u001b[0m \u001b[1m11s\u001b[0m 312ms/step - accuracy: 0.5191 - loss: 2.0029 - val_accuracy: 0.3333 - val_loss: 971.6285\n",
            "Epoch 2/50\n",
            "\u001b[1m20/20\u001b[0m \u001b[32m━━━━━━━━━━━━━━━━━━━━\u001b[0m\u001b[37m\u001b[0m \u001b[1m1s\u001b[0m 40ms/step - accuracy: 0.9736 - loss: 0.0957 - val_accuracy: 0.3333 - val_loss: 892.6024\n",
            "Epoch 3/50\n",
            "\u001b[1m20/20\u001b[0m \u001b[32m━━━━━━━━━━━━━━━━━━━━\u001b[0m\u001b[37m\u001b[0m \u001b[1m1s\u001b[0m 38ms/step - accuracy: 1.0000 - loss: 0.0077 - val_accuracy: 0.3333 - val_loss: 512.9510\n",
            "Epoch 4/50\n",
            "\u001b[1m20/20\u001b[0m \u001b[32m━━━━━━━━━━━━━━━━━━━━\u001b[0m\u001b[37m\u001b[0m \u001b[1m1s\u001b[0m 38ms/step - accuracy: 1.0000 - loss: 0.0024 - val_accuracy: 0.3333 - val_loss: 325.6208\n",
            "Epoch 5/50\n",
            "\u001b[1m20/20\u001b[0m \u001b[32m━━━━━━━━━━━━━━━━━━━━\u001b[0m\u001b[37m\u001b[0m \u001b[1m1s\u001b[0m 38ms/step - accuracy: 1.0000 - loss: 0.0016 - val_accuracy: 0.3333 - val_loss: 195.1436\n",
            "Epoch 6/50\n",
            "\u001b[1m20/20\u001b[0m \u001b[32m━━━━━━━━━━━━━━━━━━━━\u001b[0m\u001b[37m\u001b[0m \u001b[1m1s\u001b[0m 38ms/step - accuracy: 1.0000 - loss: 0.0011 - val_accuracy: 0.3333 - val_loss: 146.0061\n",
            "Epoch 7/50\n",
            "\u001b[1m20/20\u001b[0m \u001b[32m━━━━━━━━━━━━━━━━━━━━\u001b[0m\u001b[37m\u001b[0m \u001b[1m1s\u001b[0m 38ms/step - accuracy: 1.0000 - loss: 7.2298e-04 - val_accuracy: 0.3333 - val_loss: 118.5933\n",
            "Epoch 8/50\n",
            "\u001b[1m20/20\u001b[0m \u001b[32m━━━━━━━━━━━━━━━━━━━━\u001b[0m\u001b[37m\u001b[0m \u001b[1m1s\u001b[0m 38ms/step - accuracy: 1.0000 - loss: 5.3764e-04 - val_accuracy: 0.3333 - val_loss: 91.5090\n",
            "Epoch 9/50\n",
            "\u001b[1m20/20\u001b[0m \u001b[32m━━━━━━━━━━━━━━━━━━━━\u001b[0m\u001b[37m\u001b[0m \u001b[1m1s\u001b[0m 38ms/step - accuracy: 1.0000 - loss: 4.0050e-04 - val_accuracy: 0.3333 - val_loss: 54.1750\n",
            "Epoch 10/50\n",
            "\u001b[1m20/20\u001b[0m \u001b[32m━━━━━━━━━━━━━━━━━━━━\u001b[0m\u001b[37m\u001b[0m \u001b[1m1s\u001b[0m 38ms/step - accuracy: 1.0000 - loss: 3.6278e-04 - val_accuracy: 0.3333 - val_loss: 52.8865\n",
            "Epoch 11/50\n",
            "\u001b[1m20/20\u001b[0m \u001b[32m━━━━━━━━━━━━━━━━━━━━\u001b[0m\u001b[37m\u001b[0m \u001b[1m1s\u001b[0m 38ms/step - accuracy: 1.0000 - loss: 2.7818e-04 - val_accuracy: 0.3333 - val_loss: 37.1665\n",
            "Epoch 12/50\n",
            "\u001b[1m20/20\u001b[0m \u001b[32m━━━━━━━━━━━━━━━━━━━━\u001b[0m\u001b[37m\u001b[0m \u001b[1m1s\u001b[0m 38ms/step - accuracy: 1.0000 - loss: 2.6125e-04 - val_accuracy: 0.3333 - val_loss: 28.5891\n",
            "Epoch 13/50\n",
            "\u001b[1m20/20\u001b[0m \u001b[32m━━━━━━━━━━━━━━━━━━━━\u001b[0m\u001b[37m\u001b[0m \u001b[1m1s\u001b[0m 38ms/step - accuracy: 1.0000 - loss: 2.0562e-04 - val_accuracy: 0.3495 - val_loss: 24.8647\n",
            "Epoch 14/50\n",
            "\u001b[1m20/20\u001b[0m \u001b[32m━━━━━━━━━━━━━━━━━━━━\u001b[0m\u001b[37m\u001b[0m \u001b[1m1s\u001b[0m 38ms/step - accuracy: 1.0000 - loss: 1.7474e-04 - val_accuracy: 0.3925 - val_loss: 22.1182\n",
            "Epoch 15/50\n",
            "\u001b[1m20/20\u001b[0m \u001b[32m━━━━━━━━━━━━━━━━━━━━\u001b[0m\u001b[37m\u001b[0m \u001b[1m1s\u001b[0m 39ms/step - accuracy: 1.0000 - loss: 1.4932e-04 - val_accuracy: 0.4167 - val_loss: 21.7905\n",
            "Epoch 16/50\n",
            "\u001b[1m20/20\u001b[0m \u001b[32m━━━━━━━━━━━━━━━━━━━━\u001b[0m\u001b[37m\u001b[0m \u001b[1m1s\u001b[0m 38ms/step - accuracy: 1.0000 - loss: 1.2742e-04 - val_accuracy: 0.4194 - val_loss: 19.5031\n",
            "Epoch 17/50\n",
            "\u001b[1m20/20\u001b[0m \u001b[32m━━━━━━━━━━━━━━━━━━━━\u001b[0m\u001b[37m\u001b[0m \u001b[1m1s\u001b[0m 38ms/step - accuracy: 1.0000 - loss: 1.1593e-04 - val_accuracy: 0.4489 - val_loss: 12.8401\n",
            "Epoch 18/50\n",
            "\u001b[1m20/20\u001b[0m \u001b[32m━━━━━━━━━━━━━━━━━━━━\u001b[0m\u001b[37m\u001b[0m \u001b[1m1s\u001b[0m 38ms/step - accuracy: 1.0000 - loss: 9.8652e-05 - val_accuracy: 0.4462 - val_loss: 14.6404\n",
            "Epoch 19/50\n",
            "\u001b[1m20/20\u001b[0m \u001b[32m━━━━━━━━━━━━━━━━━━━━\u001b[0m\u001b[37m\u001b[0m \u001b[1m1s\u001b[0m 38ms/step - accuracy: 1.0000 - loss: 8.5468e-05 - val_accuracy: 0.4489 - val_loss: 13.1309\n",
            "Epoch 20/50\n",
            "\u001b[1m20/20\u001b[0m \u001b[32m━━━━━━━━━━━━━━━━━━━━\u001b[0m\u001b[37m\u001b[0m \u001b[1m1s\u001b[0m 38ms/step - accuracy: 1.0000 - loss: 7.8490e-05 - val_accuracy: 0.4892 - val_loss: 8.3457\n",
            "Epoch 21/50\n",
            "\u001b[1m20/20\u001b[0m \u001b[32m━━━━━━━━━━━━━━━━━━━━\u001b[0m\u001b[37m\u001b[0m \u001b[1m1s\u001b[0m 38ms/step - accuracy: 1.0000 - loss: 6.7604e-05 - val_accuracy: 0.4892 - val_loss: 8.7193\n",
            "Epoch 22/50\n",
            "\u001b[1m20/20\u001b[0m \u001b[32m━━━━━━━━━━━━━━━━━━━━\u001b[0m\u001b[37m\u001b[0m \u001b[1m1s\u001b[0m 38ms/step - accuracy: 1.0000 - loss: 5.7412e-05 - val_accuracy: 0.4812 - val_loss: 9.5239\n",
            "Epoch 23/50\n",
            "\u001b[1m20/20\u001b[0m \u001b[32m━━━━━━━━━━━━━━━━━━━━\u001b[0m\u001b[37m\u001b[0m \u001b[1m1s\u001b[0m 38ms/step - accuracy: 1.0000 - loss: 5.5433e-05 - val_accuracy: 0.8199 - val_loss: 1.1563\n",
            "Epoch 24/50\n",
            "\u001b[1m20/20\u001b[0m \u001b[32m━━━━━━━━━━━━━━━━━━━━\u001b[0m\u001b[37m\u001b[0m \u001b[1m1s\u001b[0m 38ms/step - accuracy: 1.0000 - loss: 4.6479e-05 - val_accuracy: 0.6989 - val_loss: 2.4995\n",
            "Epoch 25/50\n",
            "\u001b[1m20/20\u001b[0m \u001b[32m━━━━━━━━━━━━━━━━━━━━\u001b[0m\u001b[37m\u001b[0m \u001b[1m1s\u001b[0m 38ms/step - accuracy: 1.0000 - loss: 3.9080e-05 - val_accuracy: 0.8414 - val_loss: 0.7949\n",
            "Epoch 26/50\n",
            "\u001b[1m20/20\u001b[0m \u001b[32m━━━━━━━━━━━━━━━━━━━━\u001b[0m\u001b[37m\u001b[0m \u001b[1m1s\u001b[0m 38ms/step - accuracy: 1.0000 - loss: 3.6289e-05 - val_accuracy: 0.8333 - val_loss: 1.1192\n",
            "Epoch 27/50\n",
            "\u001b[1m20/20\u001b[0m \u001b[32m━━━━━━━━━━━━━━━━━━━━\u001b[0m\u001b[37m\u001b[0m \u001b[1m1s\u001b[0m 38ms/step - accuracy: 1.0000 - loss: 3.1352e-05 - val_accuracy: 0.8226 - val_loss: 1.2674\n",
            "Epoch 28/50\n",
            "\u001b[1m20/20\u001b[0m \u001b[32m━━━━━━━━━━━━━━━━━━━━\u001b[0m\u001b[37m\u001b[0m \u001b[1m1s\u001b[0m 38ms/step - accuracy: 1.0000 - loss: 3.2333e-05 - val_accuracy: 0.8468 - val_loss: 0.7700\n",
            "Epoch 29/50\n",
            "\u001b[1m20/20\u001b[0m \u001b[32m━━━━━━━━━━━━━━━━━━━━\u001b[0m\u001b[37m\u001b[0m \u001b[1m1s\u001b[0m 39ms/step - accuracy: 1.0000 - loss: 3.0156e-05 - val_accuracy: 0.8441 - val_loss: 0.7931\n",
            "Epoch 30/50\n",
            "\u001b[1m20/20\u001b[0m \u001b[32m━━━━━━━━━━━━━━━━━━━━\u001b[0m\u001b[37m\u001b[0m \u001b[1m1s\u001b[0m 38ms/step - accuracy: 1.0000 - loss: 3.2141e-05 - val_accuracy: 0.8495 - val_loss: 0.7632\n",
            "Epoch 31/50\n",
            "\u001b[1m20/20\u001b[0m \u001b[32m━━━━━━━━━━━━━━━━━━━━\u001b[0m\u001b[37m\u001b[0m \u001b[1m1s\u001b[0m 38ms/step - accuracy: 1.0000 - loss: 2.3908e-05 - val_accuracy: 0.8441 - val_loss: 0.8628\n",
            "Epoch 32/50\n",
            "\u001b[1m20/20\u001b[0m \u001b[32m━━━━━━━━━━━━━━━━━━━━\u001b[0m\u001b[37m\u001b[0m \u001b[1m1s\u001b[0m 38ms/step - accuracy: 1.0000 - loss: 2.4650e-05 - val_accuracy: 0.8226 - val_loss: 0.8712\n",
            "Epoch 33/50\n",
            "\u001b[1m20/20\u001b[0m \u001b[32m━━━━━━━━━━━━━━━━━━━━\u001b[0m\u001b[37m\u001b[0m \u001b[1m1s\u001b[0m 38ms/step - accuracy: 1.0000 - loss: 2.6576e-05 - val_accuracy: 0.8522 - val_loss: 0.9608\n",
            "Epoch 34/50\n",
            "\u001b[1m20/20\u001b[0m \u001b[32m━━━━━━━━━━━━━━━━━━━━\u001b[0m\u001b[37m\u001b[0m \u001b[1m1s\u001b[0m 38ms/step - accuracy: 1.0000 - loss: 1.8931e-05 - val_accuracy: 0.8226 - val_loss: 0.8018\n",
            "Epoch 35/50\n",
            "\u001b[1m20/20\u001b[0m \u001b[32m━━━━━━━━━━━━━━━━━━━━\u001b[0m\u001b[37m\u001b[0m \u001b[1m1s\u001b[0m 38ms/step - accuracy: 1.0000 - loss: 2.5265e-05 - val_accuracy: 0.8199 - val_loss: 0.9315\n",
            "Epoch 36/50\n",
            "\u001b[1m20/20\u001b[0m \u001b[32m━━━━━━━━━━━━━━━━━━━━\u001b[0m\u001b[37m\u001b[0m \u001b[1m1s\u001b[0m 38ms/step - accuracy: 1.0000 - loss: 1.9624e-05 - val_accuracy: 0.8280 - val_loss: 0.7975\n",
            "Epoch 37/50\n",
            "\u001b[1m20/20\u001b[0m \u001b[32m━━━━━━━━━━━━━━━━━━━━\u001b[0m\u001b[37m\u001b[0m \u001b[1m1s\u001b[0m 38ms/step - accuracy: 1.0000 - loss: 1.4666e-05 - val_accuracy: 0.8387 - val_loss: 0.7696\n",
            "Epoch 38/50\n",
            "\u001b[1m20/20\u001b[0m \u001b[32m━━━━━━━━━━━━━━━━━━━━\u001b[0m\u001b[37m\u001b[0m \u001b[1m1s\u001b[0m 38ms/step - accuracy: 1.0000 - loss: 2.5773e-05 - val_accuracy: 0.8306 - val_loss: 0.9329\n",
            "Epoch 39/50\n",
            "\u001b[1m20/20\u001b[0m \u001b[32m━━━━━━━━━━━━━━━━━━━━\u001b[0m\u001b[37m\u001b[0m \u001b[1m1s\u001b[0m 38ms/step - accuracy: 1.0000 - loss: 1.6457e-05 - val_accuracy: 0.8253 - val_loss: 0.8705\n",
            "Epoch 40/50\n",
            "\u001b[1m20/20\u001b[0m \u001b[32m━━━━━━━━━━━━━━━━━━━━\u001b[0m\u001b[37m\u001b[0m \u001b[1m1s\u001b[0m 38ms/step - accuracy: 1.0000 - loss: 1.8176e-05 - val_accuracy: 0.7823 - val_loss: 1.3089\n",
            "Epoch 41/50\n",
            "\u001b[1m20/20\u001b[0m \u001b[32m━━━━━━━━━━━━━━━━━━━━\u001b[0m\u001b[37m\u001b[0m \u001b[1m1s\u001b[0m 38ms/step - accuracy: 1.0000 - loss: 1.7810e-05 - val_accuracy: 0.8172 - val_loss: 1.0857\n",
            "Epoch 42/50\n",
            "\u001b[1m20/20\u001b[0m \u001b[32m━━━━━━━━━━━━━━━━━━━━\u001b[0m\u001b[37m\u001b[0m \u001b[1m1s\u001b[0m 38ms/step - accuracy: 1.0000 - loss: 1.3319e-05 - val_accuracy: 0.8253 - val_loss: 0.9798\n",
            "Epoch 43/50\n",
            "\u001b[1m20/20\u001b[0m \u001b[32m━━━━━━━━━━━━━━━━━━━━\u001b[0m\u001b[37m\u001b[0m \u001b[1m1s\u001b[0m 39ms/step - accuracy: 1.0000 - loss: 1.0716e-05 - val_accuracy: 0.8226 - val_loss: 0.9000\n",
            "Epoch 44/50\n",
            "\u001b[1m20/20\u001b[0m \u001b[32m━━━━━━━━━━━━━━━━━━━━\u001b[0m\u001b[37m\u001b[0m \u001b[1m1s\u001b[0m 39ms/step - accuracy: 1.0000 - loss: 9.9863e-06 - val_accuracy: 0.8280 - val_loss: 0.8158\n",
            "Epoch 45/50\n",
            "\u001b[1m20/20\u001b[0m \u001b[32m━━━━━━━━━━━━━━━━━━━━\u001b[0m\u001b[37m\u001b[0m \u001b[1m1s\u001b[0m 39ms/step - accuracy: 1.0000 - loss: 1.0133e-05 - val_accuracy: 0.8387 - val_loss: 0.7587\n",
            "Epoch 46/50\n",
            "\u001b[1m20/20\u001b[0m \u001b[32m━━━━━━━━━━━━━━━━━━━━\u001b[0m\u001b[37m\u001b[0m \u001b[1m1s\u001b[0m 38ms/step - accuracy: 1.0000 - loss: 1.0084e-05 - val_accuracy: 0.8280 - val_loss: 0.8522\n",
            "Epoch 47/50\n",
            "\u001b[1m20/20\u001b[0m \u001b[32m━━━━━━━━━━━━━━━━━━━━\u001b[0m\u001b[37m\u001b[0m \u001b[1m1s\u001b[0m 38ms/step - accuracy: 1.0000 - loss: 8.8198e-06 - val_accuracy: 0.8253 - val_loss: 0.8127\n",
            "Epoch 48/50\n",
            "\u001b[1m20/20\u001b[0m \u001b[32m━━━━━━━━━━━━━━━━━━━━\u001b[0m\u001b[37m\u001b[0m \u001b[1m1s\u001b[0m 38ms/step - accuracy: 1.0000 - loss: 1.0912e-05 - val_accuracy: 0.8226 - val_loss: 0.9159\n",
            "Epoch 49/50\n",
            "\u001b[1m20/20\u001b[0m \u001b[32m━━━━━━━━━━━━━━━━━━━━\u001b[0m\u001b[37m\u001b[0m \u001b[1m1s\u001b[0m 38ms/step - accuracy: 1.0000 - loss: 8.7749e-06 - val_accuracy: 0.8575 - val_loss: 0.7927\n",
            "Epoch 50/50\n",
            "\u001b[1m20/20\u001b[0m \u001b[32m━━━━━━━━━━━━━━━━━━━━\u001b[0m\u001b[37m\u001b[0m \u001b[1m1s\u001b[0m 38ms/step - accuracy: 1.0000 - loss: 7.6539e-06 - val_accuracy: 0.8306 - val_loss: 0.8065\n"
          ]
        }
      ]
    },
    {
      "cell_type": "code",
      "source": [
        "import matplotlib.pyplot as plt\n",
        "\n",
        "# Assuming 'history' is the result of model.fit()\n",
        "# Plot training & validation accuracy values\n",
        "plt.figure(figsize=(10, 5))\n",
        "plt.subplot(1, 2, 1)\n",
        "plt.plot(history.history['accuracy'])\n",
        "plt.plot(history.history['val_accuracy'])\n",
        "plt.title('Model accuracy')\n",
        "plt.ylabel('Accuracy')\n",
        "plt.xlabel('Epoch')\n",
        "plt.legend(['Train', 'Validation'], loc='upper left')\n",
        "\n",
        "# Plot training & validation loss values\n",
        "plt.subplot(1, 2, 2)\n",
        "plt.plot(history.history['loss'])\n",
        "plt.plot(history.history['val_loss'])\n",
        "plt.title('Model loss')\n",
        "plt.ylabel('Loss')\n",
        "plt.xlabel('Epoch')\n",
        "plt.legend(['Train', 'Validation'], loc='upper left')\n",
        "\n",
        "plt.tight_layout()\n",
        "plt.show()\n",
        "\n",
        "model = tf.keras.models.load_model('best_model.keras')\n",
        "model.summary()\n",
        "\n",
        "with suppress_output():\n",
        "    tflite_model, interpreter = convert_to_tflite(model)\n",
        "print(f\"💾 TFLite Model Size:\", len(tflite_model))\n",
        "\n",
        "# Evaluate the quantized model on the test_ds\n",
        "test_acc = evaluate_tflite_model(interpreter, test_ds)\n",
        "\n",
        "print(f\"🎯 Test accuracy: {test_acc:.4f}\")"
      ],
      "metadata": {
        "colab": {
          "base_uri": "https://localhost:8080/",
          "height": 1000
        },
        "id": "Hsmj4J6c6Mve",
        "outputId": "b3a907af-337b-450f-9808-d4b2c38779b9"
      },
      "execution_count": 20,
      "outputs": [
        {
          "output_type": "display_data",
          "data": {
            "text/plain": [
              "<Figure size 1000x500 with 2 Axes>"
            ],
            "image/png": "[encoded data removed]"
          },
          "metadata": {}
        },
        {
          "output_type": "display_data",
          "data": {
            "text/plain": [
              "\u001b[1mModel: \"sequential_177\"\u001b[0m\n"
            ],
            "text/html": [
              "<pre style=\"white-space:pre;overflow-x:auto;line-height:normal;font-family:Menlo,'DejaVu Sans Mono',consolas,'Courier New',monospace\"><span style=\"font-weight: bold\">Model: \"sequential_177\"</span>\n",
              "</pre>\n"
            ]
          },
          "metadata": {}
        },
        {
          "output_type": "display_data",
          "data": {
            "text/plain": [
              "┏━━━━━━━━━━━━━━━━━━━━━━━━━━━━━━━━━┳━━━━━━━━━━━━━━━━━━━━━━━━┳━━━━━━━━━━━━━━━┓\n",
              "┃\u001b[1m \u001b[0m\u001b[1mLayer (type)                   \u001b[0m\u001b[1m \u001b[0m┃\u001b[1m \u001b[0m\u001b[1mOutput Shape          \u001b[0m\u001b[1m \u001b[0m┃\u001b[1m \u001b[0m\u001b[1m      Param #\u001b[0m\u001b[1m \u001b[0m┃\n",
              "┡━━━━━━━━━━━━━━━━━━━━━━━━━━━━━━━━━╇━━━━━━━━━━━━━━━━━━━━━━━━╇━━━━━━━━━━━━━━━┩\n",
              "│ conv0 (\u001b[38;5;33mConv2D\u001b[0m)                  │ (\u001b[38;5;45mNone\u001b[0m, \u001b[38;5;34m128\u001b[0m, \u001b[38;5;34m128\u001b[0m, \u001b[38;5;34m64\u001b[0m)   │         \u001b[38;5;34m9,472\u001b[0m │\n",
              "├─────────────────────────────────┼────────────────────────┼───────────────┤\n",
              "│ bn0 (\u001b[38;5;33mBatchNormalization\u001b[0m)        │ (\u001b[38;5;45mNone\u001b[0m, \u001b[38;5;34m128\u001b[0m, \u001b[38;5;34m128\u001b[0m, \u001b[38;5;34m64\u001b[0m)   │           \u001b[38;5;34m256\u001b[0m │\n",
              "├─────────────────────────────────┼────────────────────────┼───────────────┤\n",
              "│ act0 (\u001b[38;5;33mReLU\u001b[0m)                     │ (\u001b[38;5;45mNone\u001b[0m, \u001b[38;5;34m128\u001b[0m, \u001b[38;5;34m128\u001b[0m, \u001b[38;5;34m64\u001b[0m)   │             \u001b[38;5;34m0\u001b[0m │\n",
              "├─────────────────────────────────┼────────────────────────┼───────────────┤\n",
              "│ pool0 (\u001b[38;5;33mMaxPooling2D\u001b[0m)            │ (\u001b[38;5;45mNone\u001b[0m, \u001b[38;5;34m64\u001b[0m, \u001b[38;5;34m64\u001b[0m, \u001b[38;5;34m64\u001b[0m)     │             \u001b[38;5;34m0\u001b[0m │\n",
              "├─────────────────────────────────┼────────────────────────┼───────────────┤\n",
              "│ block0_conv0 (\u001b[38;5;33mConv2D\u001b[0m)           │ (\u001b[38;5;45mNone\u001b[0m, \u001b[38;5;34m64\u001b[0m, \u001b[38;5;34m64\u001b[0m, \u001b[38;5;34m64\u001b[0m)     │       \u001b[38;5;34m102,464\u001b[0m │\n",
              "├─────────────────────────────────┼────────────────────────┼───────────────┤\n",
              "│ batch_normalization_731         │ (\u001b[38;5;45mNone\u001b[0m, \u001b[38;5;34m64\u001b[0m, \u001b[38;5;34m64\u001b[0m, \u001b[38;5;34m64\u001b[0m)     │           \u001b[38;5;34m256\u001b[0m │\n",
              "│ (\u001b[38;5;33mBatchNormalization\u001b[0m)            │                        │               │\n",
              "├─────────────────────────────────┼────────────────────────┼───────────────┤\n",
              "│ re_lu_731 (\u001b[38;5;33mReLU\u001b[0m)                │ (\u001b[38;5;45mNone\u001b[0m, \u001b[38;5;34m64\u001b[0m, \u001b[38;5;34m64\u001b[0m, \u001b[38;5;34m64\u001b[0m)     │             \u001b[38;5;34m0\u001b[0m │\n",
              "├─────────────────────────────────┼────────────────────────┼───────────────┤\n",
              "│ block0_conv1 (\u001b[38;5;33mConv2D\u001b[0m)           │ (\u001b[38;5;45mNone\u001b[0m, \u001b[38;5;34m64\u001b[0m, \u001b[38;5;34m64\u001b[0m, \u001b[38;5;34m64\u001b[0m)     │       \u001b[38;5;34m102,464\u001b[0m │\n",
              "├─────────────────────────────────┼────────────────────────┼───────────────┤\n",
              "│ batch_normalization_732         │ (\u001b[38;5;45mNone\u001b[0m, \u001b[38;5;34m64\u001b[0m, \u001b[38;5;34m64\u001b[0m, \u001b[38;5;34m64\u001b[0m)     │           \u001b[38;5;34m256\u001b[0m │\n",
              "│ (\u001b[38;5;33mBatchNormalization\u001b[0m)            │                        │               │\n",
              "├─────────────────────────────────┼────────────────────────┼───────────────┤\n",
              "│ re_lu_732 (\u001b[38;5;33mReLU\u001b[0m)                │ (\u001b[38;5;45mNone\u001b[0m, \u001b[38;5;34m64\u001b[0m, \u001b[38;5;34m64\u001b[0m, \u001b[38;5;34m64\u001b[0m)     │             \u001b[38;5;34m0\u001b[0m │\n",
              "├─────────────────────────────────┼────────────────────────┼───────────────┤\n",
              "│ max_pooling2d_354               │ (\u001b[38;5;45mNone\u001b[0m, \u001b[38;5;34m32\u001b[0m, \u001b[38;5;34m32\u001b[0m, \u001b[38;5;34m64\u001b[0m)     │             \u001b[38;5;34m0\u001b[0m │\n",
              "│ (\u001b[38;5;33mMaxPooling2D\u001b[0m)                  │                        │               │\n",
              "├─────────────────────────────────┼────────────────────────┼───────────────┤\n",
              "│ block1_conv0 (\u001b[38;5;33mConv2D\u001b[0m)           │ (\u001b[38;5;45mNone\u001b[0m, \u001b[38;5;34m32\u001b[0m, \u001b[38;5;34m32\u001b[0m, \u001b[38;5;34m64\u001b[0m)     │       \u001b[38;5;34m102,464\u001b[0m │\n",
              "├─────────────────────────────────┼────────────────────────┼───────────────┤\n",
              "│ batch_normalization_733         │ (\u001b[38;5;45mNone\u001b[0m, \u001b[38;5;34m32\u001b[0m, \u001b[38;5;34m32\u001b[0m, \u001b[38;5;34m64\u001b[0m)     │           \u001b[38;5;34m256\u001b[0m │\n",
              "│ (\u001b[38;5;33mBatchNormalization\u001b[0m)            │                        │               │\n",
              "├─────────────────────────────────┼────────────────────────┼───────────────┤\n",
              "│ re_lu_733 (\u001b[38;5;33mReLU\u001b[0m)                │ (\u001b[38;5;45mNone\u001b[0m, \u001b[38;5;34m32\u001b[0m, \u001b[38;5;34m32\u001b[0m, \u001b[38;5;34m64\u001b[0m)     │             \u001b[38;5;34m0\u001b[0m │\n",
              "├─────────────────────────────────┼────────────────────────┼───────────────┤\n",
              "│ block1_conv1 (\u001b[38;5;33mConv2D\u001b[0m)           │ (\u001b[38;5;45mNone\u001b[0m, \u001b[38;5;34m32\u001b[0m, \u001b[38;5;34m32\u001b[0m, \u001b[38;5;34m64\u001b[0m)     │       \u001b[38;5;34m102,464\u001b[0m │\n",
              "├─────────────────────────────────┼────────────────────────┼───────────────┤\n",
              "│ batch_normalization_734         │ (\u001b[38;5;45mNone\u001b[0m, \u001b[38;5;34m32\u001b[0m, \u001b[38;5;34m32\u001b[0m, \u001b[38;5;34m64\u001b[0m)     │           \u001b[38;5;34m256\u001b[0m │\n",
              "│ (\u001b[38;5;33mBatchNormalization\u001b[0m)            │                        │               │\n",
              "├─────────────────────────────────┼────────────────────────┼───────────────┤\n",
              "│ re_lu_734 (\u001b[38;5;33mReLU\u001b[0m)                │ (\u001b[38;5;45mNone\u001b[0m, \u001b[38;5;34m32\u001b[0m, \u001b[38;5;34m32\u001b[0m, \u001b[38;5;34m64\u001b[0m)     │             \u001b[38;5;34m0\u001b[0m │\n",
              "├─────────────────────────────────┼────────────────────────┼───────────────┤\n",
              "│ max_pooling2d_355               │ (\u001b[38;5;45mNone\u001b[0m, \u001b[38;5;34m16\u001b[0m, \u001b[38;5;34m16\u001b[0m, \u001b[38;5;34m64\u001b[0m)     │             \u001b[38;5;34m0\u001b[0m │\n",
              "│ (\u001b[38;5;33mMaxPooling2D\u001b[0m)                  │                        │               │\n",
              "├─────────────────────────────────┼────────────────────────┼───────────────┤\n",
              "│ flatten (\u001b[38;5;33mFlatten\u001b[0m)               │ (\u001b[38;5;45mNone\u001b[0m, \u001b[38;5;34m16384\u001b[0m)          │             \u001b[38;5;34m0\u001b[0m │\n",
              "├─────────────────────────────────┼────────────────────────┼───────────────┤\n",
              "│ output (\u001b[38;5;33mDense\u001b[0m)                  │ (\u001b[38;5;45mNone\u001b[0m, \u001b[38;5;34m3\u001b[0m)              │        \u001b[38;5;34m49,155\u001b[0m │\n",
              "└─────────────────────────────────┴────────────────────────┴───────────────┘\n"
            ],
            "text/html": [
              "<pre style=\"white-space:pre;overflow-x:auto;line-height:normal;font-family:Menlo,'DejaVu Sans Mono',consolas,'Courier New',monospace\">┏━━━━━━━━━━━━━━━━━━━━━━━━━━━━━━━━━┳━━━━━━━━━━━━━━━━━━━━━━━━┳━━━━━━━━━━━━━━━┓\n",
              "┃<span style=\"font-weight: bold\"> Layer (type)                    </span>┃<span style=\"font-weight: bold\"> Output Shape           </span>┃<span style=\"font-weight: bold\">       Param # </span>┃\n",
              "┡━━━━━━━━━━━━━━━━━━━━━━━━━━━━━━━━━╇━━━━━━━━━━━━━━━━━━━━━━━━╇━━━━━━━━━━━━━━━┩\n",
              "│ conv0 (<span style=\"color: #0087ff; text-decoration-color: #0087ff\">Conv2D</span>)                  │ (<span style=\"color: #00d7ff; text-decoration-color: #00d7ff\">None</span>, <span style=\"color: #00af00; text-decoration-color: #00af00\">128</span>, <span style=\"color: #00af00; text-decoration-color: #00af00\">128</span>, <span style=\"color: #00af00; text-decoration-color: #00af00\">64</span>)   │         <span style=\"color: #00af00; text-decoration-color: #00af00\">9,472</span> │\n",
              "├─────────────────────────────────┼────────────────────────┼───────────────┤\n",
              "│ bn0 (<span style=\"color: #0087ff; text-decoration-color: #0087ff\">BatchNormalization</span>)        │ (<span style=\"color: #00d7ff; text-decoration-color: #00d7ff\">None</span>, <span style=\"color: #00af00; text-decoration-color: #00af00\">128</span>, <span style=\"color: #00af00; text-decoration-color: #00af00\">128</span>, <span style=\"color: #00af00; text-decoration-color: #00af00\">64</span>)   │           <span style=\"color: #00af00; text-decoration-color: #00af00\">256</span> │\n",
              "├─────────────────────────────────┼────────────────────────┼───────────────┤\n",
              "│ act0 (<span style=\"color: #0087ff; text-decoration-color: #0087ff\">ReLU</span>)                     │ (<span style=\"color: #00d7ff; text-decoration-color: #00d7ff\">None</span>, <span style=\"color: #00af00; text-decoration-color: #00af00\">128</span>, <span style=\"color: #00af00; text-decoration-color: #00af00\">128</span>, <span style=\"color: #00af00; text-decoration-color: #00af00\">64</span>)   │             <span style=\"color: #00af00; text-decoration-color: #00af00\">0</span> │\n",
              "├─────────────────────────────────┼────────────────────────┼───────────────┤\n",
              "│ pool0 (<span style=\"color: #0087ff; text-decoration-color: #0087ff\">MaxPooling2D</span>)            │ (<span style=\"color: #00d7ff; text-decoration-color: #00d7ff\">None</span>, <span style=\"color: #00af00; text-decoration-color: #00af00\">64</span>, <span style=\"color: #00af00; text-decoration-color: #00af00\">64</span>, <span style=\"color: #00af00; text-decoration-color: #00af00\">64</span>)     │             <span style=\"color: #00af00; text-decoration-color: #00af00\">0</span> │\n",
              "├─────────────────────────────────┼────────────────────────┼───────────────┤\n",
              "│ block0_conv0 (<span style=\"color: #0087ff; text-decoration-color: #0087ff\">Conv2D</span>)           │ (<span style=\"color: #00d7ff; text-decoration-color: #00d7ff\">None</span>, <span style=\"color: #00af00; text-decoration-color: #00af00\">64</span>, <span style=\"color: #00af00; text-decoration-color: #00af00\">64</span>, <span style=\"color: #00af00; text-decoration-color: #00af00\">64</span>)     │       <span style=\"color: #00af00; text-decoration-color: #00af00\">102,464</span> │\n",
              "├─────────────────────────────────┼────────────────────────┼───────────────┤\n",
              "│ batch_normalization_731         │ (<span style=\"color: #00d7ff; text-decoration-color: #00d7ff\">None</span>, <span style=\"color: #00af00; text-decoration-color: #00af00\">64</span>, <span style=\"color: #00af00; text-decoration-color: #00af00\">64</span>, <span style=\"color: #00af00; text-decoration-color: #00af00\">64</span>)     │           <span style=\"color: #00af00; text-decoration-color: #00af00\">256</span> │\n",
              "│ (<span style=\"color: #0087ff; text-decoration-color: #0087ff\">BatchNormalization</span>)            │                        │               │\n",
              "├─────────────────────────────────┼────────────────────────┼───────────────┤\n",
              "│ re_lu_731 (<span style=\"color: #0087ff; text-decoration-color: #0087ff\">ReLU</span>)                │ (<span style=\"color: #00d7ff; text-decoration-color: #00d7ff\">None</span>, <span style=\"color: #00af00; text-decoration-color: #00af00\">64</span>, <span style=\"color: #00af00; text-decoration-color: #00af00\">64</span>, <span style=\"color: #00af00; text-decoration-color: #00af00\">64</span>)     │             <span style=\"color: #00af00; text-decoration-color: #00af00\">0</span> │\n",
              "├─────────────────────────────────┼────────────────────────┼───────────────┤\n",
              "│ block0_conv1 (<span style=\"color: #0087ff; text-decoration-color: #0087ff\">Conv2D</span>)           │ (<span style=\"color: #00d7ff; text-decoration-color: #00d7ff\">None</span>, <span style=\"color: #00af00; text-decoration-color: #00af00\">64</span>, <span style=\"color: #00af00; text-decoration-color: #00af00\">64</span>, <span style=\"color: #00af00; text-decoration-color: #00af00\">64</span>)     │       <span style=\"color: #00af00; text-decoration-color: #00af00\">102,464</span> │\n",
              "├─────────────────────────────────┼────────────────────────┼───────────────┤\n",
              "│ batch_normalization_732         │ (<span style=\"color: #00d7ff; text-decoration-color: #00d7ff\">None</span>, <span style=\"color: #00af00; text-decoration-color: #00af00\">64</span>, <span style=\"color: #00af00; text-decoration-color: #00af00\">64</span>, <span style=\"color: #00af00; text-decoration-color: #00af00\">64</span>)     │           <span style=\"color: #00af00; text-decoration-color: #00af00\">256</span> │\n",
              "│ (<span style=\"color: #0087ff; text-decoration-color: #0087ff\">BatchNormalization</span>)            │                        │               │\n",
              "├─────────────────────────────────┼────────────────────────┼───────────────┤\n",
              "│ re_lu_732 (<span style=\"color: #0087ff; text-decoration-color: #0087ff\">ReLU</span>)                │ (<span style=\"color: #00d7ff; text-decoration-color: #00d7ff\">None</span>, <span style=\"color: #00af00; text-decoration-color: #00af00\">64</span>, <span style=\"color: #00af00; text-decoration-color: #00af00\">64</span>, <span style=\"color: #00af00; text-decoration-color: #00af00\">64</span>)     │             <span style=\"color: #00af00; text-decoration-color: #00af00\">0</span> │\n",
              "├─────────────────────────────────┼────────────────────────┼───────────────┤\n",
              "│ max_pooling2d_354               │ (<span style=\"color: #00d7ff; text-decoration-color: #00d7ff\">None</span>, <span style=\"color: #00af00; text-decoration-color: #00af00\">32</span>, <span style=\"color: #00af00; text-decoration-color: #00af00\">32</span>, <span style=\"color: #00af00; text-decoration-color: #00af00\">64</span>)     │             <span style=\"color: #00af00; text-decoration-color: #00af00\">0</span> │\n",
              "│ (<span style=\"color: #0087ff; text-decoration-color: #0087ff\">MaxPooling2D</span>)                  │                        │               │\n",
              "├─────────────────────────────────┼────────────────────────┼───────────────┤\n",
              "│ block1_conv0 (<span style=\"color: #0087ff; text-decoration-color: #0087ff\">Conv2D</span>)           │ (<span style=\"color: #00d7ff; text-decoration-color: #00d7ff\">None</span>, <span style=\"color: #00af00; text-decoration-color: #00af00\">32</span>, <span style=\"color: #00af00; text-decoration-color: #00af00\">32</span>, <span style=\"color: #00af00; text-decoration-color: #00af00\">64</span>)     │       <span style=\"color: #00af00; text-decoration-color: #00af00\">102,464</span> │\n",
              "├─────────────────────────────────┼────────────────────────┼───────────────┤\n",
              "│ batch_normalization_733         │ (<span style=\"color: #00d7ff; text-decoration-color: #00d7ff\">None</span>, <span style=\"color: #00af00; text-decoration-color: #00af00\">32</span>, <span style=\"color: #00af00; text-decoration-color: #00af00\">32</span>, <span style=\"color: #00af00; text-decoration-color: #00af00\">64</span>)     │           <span style=\"color: #00af00; text-decoration-color: #00af00\">256</span> │\n",
              "│ (<span style=\"color: #0087ff; text-decoration-color: #0087ff\">BatchNormalization</span>)            │                        │               │\n",
              "├─────────────────────────────────┼────────────────────────┼───────────────┤\n",
              "│ re_lu_733 (<span style=\"color: #0087ff; text-decoration-color: #0087ff\">ReLU</span>)                │ (<span style=\"color: #00d7ff; text-decoration-color: #00d7ff\">None</span>, <span style=\"color: #00af00; text-decoration-color: #00af00\">32</span>, <span style=\"color: #00af00; text-decoration-color: #00af00\">32</span>, <span style=\"color: #00af00; text-decoration-color: #00af00\">64</span>)     │             <span style=\"color: #00af00; text-decoration-color: #00af00\">0</span> │\n",
              "├─────────────────────────────────┼────────────────────────┼───────────────┤\n",
              "│ block1_conv1 (<span style=\"color: #0087ff; text-decoration-color: #0087ff\">Conv2D</span>)           │ (<span style=\"color: #00d7ff; text-decoration-color: #00d7ff\">None</span>, <span style=\"color: #00af00; text-decoration-color: #00af00\">32</span>, <span style=\"color: #00af00; text-decoration-color: #00af00\">32</span>, <span style=\"color: #00af00; text-decoration-color: #00af00\">64</span>)     │       <span style=\"color: #00af00; text-decoration-color: #00af00\">102,464</span> │\n",
              "├─────────────────────────────────┼────────────────────────┼───────────────┤\n",
              "│ batch_normalization_734         │ (<span style=\"color: #00d7ff; text-decoration-color: #00d7ff\">None</span>, <span style=\"color: #00af00; text-decoration-color: #00af00\">32</span>, <span style=\"color: #00af00; text-decoration-color: #00af00\">32</span>, <span style=\"color: #00af00; text-decoration-color: #00af00\">64</span>)     │           <span style=\"color: #00af00; text-decoration-color: #00af00\">256</span> │\n",
              "│ (<span style=\"color: #0087ff; text-decoration-color: #0087ff\">BatchNormalization</span>)            │                        │               │\n",
              "├─────────────────────────────────┼────────────────────────┼───────────────┤\n",
              "│ re_lu_734 (<span style=\"color: #0087ff; text-decoration-color: #0087ff\">ReLU</span>)                │ (<span style=\"color: #00d7ff; text-decoration-color: #00d7ff\">None</span>, <span style=\"color: #00af00; text-decoration-color: #00af00\">32</span>, <span style=\"color: #00af00; text-decoration-color: #00af00\">32</span>, <span style=\"color: #00af00; text-decoration-color: #00af00\">64</span>)     │             <span style=\"color: #00af00; text-decoration-color: #00af00\">0</span> │\n",
              "├─────────────────────────────────┼────────────────────────┼───────────────┤\n",
              "│ max_pooling2d_355               │ (<span style=\"color: #00d7ff; text-decoration-color: #00d7ff\">None</span>, <span style=\"color: #00af00; text-decoration-color: #00af00\">16</span>, <span style=\"color: #00af00; text-decoration-color: #00af00\">16</span>, <span style=\"color: #00af00; text-decoration-color: #00af00\">64</span>)     │             <span style=\"color: #00af00; text-decoration-color: #00af00\">0</span> │\n",
              "│ (<span style=\"color: #0087ff; text-decoration-color: #0087ff\">MaxPooling2D</span>)                  │                        │               │\n",
              "├─────────────────────────────────┼────────────────────────┼───────────────┤\n",
              "│ flatten (<span style=\"color: #0087ff; text-decoration-color: #0087ff\">Flatten</span>)               │ (<span style=\"color: #00d7ff; text-decoration-color: #00d7ff\">None</span>, <span style=\"color: #00af00; text-decoration-color: #00af00\">16384</span>)          │             <span style=\"color: #00af00; text-decoration-color: #00af00\">0</span> │\n",
              "├─────────────────────────────────┼────────────────────────┼───────────────┤\n",
              "│ output (<span style=\"color: #0087ff; text-decoration-color: #0087ff\">Dense</span>)                  │ (<span style=\"color: #00d7ff; text-decoration-color: #00d7ff\">None</span>, <span style=\"color: #00af00; text-decoration-color: #00af00\">3</span>)              │        <span style=\"color: #00af00; text-decoration-color: #00af00\">49,155</span> │\n",
              "└─────────────────────────────────┴────────────────────────┴───────────────┘\n",
              "</pre>\n"
            ]
          },
          "metadata": {}
        },
        {
          "output_type": "display_data",
          "data": {
            "text/plain": [
              "\u001b[1m Total params: \u001b[0m\u001b[38;5;34m1,408,011\u001b[0m (5.37 MB)\n"
            ],
            "text/html": [
              "<pre style=\"white-space:pre;overflow-x:auto;line-height:normal;font-family:Menlo,'DejaVu Sans Mono',consolas,'Courier New',monospace\"><span style=\"font-weight: bold\"> Total params: </span><span style=\"color: #00af00; text-decoration-color: #00af00\">1,408,011</span> (5.37 MB)\n",
              "</pre>\n"
            ]
          },
          "metadata": {}
        },
        {
          "output_type": "display_data",
          "data": {
            "text/plain": [
              "\u001b[1m Trainable params: \u001b[0m\u001b[38;5;34m469,123\u001b[0m (1.79 MB)\n"
            ],
            "text/html": [
              "<pre style=\"white-space:pre;overflow-x:auto;line-height:normal;font-family:Menlo,'DejaVu Sans Mono',consolas,'Courier New',monospace\"><span style=\"font-weight: bold\"> Trainable params: </span><span style=\"color: #00af00; text-decoration-color: #00af00\">469,123</span> (1.79 MB)\n",
              "</pre>\n"
            ]
          },
          "metadata": {}
        },
        {
          "output_type": "display_data",
          "data": {
            "text/plain": [
              "\u001b[1m Non-trainable params: \u001b[0m\u001b[38;5;34m640\u001b[0m (2.50 KB)\n"
            ],
            "text/html": [
              "<pre style=\"white-space:pre;overflow-x:auto;line-height:normal;font-family:Menlo,'DejaVu Sans Mono',consolas,'Courier New',monospace\"><span style=\"font-weight: bold\"> Non-trainable params: </span><span style=\"color: #00af00; text-decoration-color: #00af00\">640</span> (2.50 KB)\n",
              "</pre>\n"
            ]
          },
          "metadata": {}
        },
        {
          "output_type": "display_data",
          "data": {
            "text/plain": [
              "\u001b[1m Optimizer params: \u001b[0m\u001b[38;5;34m938,248\u001b[0m (3.58 MB)\n"
            ],
            "text/html": [
              "<pre style=\"white-space:pre;overflow-x:auto;line-height:normal;font-family:Menlo,'DejaVu Sans Mono',consolas,'Courier New',monospace\"><span style=\"font-weight: bold\"> Optimizer params: </span><span style=\"color: #00af00; text-decoration-color: #00af00\">938,248</span> (3.58 MB)\n",
              "</pre>\n"
            ]
          },
          "metadata": {}
        },
        {
          "output_type": "stream",
          "name": "stdout",
          "text": [
            "💾 TFLite Model Size: 479184\n",
            "TFLite Quantized Model Accuracy: 0.8306\n",
            "🎯 Test accuracy: 0.8306\n"
          ]
        }
      ]
    },
    {
      "cell_type": "markdown",
      "source": [
        "## ⏳ Timing Analysis"
      ],
      "metadata": {
        "id": "j_F8O7Vh9bWe"
      }
    },
    {
      "cell_type": "code",
      "source": [
        "import time\n",
        "\n",
        "def evaluate_tflite_model(interpreter, test_ds):\n",
        "    # Get input and output details\n",
        "    input_details = interpreter.get_input_details()\n",
        "    output_details = interpreter.get_output_details()\n",
        "\n",
        "    input_index = input_details[0]['index']\n",
        "    output_index = output_details[0]['index']\n",
        "\n",
        "    correct = 0\n",
        "    total = 0\n",
        "    inference_times = []\n",
        "\n",
        "    for x_batch, y_batch in test_ds:\n",
        "        x_batch_np = x_batch.numpy()\n",
        "        y_true = tf.argmax(y_batch, axis=1).numpy()\n",
        "\n",
        "        for i in range(x_batch_np.shape[0]):\n",
        "            input_tensor = np.expand_dims(x_batch_np[i], axis=0).astype(input_details[0]['dtype'])\n",
        "            interpreter.set_tensor(input_index, input_tensor)\n",
        "\n",
        "            # Time measurement starts here\n",
        "            start_time = time.time()\n",
        "            interpreter.invoke()\n",
        "            end_time = time.time()\n",
        "            # Time per inference in milliseconds\n",
        "            inference_times.append((end_time - start_time) * 1000)\n",
        "\n",
        "            output = interpreter.get_tensor(output_index)\n",
        "            y_pred = np.argmax(output)\n",
        "\n",
        "            if y_pred == y_true[i]:\n",
        "                correct += 1\n",
        "            total += 1\n",
        "\n",
        "    accuracy = correct / total\n",
        "    avg_inference_time = sum(inference_times) / len(inference_times)\n",
        "\n",
        "    print(f\"TFLite Quantized Model Accuracy: {accuracy:.4f}\")\n",
        "    print(f\"Average Inference Time (ms/sample): {avg_inference_time:.4f}\")\n",
        "\n",
        "    return accuracy, avg_inference_time"
      ],
      "metadata": {
        "id": "nyNoXCyg9Q9t"
      },
      "execution_count": 23,
      "outputs": []
    },
    {
      "cell_type": "code",
      "source": [
        "supernetwork = tf.keras.models.load_model('supernetwork.keras')\n",
        "best_model = tf.keras.models.load_model('best_model.keras')\n",
        "\n",
        "with suppress_output():\n",
        "    tflite_model, interpreter = convert_to_tflite(supernetwork)\n",
        "supernetwork_accuracy, supernetwork_time = evaluate_tflite_model(interpreter, test_ds)\n",
        "print(f\"Supernetwork flash size: {len(tflite_model)}\")\n",
        "\n",
        "with suppress_output():\n",
        "    tflite_model, interpreter = convert_to_tflite(best_model)\n",
        "best_model_accuracy, best_model_time = evaluate_tflite_model(interpreter, test_ds)\n",
        "print(f\"Best model flash size: {len(tflite_model)}\")"
      ],
      "metadata": {
        "colab": {
          "base_uri": "https://localhost:8080/"
        },
        "id": "kwhaCsYv9UbS",
        "outputId": "0d96a89c-e03b-419a-e7b9-864f33c35e29"
      },
      "execution_count": 28,
      "outputs": [
        {
          "output_type": "stream",
          "name": "stdout",
          "text": [
            "TFLite Quantized Model Accuracy: 0.9247\n",
            "Average Inference Time (ms/sample): 47.8485\n",
            "Supernetwork flash size: 2736568\n",
            "TFLite Quantized Model Accuracy: 0.8306\n",
            "Average Inference Time (ms/sample): 10.9453\n",
            "Best model flash size: 479184\n"
          ]
        }
      ]
    },
    {
      "cell_type": "code",
      "source": [
        "import matplotlib.pyplot as plt\n",
        "import numpy as np\n",
        "\n",
        "# Example data from your outputs\n",
        "accuracies = [0.9247, 0.8306]\n",
        "times = [47.8485, 10.9453]\n",
        "flash_sizes = [2736568, 479184]\n",
        "\n",
        "# Normalize data (scale to 0–1)\n",
        "acc_norm = [a / max(accuracies) for a in accuracies]\n",
        "time_norm = [t / max(times) for t in times]\n",
        "flash_norm = [f / max(flash_sizes) for f in flash_sizes]\n",
        "\n",
        "supernetwork = [acc_norm[0], time_norm[0], flash_norm[0]]\n",
        "best_model = [acc_norm[1], time_norm[1], flash_norm[1]]\n",
        "\n",
        "labels = ['Norm. Accuracy', 'Norm. Inference Time', 'Norm. Size']\n",
        "x = np.arange(len(labels))  # label locations\n",
        "width = 0.10  # bar width\n",
        "\n",
        "fig, ax = plt.subplots(figsize=(8, 6))\n",
        "bars1 = ax.bar(x, supernetwork, width, label='Supernetwork')\n",
        "bars2 = ax.bar(x + width, best_model, width, label='Best Model')\n",
        "\n",
        "# Labels & title\n",
        "ax.set_ylabel('Normalized Value')\n",
        "ax.set_title('Normalized Metrics Summary')\n",
        "ax.set_xticks(x)\n",
        "ax.set_xticklabels(labels)\n",
        "ax.legend()\n",
        "\n",
        "# Optionally annotate bars\n",
        "def annotate_bars(bars, values):\n",
        "    for bar, value in zip(bars, values):\n",
        "        height = bar.get_height()\n",
        "        ax.annotate(f'{value:.2f}',\n",
        "                    xy=(bar.get_x() + bar.get_width() / 2, height),\n",
        "                    xytext=(0, 3),\n",
        "                    textcoords='offset points',\n",
        "                    ha='right', va='top')\n",
        "\n",
        "annotate_bars(bars1, supernetwork)\n",
        "annotate_bars(bars2, best_model)\n",
        "\n",
        "plt.tight_layout()\n",
        "plt.show()"
      ],
      "metadata": {
        "colab": {
          "base_uri": "https://localhost:8080/",
          "height": 607
        },
        "id": "yhxThLUl-lL3",
        "outputId": "f5b2abd2-f804-4ada-f0e5-7275d97ceaac"
      },
      "execution_count": 52,
      "outputs": [
        {
          "output_type": "display_data",
          "data": {
            "text/plain": [
              "<Figure size 800x600 with 1 Axes>"
            ],
            "image/png": "[encoded data removed]"
          },
          "metadata": {}
        }
      ]
    }
  ]
}